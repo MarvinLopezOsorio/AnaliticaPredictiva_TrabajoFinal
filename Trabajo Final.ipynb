{
  "cells": [
    {
      "cell_type": "markdown",
      "metadata": {
        "id": "view-in-github",
        "colab_type": "text"
      },
      "source": [
        "<a href=\"https://colab.research.google.com/github/MarvinLopezOsorio/AnaliticaPredictiva_TrabajoFinal/blob/Marvin/Trabajo%20Final.ipynb\" target=\"_parent\"><img src=\"https://colab.research.google.com/assets/colab-badge.svg\" alt=\"Open In Colab\"/></a>"
      ]
    },
    {
      "cell_type": "markdown",
      "source": [
        "<center>\n",
        "\n",
        "![Captura de Pantalla 2021-08-16 a la(s) 23.25.35.png](data:image/png;base64,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)\n",
        "\n",
        "</center>\n"
      ],
      "metadata": {
        "id": "85nbVYjMzsyN"
      }
    },
    {
      "cell_type": "markdown",
      "source": [
        "<center><h1><b>\n",
        "Dirección de Estudios de Posgrado y Educación Continua\n",
        "<h2><b>\n",
        "Analítica Predictiva y Machine Learning con R, Python y Databricks</center>"
      ],
      "metadata": {
        "id": "lml7QNJfzssM"
      }
    },
    {
      "cell_type": "markdown",
      "source": [
        "[UNI-DEPEC](https://posgrado.uni.edu.ni)"
      ],
      "metadata": {
        "id": "MbBmASTHzspU"
      }
    },
    {
      "cell_type": "markdown",
      "source": [
        "**Estudiantes:** \n",
        "\n",
        "*   Marvin López Osorio\n",
        "*   Eduardo Rivera"
      ],
      "metadata": {
        "id": "SrdhCIRRzskI"
      }
    },
    {
      "cell_type": "markdown",
      "source": [
        "# **Trabajo Final**\n",
        "## **Modelo de Clasificación: Análisis y desarrollo de modelo de clasificación de no aprobación de estudiantes de primer ciclo universitario utilizando Python**\n",
        "Se desarrolló un modelo de aprendizaje automático de tipo clasificación para predecir el resultado de aprobación de estudiantes en el primer ciclo universitario. \n",
        "\n",
        "El estudio se basó en un conjunto de datos generales, encuestas de hábitos de estudio y resultados de análisis psicopedagógicos de los estudiantes del primer ciclo de carreras de ingeniería en una universidad de El Salvador. \n",
        "\n",
        "Se confirmaron hipótesis respecto a las relaciones entre las variables involucradas, y a la vez se encontraron correspondencias no previstas entre las variables de estudio.\n",
        "\n",
        "Se creo un [repositorio en GitHub](https://github.com/MarvinLopezOsorio/AnaliticaPredictiva_TrabajoFinal) donde se almacena la base de datos y el presente cuaderno para consultas futuras."
      ],
      "metadata": {
        "id": "SFvSGDNb0NTt"
      }
    },
    {
      "cell_type": "markdown",
      "source": [
        "## **Objetivo**\n",
        "Predecir si un estudiante reprobará el primer ciclo universitario mediante un modelo de clasificación basado en variables psicopedagógicas, conductuales (malos hábitos) y generales."
      ],
      "metadata": {
        "id": "if_xiANr0MDx"
      }
    },
    {
      "cell_type": "markdown",
      "source": [
        "## **Antecedentes**\n",
        "Una universidad de El Salvador desde el año 2013 se planteó el problema de cómo dar acompañamiento a los estudiantes con el objetivo de reducir la deserción en los primeros años de carreras universitarias.\n",
        "\n",
        "\n",
        "Con la cantidad de estudiantes cercana a siete mil, en el año 2013, se tomaron algunas decisiones:\n",
        "*   Aplicar una prueba psicométrica para identificar aptitudes y hábitos en los estudiantes de nuevo ingreso.\n",
        "*   Crear departamento de psicopedagogía que aplicara la prueba y apoyara a los estudiantes, aconsejándoles con base en sus aptitudes.\n",
        "*   Crear programas de apoyo a los estudiantes para mejorar sus aptitudes.\n",
        "\n",
        "En base a lo anterior, se creó en el 2014 el departamento \n",
        "de psicopedagogía y a partir del 2015 se empezó a aplicar dicha prueba para iniciar una base de datos que sirviera de insumo para crear los programas de apoyo a estudiantes de la universidad.\n",
        "\n",
        "En 2016, se inició a trabajar en la posibilidad de identificar a los estudiantes que necesitaran mayor orientación para seleccionar la carrera que cursarían y tener éxito en la misma. A partir esta iniciativa, se tomarían decisiones de creación de programas de apoyo y orientación estudiantil para reducir la tasa de deserción que en ese año rondó el 20%.\n",
        "\n",
        "Se obtuvo de parte del departamento de psicopedagogía una base de datos que contiene datos de 41 carreras, con ingresos de estudiantes entre 2017 y 2021 y las variables psicopedagógicas relevantes."
      ],
      "metadata": {
        "id": "rABQ2uVv8BQM"
      }
    },
    {
      "cell_type": "markdown",
      "source": [
        "##**Desarrollo**"
      ],
      "metadata": {
        "id": "hNUFbvdmHE3n"
      }
    },
    {
      "cell_type": "markdown",
      "source": [
        "###**Descripción de los datos obtenidos**\n"
      ],
      "metadata": {
        "id": "3ssJh2JFHNxZ"
      }
    },
    {
      "cell_type": "markdown",
      "source": [
        "####****Carga de librerías necesarias****"
      ],
      "metadata": {
        "id": "zDBTZp2GILpv"
      }
    },
    {
      "cell_type": "code",
      "execution_count": 1,
      "metadata": {
        "id": "lIYdn1woOS1n"
      },
      "outputs": [],
      "source": [
        "import numpy as np\n",
        "import pandas as pd\n",
        "import matplotlib.pyplot as plt\n",
        "import seaborn as sns"
      ]
    },
    {
      "cell_type": "markdown",
      "source": [
        "####****Carga de datos****"
      ],
      "metadata": {
        "id": "AlfObuxUITUZ"
      }
    },
    {
      "cell_type": "code",
      "source": [
        "#Referencias al archivo en repositorio de origen y carga de datos\n",
        "repo = 'https://github.com/MarvinLopezOsorio/AnaliticaPredictiva_TrabajoFinal/blob/main/Base%20de%20Datos%20Universidad.xlsx?raw=True'\n",
        "datos = pd.read_excel(repo)\n",
        "datos.head(3)"
      ],
      "metadata": {
        "colab": {
          "base_uri": "https://localhost:8080/",
          "height": 0
        },
        "id": "zdENSgxxuHOG",
        "outputId": "8433c94c-f708-452e-b692-53d326c6ae1a"
      },
      "execution_count": 2,
      "outputs": [
        {
          "output_type": "execute_result",
          "data": {
            "text/html": [
              "<div>\n",
              "<style scoped>\n",
              "    .dataframe tbody tr th:only-of-type {\n",
              "        vertical-align: middle;\n",
              "    }\n",
              "\n",
              "    .dataframe tbody tr th {\n",
              "        vertical-align: top;\n",
              "    }\n",
              "\n",
              "    .dataframe thead th {\n",
              "        text-align: right;\n",
              "    }\n",
              "</style>\n",
              "<table border=\"1\" class=\"dataframe\">\n",
              "  <thead>\n",
              "    <tr style=\"text-align: right;\">\n",
              "      <th></th>\n",
              "      <th>Ingreso</th>\n",
              "      <th>Estado</th>\n",
              "      <th>Sexo</th>\n",
              "      <th>Municipio</th>\n",
              "      <th>Edad</th>\n",
              "      <th>Paes</th>\n",
              "      <th>Carrera</th>\n",
              "      <th>Facultad</th>\n",
              "      <th>Segunda carrera</th>\n",
              "      <th>CUM</th>\n",
              "      <th>Porcentaje de avance</th>\n",
              "      <th>Estado actual</th>\n",
              "      <th>Razonamiento Verbal (DAT- VR)</th>\n",
              "      <th>Relaciones Espaciales (DAT - SR)</th>\n",
              "      <th>Razonamiento Abstracto (DAT- AR)</th>\n",
              "      <th>Aptitud Numérica (DAT - NA)</th>\n",
              "      <th>Razonamiento Mecánico (DAT-MR)</th>\n",
              "      <th>Rapidez y precisión perceptiva (DAT -CSA)</th>\n",
              "      <th>Hábitos</th>\n",
              "      <th>Aprobación</th>\n",
              "      <th>tipo institución</th>\n",
              "    </tr>\n",
              "  </thead>\n",
              "  <tbody>\n",
              "    <tr>\n",
              "      <th>0</th>\n",
              "      <td>2017</td>\n",
              "      <td>ACTIVO</td>\n",
              "      <td>Femenino</td>\n",
              "      <td>Soyapango</td>\n",
              "      <td>23</td>\n",
              "      <td>5.52</td>\n",
              "      <td>Licenciatura en Idiomas con especialidad en la...</td>\n",
              "      <td>Facultad de CC. y Humanidades</td>\n",
              "      <td>NaN</td>\n",
              "      <td>8.4</td>\n",
              "      <td>77.14</td>\n",
              "      <td>ACTIVO</td>\n",
              "      <td>75</td>\n",
              "      <td>15</td>\n",
              "      <td>20</td>\n",
              "      <td>5</td>\n",
              "      <td>45</td>\n",
              "      <td>5</td>\n",
              "      <td>5</td>\n",
              "      <td>Aprobado</td>\n",
              "      <td>Privado</td>\n",
              "    </tr>\n",
              "    <tr>\n",
              "      <th>1</th>\n",
              "      <td>2017</td>\n",
              "      <td>ACTIVO</td>\n",
              "      <td>Femenino</td>\n",
              "      <td>Soyapango</td>\n",
              "      <td>23</td>\n",
              "      <td>4.50</td>\n",
              "      <td>Licenciatura en Ciencias de la Comunicación</td>\n",
              "      <td>Facultad de CC. y Humanidades</td>\n",
              "      <td>NaN</td>\n",
              "      <td>8.6</td>\n",
              "      <td>94.00</td>\n",
              "      <td>ACTIVO</td>\n",
              "      <td>75</td>\n",
              "      <td>20</td>\n",
              "      <td>15</td>\n",
              "      <td>50</td>\n",
              "      <td>15</td>\n",
              "      <td>5</td>\n",
              "      <td>1</td>\n",
              "      <td>Aprobado</td>\n",
              "      <td>Privado</td>\n",
              "    </tr>\n",
              "    <tr>\n",
              "      <th>2</th>\n",
              "      <td>2017</td>\n",
              "      <td>ACTIVO</td>\n",
              "      <td>Femenino</td>\n",
              "      <td>Soyapango</td>\n",
              "      <td>24</td>\n",
              "      <td>3.83</td>\n",
              "      <td>Licenciatura en Idiomas con especialidad en Tu...</td>\n",
              "      <td>Facultad de CC. y Humanidades</td>\n",
              "      <td>NaN</td>\n",
              "      <td>7.6</td>\n",
              "      <td>79.41</td>\n",
              "      <td>ACTIVO</td>\n",
              "      <td>45</td>\n",
              "      <td>5</td>\n",
              "      <td>10</td>\n",
              "      <td>30</td>\n",
              "      <td>15</td>\n",
              "      <td>5</td>\n",
              "      <td>4</td>\n",
              "      <td>Aprobado</td>\n",
              "      <td>Público</td>\n",
              "    </tr>\n",
              "  </tbody>\n",
              "</table>\n",
              "</div>"
            ],
            "text/plain": [
              "   Ingreso  Estado      Sexo  ... Hábitos  Aprobación  tipo institución\n",
              "0     2017  ACTIVO  Femenino  ...       5    Aprobado           Privado\n",
              "1     2017  ACTIVO  Femenino  ...       1    Aprobado           Privado\n",
              "2     2017  ACTIVO  Femenino  ...       4    Aprobado           Público\n",
              "\n",
              "[3 rows x 21 columns]"
            ]
          },
          "metadata": {},
          "execution_count": 2
        }
      ]
    },
    {
      "cell_type": "markdown",
      "source": [
        "El dataset original continene las siguientes variables:\n",
        "\n",
        "*   Ingreso, \n",
        "*   Estado,\n",
        "*   Sexo, \n",
        "*   Municipio, \n",
        "*   Edad, \n",
        "*   Paes, \n",
        "*   Carrera,\n",
        "*   Facultad, \n",
        "*   Segunda carrera, \n",
        "*   CUM, \n",
        "*   Porcentaje de avance,\n",
        "*   Estado actual, \n",
        "*   Razonamiento Verbal (DAT- VR),\n",
        "*   Relaciones Espaciales (DAT - SR), \n",
        "*   Razonamiento Abstracto (DAT- AR),\n",
        "*   Aptitud Numérica (DAT - NA), \n",
        "*   Razonamiento Mecánico (DAT-MR),\n",
        "*   Rapidez y precisión perceptiva (DAT -CSA), \n",
        "*   Hábitos, \n",
        "*   Aprobación,\n",
        "*   tipo institución\n",
        "\n",
        "Se realizaron cambios a los nombres para que facilitar el manejo del dataset.\n"
      ],
      "metadata": {
        "id": "6lc4zok-I8dM"
      }
    },
    {
      "cell_type": "code",
      "source": [
        "Columnas = ['Ingreso', 'Estado', 'Sexo', 'Municipio', 'Edad', 'Paes', 'Carrera', 'Facultad', 'Segunda_carrera', 'CUM', 'Avance', \n",
        "            'Estado_actual', 'DAT_VR', 'DAT_SR', 'DAT_AR', 'DAT_NA', 'DAT_MR', 'DAT_CSA', 'Hábitos', 'Aprobacion', 'Institucion']\n",
        "datos.columns = Columnas"
      ],
      "metadata": {
        "id": "C1gdX7HWOTz4"
      },
      "execution_count": 3,
      "outputs": []
    },
    {
      "cell_type": "markdown",
      "source": [
        "El problema de estudio puede ser abordado como una regresión sobre la variable 'CUM', o como clasificación sobre la variable 'Aprobacion'. En este caso se consideró conveniente realizar clasificación sobre 'Aprobacion', ya que el objetivo principal de la institución es identificar aquellos estudiantes que puedan tener deficiencias, y buscar corregirlas, independientemente de la nota que puedan obtener.\n",
        "\n",
        "Por otra parte, para evitar redundancia, se puede descartar la variable Estado, debido a la situación más reciente dada por Estado_actual.\n",
        "\n",
        "Es plausible considerar que las variables 'Carrera' y 'Facultad' pueden ser redundantes, sin embargo, se decidió dejarlas presentes en el desarrollo del modelo, ya que una facultad engloba varias carreras y en algunas carreras se tienen muy pocas observaciones, podría ser relevante dejar ambas.\n"
      ],
      "metadata": {
        "id": "FY02IrxPSZxv"
      }
    },
    {
      "cell_type": "code",
      "source": [
        "datos.drop(columns=['Estado', 'CUM'])\n",
        "datos.head(3)"
      ],
      "metadata": {
        "colab": {
          "base_uri": "https://localhost:8080/",
          "height": 0
        },
        "id": "JgTJPQvzuUo6",
        "outputId": "113d4d50-610a-4e84-fa9e-66b11752798e"
      },
      "execution_count": 4,
      "outputs": [
        {
          "output_type": "execute_result",
          "data": {
            "text/html": [
              "<div>\n",
              "<style scoped>\n",
              "    .dataframe tbody tr th:only-of-type {\n",
              "        vertical-align: middle;\n",
              "    }\n",
              "\n",
              "    .dataframe tbody tr th {\n",
              "        vertical-align: top;\n",
              "    }\n",
              "\n",
              "    .dataframe thead th {\n",
              "        text-align: right;\n",
              "    }\n",
              "</style>\n",
              "<table border=\"1\" class=\"dataframe\">\n",
              "  <thead>\n",
              "    <tr style=\"text-align: right;\">\n",
              "      <th></th>\n",
              "      <th>Ingreso</th>\n",
              "      <th>Estado</th>\n",
              "      <th>Sexo</th>\n",
              "      <th>Municipio</th>\n",
              "      <th>Edad</th>\n",
              "      <th>Paes</th>\n",
              "      <th>Carrera</th>\n",
              "      <th>Facultad</th>\n",
              "      <th>Segunda_carrera</th>\n",
              "      <th>CUM</th>\n",
              "      <th>Avance</th>\n",
              "      <th>Estado_actual</th>\n",
              "      <th>DAT_VR</th>\n",
              "      <th>DAT_SR</th>\n",
              "      <th>DAT_AR</th>\n",
              "      <th>DAT_NA</th>\n",
              "      <th>DAT_MR</th>\n",
              "      <th>DAT_CSA</th>\n",
              "      <th>Hábitos</th>\n",
              "      <th>Aprobacion</th>\n",
              "      <th>Institucion</th>\n",
              "    </tr>\n",
              "  </thead>\n",
              "  <tbody>\n",
              "    <tr>\n",
              "      <th>0</th>\n",
              "      <td>2017</td>\n",
              "      <td>ACTIVO</td>\n",
              "      <td>Femenino</td>\n",
              "      <td>Soyapango</td>\n",
              "      <td>23</td>\n",
              "      <td>5.52</td>\n",
              "      <td>Licenciatura en Idiomas con especialidad en la...</td>\n",
              "      <td>Facultad de CC. y Humanidades</td>\n",
              "      <td>NaN</td>\n",
              "      <td>8.4</td>\n",
              "      <td>77.14</td>\n",
              "      <td>ACTIVO</td>\n",
              "      <td>75</td>\n",
              "      <td>15</td>\n",
              "      <td>20</td>\n",
              "      <td>5</td>\n",
              "      <td>45</td>\n",
              "      <td>5</td>\n",
              "      <td>5</td>\n",
              "      <td>Aprobado</td>\n",
              "      <td>Privado</td>\n",
              "    </tr>\n",
              "    <tr>\n",
              "      <th>1</th>\n",
              "      <td>2017</td>\n",
              "      <td>ACTIVO</td>\n",
              "      <td>Femenino</td>\n",
              "      <td>Soyapango</td>\n",
              "      <td>23</td>\n",
              "      <td>4.50</td>\n",
              "      <td>Licenciatura en Ciencias de la Comunicación</td>\n",
              "      <td>Facultad de CC. y Humanidades</td>\n",
              "      <td>NaN</td>\n",
              "      <td>8.6</td>\n",
              "      <td>94.00</td>\n",
              "      <td>ACTIVO</td>\n",
              "      <td>75</td>\n",
              "      <td>20</td>\n",
              "      <td>15</td>\n",
              "      <td>50</td>\n",
              "      <td>15</td>\n",
              "      <td>5</td>\n",
              "      <td>1</td>\n",
              "      <td>Aprobado</td>\n",
              "      <td>Privado</td>\n",
              "    </tr>\n",
              "    <tr>\n",
              "      <th>2</th>\n",
              "      <td>2017</td>\n",
              "      <td>ACTIVO</td>\n",
              "      <td>Femenino</td>\n",
              "      <td>Soyapango</td>\n",
              "      <td>24</td>\n",
              "      <td>3.83</td>\n",
              "      <td>Licenciatura en Idiomas con especialidad en Tu...</td>\n",
              "      <td>Facultad de CC. y Humanidades</td>\n",
              "      <td>NaN</td>\n",
              "      <td>7.6</td>\n",
              "      <td>79.41</td>\n",
              "      <td>ACTIVO</td>\n",
              "      <td>45</td>\n",
              "      <td>5</td>\n",
              "      <td>10</td>\n",
              "      <td>30</td>\n",
              "      <td>15</td>\n",
              "      <td>5</td>\n",
              "      <td>4</td>\n",
              "      <td>Aprobado</td>\n",
              "      <td>Público</td>\n",
              "    </tr>\n",
              "  </tbody>\n",
              "</table>\n",
              "</div>"
            ],
            "text/plain": [
              "   Ingreso  Estado      Sexo  ... Hábitos  Aprobacion  Institucion\n",
              "0     2017  ACTIVO  Femenino  ...       5    Aprobado      Privado\n",
              "1     2017  ACTIVO  Femenino  ...       1    Aprobado      Privado\n",
              "2     2017  ACTIVO  Femenino  ...       4    Aprobado      Público\n",
              "\n",
              "[3 rows x 21 columns]"
            ]
          },
          "metadata": {},
          "execution_count": 4
        }
      ]
    },
    {
      "cell_type": "markdown",
      "source": [
        "###**Tipos de datos**"
      ],
      "metadata": {
        "id": "qKIbmwg2bo1n"
      }
    },
    {
      "cell_type": "code",
      "source": [
        "datos.info()\n"
      ],
      "metadata": {
        "id": "ms0NsTeDa8hK",
        "outputId": "59ce1f08-b2ac-40ef-f647-efbbb3731059",
        "colab": {
          "base_uri": "https://localhost:8080/"
        }
      },
      "execution_count": 5,
      "outputs": [
        {
          "output_type": "stream",
          "name": "stdout",
          "text": [
            "<class 'pandas.core.frame.DataFrame'>\n",
            "RangeIndex: 5992 entries, 0 to 5991\n",
            "Data columns (total 21 columns):\n",
            " #   Column           Non-Null Count  Dtype  \n",
            "---  ------           --------------  -----  \n",
            " 0   Ingreso          5992 non-null   int64  \n",
            " 1   Estado           5992 non-null   object \n",
            " 2   Sexo             5992 non-null   object \n",
            " 3   Municipio        5992 non-null   object \n",
            " 4   Edad             5992 non-null   int64  \n",
            " 5   Paes             5992 non-null   float64\n",
            " 6   Carrera          5992 non-null   object \n",
            " 7   Facultad         5992 non-null   object \n",
            " 8   Segunda_carrera  792 non-null    object \n",
            " 9   CUM              5992 non-null   float64\n",
            " 10  Avance           5992 non-null   float64\n",
            " 11  Estado_actual    5992 non-null   object \n",
            " 12  DAT_VR           5992 non-null   int64  \n",
            " 13  DAT_SR           5992 non-null   int64  \n",
            " 14  DAT_AR           5992 non-null   int64  \n",
            " 15  DAT_NA           5992 non-null   int64  \n",
            " 16  DAT_MR           5992 non-null   int64  \n",
            " 17  DAT_CSA          5992 non-null   int64  \n",
            " 18  Hábitos          5992 non-null   int64  \n",
            " 19  Aprobacion       5992 non-null   object \n",
            " 20  Institucion      5992 non-null   object \n",
            "dtypes: float64(3), int64(9), object(9)\n",
            "memory usage: 983.2+ KB\n"
          ]
        }
      ]
    },
    {
      "cell_type": "code",
      "source": [
        "datos.shape"
      ],
      "metadata": {
        "id": "CEVGKCK8cHMQ",
        "outputId": "cc7a0878-aac1-4521-85f0-737e8031ada3",
        "colab": {
          "base_uri": "https://localhost:8080/"
        }
      },
      "execution_count": 6,
      "outputs": [
        {
          "output_type": "execute_result",
          "data": {
            "text/plain": [
              "(5992, 21)"
            ]
          },
          "metadata": {},
          "execution_count": 6
        }
      ]
    },
    {
      "cell_type": "markdown",
      "source": [
        "Se tienen 5992 observaciones, con 21 variables, y estas observaciones se han obtenido entre el año 2017 y 2021"
      ],
      "metadata": {
        "id": "3SvlqSeCcSuG"
      }
    },
    {
      "cell_type": "code",
      "source": [
        "datos.size"
      ],
      "metadata": {
        "id": "LbLPciLXcNO3",
        "outputId": "11224067-64a7-45dc-d3ab-112bd013c9fc",
        "colab": {
          "base_uri": "https://localhost:8080/"
        }
      },
      "execution_count": 7,
      "outputs": [
        {
          "output_type": "execute_result",
          "data": {
            "text/plain": [
              "125832"
            ]
          },
          "metadata": {},
          "execution_count": 7
        }
      ]
    },
    {
      "cell_type": "code",
      "source": [
        "datos.isna().sum().sort_values() \n"
      ],
      "metadata": {
        "id": "zsvVC1cGcpcQ",
        "outputId": "d53b9335-2f05-4352-8624-b1b9f184f813",
        "colab": {
          "base_uri": "https://localhost:8080/"
        }
      },
      "execution_count": 8,
      "outputs": [
        {
          "output_type": "execute_result",
          "data": {
            "text/plain": [
              "Ingreso               0\n",
              "Hábitos               0\n",
              "DAT_CSA               0\n",
              "DAT_MR                0\n",
              "DAT_NA                0\n",
              "DAT_AR                0\n",
              "DAT_SR                0\n",
              "DAT_VR                0\n",
              "Estado_actual         0\n",
              "Aprobacion            0\n",
              "Avance                0\n",
              "Facultad              0\n",
              "Carrera               0\n",
              "Paes                  0\n",
              "Edad                  0\n",
              "Municipio             0\n",
              "Sexo                  0\n",
              "Estado                0\n",
              "CUM                   0\n",
              "Institucion           0\n",
              "Segunda_carrera    5200\n",
              "dtype: int64"
            ]
          },
          "metadata": {},
          "execution_count": 8
        }
      ]
    },
    {
      "cell_type": "markdown",
      "source": [
        "Existe una variable llamada \"Segunda carrera\", la cuál no es relevante, ya que la mayoría de los estudiantes no completan esta parte, y como puede verse 5200 de las observaciones tienen valor ausente. \n",
        "Se procede a eliminar dicha columna del dataframe"
      ],
      "metadata": {
        "id": "D2f_FnPPc22g"
      }
    },
    {
      "cell_type": "code",
      "source": [
        "datos=datos.drop(columns=['Segunda_carrera'])"
      ],
      "metadata": {
        "id": "kLQwrUElfVgn"
      },
      "execution_count": 9,
      "outputs": []
    },
    {
      "cell_type": "code",
      "source": [
        "datos.info()"
      ],
      "metadata": {
        "id": "vtGf-UfngvvP",
        "outputId": "a4cc184b-883a-4385-cf71-8f72d0b7089a",
        "colab": {
          "base_uri": "https://localhost:8080/"
        }
      },
      "execution_count": 10,
      "outputs": [
        {
          "output_type": "stream",
          "name": "stdout",
          "text": [
            "<class 'pandas.core.frame.DataFrame'>\n",
            "RangeIndex: 5992 entries, 0 to 5991\n",
            "Data columns (total 20 columns):\n",
            " #   Column         Non-Null Count  Dtype  \n",
            "---  ------         --------------  -----  \n",
            " 0   Ingreso        5992 non-null   int64  \n",
            " 1   Estado         5992 non-null   object \n",
            " 2   Sexo           5992 non-null   object \n",
            " 3   Municipio      5992 non-null   object \n",
            " 4   Edad           5992 non-null   int64  \n",
            " 5   Paes           5992 non-null   float64\n",
            " 6   Carrera        5992 non-null   object \n",
            " 7   Facultad       5992 non-null   object \n",
            " 8   CUM            5992 non-null   float64\n",
            " 9   Avance         5992 non-null   float64\n",
            " 10  Estado_actual  5992 non-null   object \n",
            " 11  DAT_VR         5992 non-null   int64  \n",
            " 12  DAT_SR         5992 non-null   int64  \n",
            " 13  DAT_AR         5992 non-null   int64  \n",
            " 14  DAT_NA         5992 non-null   int64  \n",
            " 15  DAT_MR         5992 non-null   int64  \n",
            " 16  DAT_CSA        5992 non-null   int64  \n",
            " 17  Hábitos        5992 non-null   int64  \n",
            " 18  Aprobacion     5992 non-null   object \n",
            " 19  Institucion    5992 non-null   object \n",
            "dtypes: float64(3), int64(9), object(8)\n",
            "memory usage: 936.4+ KB\n"
          ]
        }
      ]
    },
    {
      "cell_type": "markdown",
      "source": [
        "Se verifica la variable objetivo con un Histograma"
      ],
      "metadata": {
        "id": "8-6is0sLhjMi"
      }
    },
    {
      "cell_type": "code",
      "source": [
        "import plotly.express as px\n",
        "import plotly.figure_factory as ff"
      ],
      "metadata": {
        "id": "rczHsP2bhE8h"
      },
      "execution_count": 11,
      "outputs": []
    },
    {
      "cell_type": "code",
      "source": [
        "fig = px.histogram(datos, x = datos.Aprobacion,\n",
        "                   title=\"Distribución variable objetivo\", \n",
        "                   color_discrete_sequence = [\"red\"], # color \n",
        "                   marginal=\"rug\")\n",
        "fig.show()"
      ],
      "metadata": {
        "id": "H9aXmq4ohiUp",
        "outputId": "b929e2bd-e198-4772-e22e-95b5006090b4",
        "colab": {
          "base_uri": "https://localhost:8080/",
          "height": 542
        }
      },
      "execution_count": 12,
      "outputs": [
        {
          "output_type": "display_data",
          "data": {
            "text/html": [
              "<html>\n",
              "<head><meta charset=\"utf-8\" /></head>\n",
              "<body>\n",
              "    <div>\n",
              "            <script src=\"https://cdnjs.cloudflare.com/ajax/libs/mathjax/2.7.5/MathJax.js?config=TeX-AMS-MML_SVG\"></script><script type=\"text/javascript\">if (window.MathJax) {MathJax.Hub.Config({SVG: {font: \"STIX-Web\"}});}</script>\n",
              "                <script type=\"text/javascript\">window.PlotlyConfig = {MathJaxConfig: 'local'};</script>\n",
              "        <script src=\"https://cdn.plot.ly/plotly-latest.min.js\"></script>    \n",
              "            <div id=\"c4eeb46a-7435-4a03-9712-82ad59467b58\" class=\"plotly-graph-div\" style=\"height:525px; width:100%;\"></div>\n",
              "            <script type=\"text/javascript\">\n",
              "                \n",
              "                    window.PLOTLYENV=window.PLOTLYENV || {};\n",
              "                    \n",
              "                if (document.getElementById(\"c4eeb46a-7435-4a03-9712-82ad59467b58\")) {\n",
              "                    Plotly.newPlot(\n",
              "                        'c4eeb46a-7435-4a03-9712-82ad59467b58',\n",
              "                        [{\"alignmentgroup\": \"True\", \"bingroup\": \"x\", \"hoverlabel\": {\"namelength\": 0}, \"hovertemplate\": \"Aprobacion=%{x}<br>count=%{y}\", \"legendgroup\": \"\", \"marker\": {\"color\": \"red\"}, \"name\": \"\", \"offsetgroup\": \"\", \"orientation\": \"v\", \"showlegend\": false, \"type\": \"histogram\", \"x\": [\"Aprobado\", \"Aprobado\", \"Aprobado\", \"Aprobado\", \"Aprobado\", \"Aprobado\", \"Aprobado\", \"Aprobado\", \"Aprobado\", \"Aprobado\", \"Aprobado\", \"Aprobado\", \"Aprobado\", \"Aprobado\", \"Aprobado\", \"Aprobado\", \"Aprobado\", \"Aprobado\", \"Aprobado\", \"Aprobado\", \"Aprobado\", \"Aprobado\", \"Aprobado\", \"Aprobado\", \"Aprobado\", \"Aprobado\", \"Aprobado\", \"Aprobado\", \"Aprobado\", \"Aprobado\", \"Aprobado\", \"Aprobado\", \"Aprobado\", \"Aprobado\", \"Aprobado\", \"Aprobado\", \"Aprobado\", \"Aprobado\", \"Aprobado\", \"Aprobado\", \"Aprobado\", \"Aprobado\", \"Aprobado\", \"Aprobado\", \"Aprobado\", \"Aprobado\", \"Aprobado\", \"Aprobado\", \"Aprobado\", \"Aprobado\", \"Aprobado\", \"Aprobado\", \"Aprobado\", \"Aprobado\", \"Aprobado\", \"Aprobado\", \"Aprobado\", \"Aprobado\", \"Aprobado\", \"Aprobado\", \"Aprobado\", \"Aprobado\", \"Aprobado\", \"Aprobado\", \"Aprobado\", \"Aprobado\", \"Aprobado\", \"Aprobado\", \"Aprobado\", \"Aprobado\", \"Aprobado\", \"Aprobado\", \"Aprobado\", \"Aprobado\", \"Aprobado\", \"Aprobado\", \"Aprobado\", \"Aprobado\", \"Aprobado\", \"Aprobado\", \"Aprobado\", \"Aprobado\", \"Aprobado\", \"Aprobado\", \"Aprobado\", \"Aprobado\", \"Aprobado\", \"Aprobado\", \"Aprobado\", \"Aprobado\", \"Aprobado\", \"Aprobado\", \"Aprobado\", \"Aprobado\", \"Aprobado\", \"Aprobado\", \"Aprobado\", \"Aprobado\", \"Aprobado\", \"Aprobado\", \"Aprobado\", \"Aprobado\", \"Aprobado\", \"Aprobado\", \"Aprobado\", \"Aprobado\", \"Aprobado\", \"Aprobado\", \"Aprobado\", \"Aprobado\", \"Aprobado\", \"Aprobado\", \"Aprobado\", \"Aprobado\", \"Aprobado\", \"Aprobado\", \"Aprobado\", \"Aprobado\", \"Aprobado\", \"Aprobado\", \"Aprobado\", \"Aprobado\", \"Aprobado\", \"Aprobado\", \"Aprobado\", \"Aprobado\", \"Aprobado\", \"Aprobado\", \"Aprobado\", \"Aprobado\", \"Aprobado\", \"Aprobado\", \"Aprobado\", \"Aprobado\", \"Aprobado\", \"Aprobado\", \"Aprobado\", \"Aprobado\", \"Aprobado\", \"Aprobado\", \"Aprobado\", \"Aprobado\", \"Aprobado\", \"Aprobado\", \"Aprobado\", \"Aprobado\", \"Aprobado\", \"Aprobado\", \"Aprobado\", \"Aprobado\", \"Aprobado\", \"Aprobado\", \"Aprobado\", \"Aprobado\", \"Aprobado\", \"Aprobado\", \"Aprobado\", \"Aprobado\", \"Aprobado\", \"Aprobado\", \"Aprobado\", \"Aprobado\", \"Aprobado\", \"Aprobado\", \"Aprobado\", \"Aprobado\", \"Aprobado\", \"Aprobado\", \"Aprobado\", \"Aprobado\", \"Aprobado\", \"Aprobado\", \"Aprobado\", \"Aprobado\", \"Aprobado\", \"Aprobado\", \"Aprobado\", \"Aprobado\", \"Aprobado\", \"Aprobado\", \"Aprobado\", \"Aprobado\", \"Aprobado\", \"Aprobado\", \"Aprobado\", \"Aprobado\", \"Aprobado\", \"Aprobado\", \"Aprobado\", \"Aprobado\", \"Aprobado\", \"Aprobado\", \"Aprobado\", \"Aprobado\", \"Aprobado\", \"Aprobado\", \"Aprobado\", \"Aprobado\", \"Aprobado\", \"Aprobado\", \"Aprobado\", \"Aprobado\", \"Aprobado\", \"Aprobado\", \"Aprobado\", \"Aprobado\", \"Aprobado\", \"Aprobado\", \"Aprobado\", \"Aprobado\", \"Aprobado\", \"Aprobado\", \"Aprobado\", \"Aprobado\", \"Aprobado\", \"Aprobado\", \"Aprobado\", \"Aprobado\", \"Aprobado\", \"Aprobado\", \"Aprobado\", \"Aprobado\", \"Aprobado\", \"Aprobado\", \"Aprobado\", \"Aprobado\", \"Aprobado\", \"Aprobado\", \"Aprobado\", \"Aprobado\", \"Aprobado\", \"Aprobado\", \"Aprobado\", \"Aprobado\", \"Aprobado\", \"Aprobado\", \"Aprobado\", \"Aprobado\", \"Aprobado\", \"Aprobado\", \"Aprobado\", \"Aprobado\", \"Aprobado\", \"Aprobado\", \"Aprobado\", \"Aprobado\", \"Aprobado\", \"Aprobado\", \"Aprobado\", \"Aprobado\", \"Aprobado\", \"Aprobado\", \"Aprobado\", \"Aprobado\", \"Aprobado\", \"Aprobado\", \"Aprobado\", \"Aprobado\", \"Aprobado\", \"Aprobado\", \"Aprobado\", \"Aprobado\", \"Aprobado\", \"Aprobado\", \"Aprobado\", \"Aprobado\", \"Aprobado\", \"Aprobado\", \"Aprobado\", \"Aprobado\", \"Aprobado\", \"Aprobado\", \"Aprobado\", \"Aprobado\", \"Aprobado\", \"Aprobado\", \"Aprobado\", \"Aprobado\", \"Aprobado\", \"Aprobado\", \"Aprobado\", \"Aprobado\", \"Aprobado\", \"Aprobado\", \"Aprobado\", \"Aprobado\", \"Aprobado\", \"Aprobado\", \"Aprobado\", \"Aprobado\", \"Aprobado\", \"Aprobado\", \"Aprobado\", \"Aprobado\", \"Aprobado\", \"Aprobado\", \"Aprobado\", \"Aprobado\", \"Aprobado\", \"Aprobado\", \"Aprobado\", \"Aprobado\", \"Aprobado\", \"Aprobado\", \"Aprobado\", \"Aprobado\", \"Aprobado\", \"Aprobado\", \"Aprobado\", \"Aprobado\", \"Aprobado\", \"Aprobado\", \"Aprobado\", \"Aprobado\", \"Aprobado\", \"Aprobado\", \"Aprobado\", \"Aprobado\", \"Aprobado\", \"Aprobado\", \"Aprobado\", \"Aprobado\", \"Aprobado\", \"Aprobado\", \"Aprobado\", \"Aprobado\", \"Aprobado\", \"Aprobado\", \"Aprobado\", \"Aprobado\", \"Aprobado\", \"Aprobado\", \"Aprobado\", \"Aprobado\", \"Aprobado\", \"Aprobado\", \"Aprobado\", \"Aprobado\", \"Aprobado\", \"Aprobado\", \"Aprobado\", \"Aprobado\", \"Aprobado\", \"Aprobado\", \"Aprobado\", \"Aprobado\", \"Aprobado\", \"Aprobado\", \"Aprobado\", \"Aprobado\", \"Aprobado\", \"Aprobado\", \"Aprobado\", \"Aprobado\", \"Aprobado\", \"Aprobado\", \"Aprobado\", \"Aprobado\", \"Aprobado\", \"Aprobado\", \"Aprobado\", \"Aprobado\", \"Aprobado\", \"Aprobado\", \"Aprobado\", \"Aprobado\", \"Aprobado\", \"Aprobado\", \"Aprobado\", \"Aprobado\", \"Aprobado\", \"Aprobado\", \"Aprobado\", \"Aprobado\", \"Aprobado\", \"Aprobado\", \"Aprobado\", \"Aprobado\", \"Aprobado\", \"Aprobado\", \"Aprobado\", \"Aprobado\", \"Aprobado\", \"Aprobado\", \"Aprobado\", \"Aprobado\", \"Aprobado\", \"Aprobado\", \"Aprobado\", \"Aprobado\", \"Aprobado\", \"Aprobado\", \"Aprobado\", \"Aprobado\", \"Aprobado\", \"Aprobado\", \"Aprobado\", \"Aprobado\", \"Aprobado\", \"Aprobado\", \"Aprobado\", \"Aprobado\", \"Aprobado\", \"Aprobado\", \"Aprobado\", \"Aprobado\", \"Aprobado\", \"Aprobado\", \"Aprobado\", \"Aprobado\", \"Aprobado\", \"Aprobado\", \"Aprobado\", \"Aprobado\", \"Aprobado\", \"Aprobado\", \"Aprobado\", \"Aprobado\", \"Aprobado\", \"Aprobado\", \"Aprobado\", \"Aprobado\", \"Aprobado\", \"Aprobado\", \"Aprobado\", \"Aprobado\", \"Aprobado\", \"Aprobado\", \"Aprobado\", \"Aprobado\", \"Aprobado\", \"Aprobado\", \"Aprobado\", \"Aprobado\", \"Aprobado\", \"Aprobado\", \"Aprobado\", \"Aprobado\", \"Aprobado\", \"Aprobado\", \"Aprobado\", \"Aprobado\", \"Aprobado\", \"Aprobado\", \"Aprobado\", \"Aprobado\", \"Aprobado\", \"Aprobado\", \"Aprobado\", \"Aprobado\", \"Aprobado\", \"Aprobado\", \"Aprobado\", \"Aprobado\", \"Aprobado\", \"Aprobado\", \"Aprobado\", \"Aprobado\", \"Aprobado\", \"Aprobado\", \"Aprobado\", \"Aprobado\", \"Aprobado\", \"Aprobado\", \"Aprobado\", \"Aprobado\", \"Aprobado\", \"Aprobado\", \"Aprobado\", \"Aprobado\", \"Aprobado\", \"Aprobado\", \"Aprobado\", \"Aprobado\", \"Aprobado\", \"Aprobado\", \"Aprobado\", \"Aprobado\", \"Aprobado\", \"Aprobado\", \"Aprobado\", \"Aprobado\", \"Aprobado\", \"Aprobado\", \"Aprobado\", \"Aprobado\", \"Aprobado\", \"Aprobado\", \"Aprobado\", \"Aprobado\", \"Aprobado\", \"Aprobado\", \"Aprobado\", \"Aprobado\", \"Aprobado\", \"Aprobado\", \"Aprobado\", \"Aprobado\", \"Aprobado\", \"Aprobado\", \"Aprobado\", \"Aprobado\", \"Aprobado\", \"Aprobado\", \"Aprobado\", \"Aprobado\", \"Aprobado\", \"Aprobado\", \"Aprobado\", \"Aprobado\", \"Aprobado\", \"Aprobado\", \"Aprobado\", \"Aprobado\", \"Aprobado\", \"Aprobado\", \"Aprobado\", \"Aprobado\", \"Aprobado\", \"Aprobado\", \"Aprobado\", \"Aprobado\", \"Aprobado\", \"Aprobado\", \"Aprobado\", \"Aprobado\", \"Aprobado\", \"Aprobado\", \"Aprobado\", \"Aprobado\", \"Aprobado\", \"Aprobado\", \"Aprobado\", \"Aprobado\", \"Aprobado\", \"Aprobado\", \"Aprobado\", \"Aprobado\", \"Aprobado\", \"Aprobado\", \"Aprobado\", \"Aprobado\", \"Aprobado\", \"Aprobado\", \"Aprobado\", \"Aprobado\", \"Aprobado\", \"Aprobado\", \"Aprobado\", \"Aprobado\", \"Aprobado\", \"Aprobado\", \"Aprobado\", \"Aprobado\", \"Aprobado\", \"Aprobado\", \"Aprobado\", \"Aprobado\", \"Aprobado\", \"Aprobado\", \"Aprobado\", \"Aprobado\", \"Aprobado\", \"Aprobado\", \"Aprobado\", \"Aprobado\", \"Aprobado\", \"Aprobado\", \"Aprobado\", \"Aprobado\", \"Aprobado\", \"Aprobado\", \"Aprobado\", \"Aprobado\", \"Aprobado\", \"Aprobado\", \"Aprobado\", \"Aprobado\", \"Aprobado\", \"Aprobado\", \"Aprobado\", \"Aprobado\", \"Aprobado\", \"Aprobado\", \"Aprobado\", \"Aprobado\", \"Aprobado\", \"Aprobado\", \"Aprobado\", \"Aprobado\", \"Aprobado\", \"Aprobado\", \"Aprobado\", \"Aprobado\", \"Aprobado\", \"Aprobado\", \"Aprobado\", \"Aprobado\", \"Aprobado\", \"Aprobado\", \"Aprobado\", \"Aprobado\", \"Aprobado\", \"Aprobado\", \"Aprobado\", \"Aprobado\", \"Aprobado\", \"Aprobado\", \"Aprobado\", \"Aprobado\", \"Aprobado\", \"Aprobado\", \"Aprobado\", \"Aprobado\", \"Aprobado\", \"Aprobado\", \"Aprobado\", \"Aprobado\", \"Aprobado\", \"Aprobado\", \"Aprobado\", \"Aprobado\", \"Aprobado\", \"Aprobado\", \"Aprobado\", \"Aprobado\", \"Aprobado\", \"Aprobado\", \"Aprobado\", \"Aprobado\", \"Aprobado\", \"Aprobado\", \"Aprobado\", \"Aprobado\", \"Aprobado\", \"Aprobado\", \"Aprobado\", \"Aprobado\", \"Aprobado\", \"Aprobado\", \"Aprobado\", \"Aprobado\", \"Aprobado\", \"Aprobado\", \"Aprobado\", \"Aprobado\", \"Aprobado\", \"Aprobado\", \"Aprobado\", \"Aprobado\", \"Aprobado\", \"Aprobado\", \"Aprobado\", \"Aprobado\", \"Aprobado\", \"Aprobado\", \"Aprobado\", \"Aprobado\", \"Aprobado\", \"Aprobado\", \"Aprobado\", \"Aprobado\", \"Aprobado\", \"Aprobado\", \"Aprobado\", \"Aprobado\", \"Aprobado\", \"Aprobado\", \"Aprobado\", \"Aprobado\", \"Aprobado\", \"Aprobado\", \"Aprobado\", \"Aprobado\", \"Aprobado\", \"Aprobado\", \"Aprobado\", \"Aprobado\", \"Aprobado\", \"Aprobado\", \"Aprobado\", \"Aprobado\", \"Aprobado\", \"Aprobado\", \"Aprobado\", \"Aprobado\", \"Aprobado\", \"Aprobado\", \"Aprobado\", \"Aprobado\", \"Aprobado\", \"Aprobado\", \"Aprobado\", \"Aprobado\", \"Aprobado\", \"Aprobado\", \"Aprobado\", \"Aprobado\", \"Aprobado\", \"Aprobado\", \"Aprobado\", \"Aprobado\", \"Aprobado\", \"Aprobado\", \"Aprobado\", \"Aprobado\", \"Aprobado\", \"Aprobado\", \"Aprobado\", \"Aprobado\", \"Aprobado\", \"Aprobado\", \"Aprobado\", \"Aprobado\", \"Aprobado\", \"Aprobado\", \"Aprobado\", \"Aprobado\", \"Aprobado\", \"Aprobado\", \"Aprobado\", \"Aprobado\", \"Aprobado\", \"Aprobado\", \"Aprobado\", \"Aprobado\", \"Aprobado\", \"Aprobado\", \"Aprobado\", \"Aprobado\", \"Aprobado\", \"Aprobado\", \"Aprobado\", \"Aprobado\", \"Aprobado\", \"Aprobado\", \"Aprobado\", \"Aprobado\", \"Aprobado\", \"Aprobado\", \"Aprobado\", \"Aprobado\", \"Aprobado\", \"Aprobado\", \"Aprobado\", \"Aprobado\", \"Aprobado\", \"Aprobado\", \"Aprobado\", \"Aprobado\", \"Aprobado\", \"Aprobado\", \"Aprobado\", \"Aprobado\", \"Aprobado\", \"Aprobado\", \"Aprobado\", \"Aprobado\", \"Aprobado\", \"Aprobado\", \"Aprobado\", \"Aprobado\", \"Aprobado\", \"Aprobado\", \"Aprobado\", \"Aprobado\", \"Aprobado\", \"Aprobado\", \"Aprobado\", \"Aprobado\", \"Aprobado\", \"Aprobado\", \"Aprobado\", \"Aprobado\", \"Aprobado\", \"Aprobado\", \"Aprobado\", \"Aprobado\", \"Aprobado\", \"Aprobado\", \"Aprobado\", \"Aprobado\", \"Aprobado\", \"Aprobado\", \"Aprobado\", \"Aprobado\", \"Aprobado\", \"Aprobado\", \"Aprobado\", \"Aprobado\", \"Aprobado\", \"Aprobado\", \"Aprobado\", \"Aprobado\", \"Aprobado\", \"Aprobado\", \"Aprobado\", \"Aprobado\", \"Aprobado\", \"Aprobado\", \"Aprobado\", \"Aprobado\", \"Aprobado\", \"Aprobado\", \"Aprobado\", \"Aprobado\", \"Aprobado\", \"Aprobado\", \"Aprobado\", \"Aprobado\", \"Aprobado\", \"Aprobado\", \"Aprobado\", \"Aprobado\", \"Aprobado\", \"Aprobado\", \"Aprobado\", \"Aprobado\", \"Aprobado\", \"Aprobado\", \"Aprobado\", \"Aprobado\", \"Aprobado\", \"Aprobado\", \"Aprobado\", \"Aprobado\", \"Aprobado\", \"Aprobado\", \"Aprobado\", \"Aprobado\", \"Aprobado\", \"Aprobado\", \"Aprobado\", \"Aprobado\", \"Aprobado\", \"Aprobado\", \"Aprobado\", \"Aprobado\", \"Aprobado\", \"Aprobado\", \"Aprobado\", \"Aprobado\", \"Aprobado\", \"Aprobado\", \"Aprobado\", \"Aprobado\", \"Aprobado\", \"Aprobado\", \"Aprobado\", \"Aprobado\", \"Aprobado\", \"Aprobado\", \"Aprobado\", \"Aprobado\", \"Aprobado\", \"Aprobado\", \"Aprobado\", \"Aprobado\", \"Aprobado\", \"Aprobado\", \"Aprobado\", \"Aprobado\", \"Aprobado\", \"Aprobado\", \"Aprobado\", \"Aprobado\", \"Aprobado\", \"Aprobado\", \"Aprobado\", \"Aprobado\", \"Aprobado\", \"Aprobado\", \"Aprobado\", \"Aprobado\", \"Aprobado\", \"Aprobado\", \"Aprobado\", \"Aprobado\", \"Aprobado\", \"Aprobado\", \"Aprobado\", \"Aprobado\", \"Aprobado\", \"Aprobado\", \"Aprobado\", \"Aprobado\", \"Aprobado\", \"Aprobado\", \"Aprobado\", \"Aprobado\", \"Aprobado\", \"Aprobado\", \"Aprobado\", \"Aprobado\", \"Aprobado\", \"Aprobado\", \"Aprobado\", \"Aprobado\", \"Aprobado\", \"Aprobado\", \"Aprobado\", \"Aprobado\", \"Aprobado\", \"Aprobado\", \"Aprobado\", \"Aprobado\", \"Aprobado\", \"Aprobado\", \"Aprobado\", \"Aprobado\", \"Aprobado\", \"Aprobado\", \"Aprobado\", \"Aprobado\", \"Aprobado\", \"Aprobado\", \"Aprobado\", \"Aprobado\", \"Aprobado\", \"Aprobado\", \"Aprobado\", \"Aprobado\", \"Aprobado\", \"Aprobado\", \"Aprobado\", \"Aprobado\", \"Aprobado\", \"Aprobado\", \"Aprobado\", \"Aprobado\", \"Aprobado\", \"Aprobado\", \"Aprobado\", \"Aprobado\", \"Aprobado\", \"Aprobado\", \"Aprobado\", \"Aprobado\", \"Aprobado\", \"Aprobado\", \"Aprobado\", \"Aprobado\", \"Aprobado\", \"Aprobado\", \"Aprobado\", \"Aprobado\", \"Aprobado\", \"Aprobado\", \"Aprobado\", \"Aprobado\", \"Aprobado\", \"Aprobado\", \"Aprobado\", \"Aprobado\", \"Aprobado\", \"Aprobado\", \"Aprobado\", \"Aprobado\", \"Aprobado\", \"Aprobado\", \"Aprobado\", \"Aprobado\", \"Aprobado\", \"Aprobado\", \"Aprobado\", \"Aprobado\", \"Aprobado\", \"Aprobado\", \"Aprobado\", \"Aprobado\", \"Aprobado\", \"Aprobado\", \"Aprobado\", \"Aprobado\", \"Aprobado\", \"Aprobado\", \"Aprobado\", \"Aprobado\", \"Aprobado\", \"Aprobado\", \"Aprobado\", \"Aprobado\", \"Aprobado\", \"Aprobado\", \"Aprobado\", \"Aprobado\", \"Aprobado\", \"Aprobado\", \"Aprobado\", \"Aprobado\", \"Aprobado\", \"Aprobado\", \"Aprobado\", \"Aprobado\", \"Aprobado\", \"Aprobado\", \"Aprobado\", \"Aprobado\", \"Aprobado\", \"Aprobado\", \"Aprobado\", \"Aprobado\", \"Aprobado\", \"Aprobado\", \"Aprobado\", \"Aprobado\", \"Aprobado\", \"Aprobado\", \"Aprobado\", \"Aprobado\", \"Aprobado\", \"Aprobado\", \"Aprobado\", \"Aprobado\", \"Aprobado\", \"Aprobado\", \"Aprobado\", \"Aprobado\", \"Aprobado\", \"Aprobado\", \"Aprobado\", \"Aprobado\", \"Aprobado\", \"Aprobado\", \"Aprobado\", \"Aprobado\", \"Aprobado\", \"Aprobado\", \"Aprobado\", \"Aprobado\", \"Aprobado\", \"Aprobado\", \"Aprobado\", \"Aprobado\", \"Aprobado\", \"Aprobado\", \"Aprobado\", \"Aprobado\", \"Aprobado\", \"Aprobado\", \"Aprobado\", \"Aprobado\", \"Aprobado\", \"Aprobado\", \"Aprobado\", \"Aprobado\", \"Aprobado\", \"Aprobado\", \"Aprobado\", \"Aprobado\", \"Aprobado\", \"Aprobado\", \"Aprobado\", \"Aprobado\", \"Aprobado\", \"Aprobado\", \"Aprobado\", \"Aprobado\", \"Aprobado\", \"Aprobado\", \"Aprobado\", \"Aprobado\", \"Aprobado\", \"Aprobado\", \"Aprobado\", \"Aprobado\", \"Aprobado\", \"Aprobado\", \"Aprobado\", \"Aprobado\", \"Aprobado\", \"Aprobado\", \"Aprobado\", \"Aprobado\", \"Aprobado\", \"Aprobado\", \"Aprobado\", \"Aprobado\", \"Aprobado\", \"Aprobado\", \"Aprobado\", \"Aprobado\", \"Aprobado\", \"Aprobado\", \"Aprobado\", \"Aprobado\", \"Aprobado\", \"Aprobado\", \"Aprobado\", \"Aprobado\", \"Aprobado\", \"Aprobado\", \"Aprobado\", \"Aprobado\", \"Aprobado\", \"Aprobado\", \"Aprobado\", \"Aprobado\", \"Aprobado\", \"Aprobado\", \"Aprobado\", \"Aprobado\", \"Aprobado\", \"Aprobado\", \"Aprobado\", \"Aprobado\", \"Aprobado\", \"Aprobado\", \"Aprobado\", \"Aprobado\", \"Aprobado\", \"Aprobado\", \"Aprobado\", \"Aprobado\", \"Aprobado\", \"Aprobado\", \"Aprobado\", \"Aprobado\", \"Aprobado\", \"Aprobado\", \"Aprobado\", \"Aprobado\", \"Aprobado\", \"Aprobado\", \"Aprobado\", \"Aprobado\", \"Aprobado\", \"Aprobado\", \"Aprobado\", \"Aprobado\", \"Aprobado\", \"Aprobado\", \"Aprobado\", \"Aprobado\", \"Aprobado\", \"Aprobado\", \"Aprobado\", \"Aprobado\", \"Aprobado\", \"Aprobado\", \"Aprobado\", \"Aprobado\", \"Aprobado\", \"Aprobado\", \"Aprobado\", \"Aprobado\", \"Aprobado\", \"Aprobado\", \"Aprobado\", \"Aprobado\", \"Aprobado\", \"Aprobado\", \"Aprobado\", \"Aprobado\", \"Aprobado\", \"Aprobado\", \"Aprobado\", \"Aprobado\", \"Aprobado\", \"Aprobado\", \"Aprobado\", \"Aprobado\", \"Aprobado\", \"Aprobado\", \"Aprobado\", \"Aprobado\", \"Aprobado\", \"Aprobado\", \"Aprobado\", \"Aprobado\", \"Aprobado\", \"Aprobado\", \"Aprobado\", \"Aprobado\", \"Aprobado\", \"Aprobado\", \"Aprobado\", \"Aprobado\", \"Aprobado\", \"Aprobado\", \"Aprobado\", \"Aprobado\", \"Aprobado\", \"Aprobado\", \"Aprobado\", \"Aprobado\", \"Aprobado\", \"Aprobado\", \"Aprobado\", \"Aprobado\", \"Aprobado\", \"Aprobado\", \"Aprobado\", \"Aprobado\", \"Aprobado\", \"Aprobado\", \"Aprobado\", \"Aprobado\", \"Aprobado\", \"Aprobado\", \"Aprobado\", \"Aprobado\", \"Aprobado\", \"Aprobado\", \"Aprobado\", \"Aprobado\", \"Aprobado\", \"Aprobado\", \"Aprobado\", \"Aprobado\", \"Aprobado\", \"Aprobado\", \"Aprobado\", \"Aprobado\", \"Aprobado\", \"Aprobado\", \"Aprobado\", \"Aprobado\", \"Aprobado\", \"Aprobado\", \"Aprobado\", \"Aprobado\", \"Aprobado\", \"Aprobado\", \"Aprobado\", \"Aprobado\", \"Aprobado\", \"Aprobado\", \"Aprobado\", \"Aprobado\", \"Aprobado\", \"Aprobado\", \"Aprobado\", \"Aprobado\", \"Aprobado\", \"Aprobado\", \"Aprobado\", \"Aprobado\", \"Aprobado\", \"Aprobado\", \"Aprobado\", \"Aprobado\", \"Aprobado\", \"Aprobado\", \"Aprobado\", \"Aprobado\", \"Aprobado\", \"Aprobado\", \"Aprobado\", \"Aprobado\", \"Aprobado\", \"Aprobado\", \"Aprobado\", \"Aprobado\", \"Aprobado\", \"Aprobado\", \"Aprobado\", \"Aprobado\", \"Aprobado\", \"Aprobado\", \"Aprobado\", \"Aprobado\", \"Aprobado\", \"Aprobado\", \"Aprobado\", \"Aprobado\", \"Aprobado\", \"Aprobado\", \"Aprobado\", \"Aprobado\", \"Aprobado\", \"Aprobado\", \"Aprobado\", \"Aprobado\", \"Aprobado\", \"Aprobado\", \"Aprobado\", \"Aprobado\", \"Aprobado\", \"Aprobado\", \"Aprobado\", \"Aprobado\", \"Aprobado\", \"Aprobado\", \"Aprobado\", \"Aprobado\", \"Aprobado\", \"Aprobado\", \"Aprobado\", \"Aprobado\", \"Aprobado\", \"Aprobado\", \"Aprobado\", \"Aprobado\", \"Aprobado\", \"Aprobado\", \"Aprobado\", \"Aprobado\", \"Aprobado\", \"Aprobado\", \"Aprobado\", \"Aprobado\", \"Aprobado\", \"Aprobado\", \"Aprobado\", \"Aprobado\", \"Aprobado\", \"Aprobado\", \"Aprobado\", \"Aprobado\", \"Aprobado\", \"Aprobado\", \"Aprobado\", \"Aprobado\", \"Aprobado\", \"Aprobado\", \"Aprobado\", \"Aprobado\", \"Aprobado\", \"Aprobado\", \"Aprobado\", \"Aprobado\", \"Aprobado\", \"Aprobado\", \"Aprobado\", \"Aprobado\", \"Aprobado\", \"Aprobado\", \"Aprobado\", \"Aprobado\", \"Aprobado\", \"Aprobado\", \"Aprobado\", \"Aprobado\", \"Aprobado\", \"Aprobado\", \"Aprobado\", \"Aprobado\", \"Aprobado\", \"Aprobado\", \"Aprobado\", \"Aprobado\", \"Aprobado\", \"Aprobado\", \"Aprobado\", \"Aprobado\", \"Aprobado\", \"Aprobado\", \"Aprobado\", \"Aprobado\", \"Aprobado\", \"Aprobado\", \"Aprobado\", \"Aprobado\", \"Aprobado\", \"Aprobado\", \"Aprobado\", \"Aprobado\", \"Aprobado\", \"Aprobado\", \"Aprobado\", \"Aprobado\", \"Aprobado\", \"Aprobado\", \"Aprobado\", \"Aprobado\", \"Aprobado\", \"Aprobado\", \"Aprobado\", \"Aprobado\", \"Aprobado\", \"Aprobado\", \"Aprobado\", \"Aprobado\", \"Aprobado\", \"Aprobado\", \"Aprobado\", \"Aprobado\", \"Aprobado\", \"Aprobado\", \"Aprobado\", \"Aprobado\", \"Aprobado\", \"Aprobado\", \"Aprobado\", \"Aprobado\", \"Aprobado\", \"Aprobado\", \"Aprobado\", \"Aprobado\", \"Aprobado\", \"Aprobado\", \"Aprobado\", \"Aprobado\", \"Aprobado\", \"Aprobado\", \"Aprobado\", \"Aprobado\", \"Aprobado\", \"Aprobado\", \"Aprobado\", \"Aprobado\", \"Aprobado\", \"Aprobado\", \"Aprobado\", \"Aprobado\", \"Aprobado\", \"Aprobado\", \"Aprobado\", \"Aprobado\", \"Aprobado\", \"Aprobado\", \"Aprobado\", \"Aprobado\", \"Aprobado\", \"Aprobado\", \"Aprobado\", \"Aprobado\", \"Aprobado\", \"Aprobado\", \"Aprobado\", \"Aprobado\", \"Aprobado\", \"Aprobado\", \"Aprobado\", \"Aprobado\", \"Aprobado\", \"Aprobado\", \"Aprobado\", \"Aprobado\", \"Aprobado\", \"Aprobado\", \"Aprobado\", \"Aprobado\", \"Aprobado\", \"Aprobado\", \"Aprobado\", \"Aprobado\", \"Aprobado\", \"Aprobado\", \"Aprobado\", \"Aprobado\", \"Aprobado\", \"Aprobado\", \"Aprobado\", \"Aprobado\", \"Aprobado\", \"Aprobado\", \"Aprobado\", \"Aprobado\", \"Aprobado\", \"Aprobado\", \"Aprobado\", \"Aprobado\", \"Aprobado\", \"Aprobado\", \"Aprobado\", \"Aprobado\", \"Aprobado\", \"Aprobado\", \"Aprobado\", \"Aprobado\", \"Aprobado\", \"Aprobado\", \"Aprobado\", \"Aprobado\", \"Aprobado\", \"Aprobado\", \"Aprobado\", \"Aprobado\", \"Aprobado\", \"Aprobado\", \"Aprobado\", \"Aprobado\", \"Aprobado\", \"Aprobado\", \"Aprobado\", \"Aprobado\", \"Aprobado\", \"Aprobado\", \"Aprobado\", \"Aprobado\", \"Aprobado\", \"Aprobado\", \"Aprobado\", \"Aprobado\", \"Aprobado\", \"Aprobado\", \"Aprobado\", \"Aprobado\", \"Aprobado\", \"Aprobado\", \"Aprobado\", \"Aprobado\", \"Aprobado\", \"Aprobado\", \"Aprobado\", \"Aprobado\", \"Aprobado\", \"Aprobado\", \"Aprobado\", \"Aprobado\", \"Aprobado\", \"Aprobado\", \"Aprobado\", \"Aprobado\", \"Aprobado\", \"Aprobado\", \"Aprobado\", \"Aprobado\", \"Aprobado\", \"Aprobado\", \"Aprobado\", \"Aprobado\", \"Aprobado\", \"Aprobado\", \"Aprobado\", \"Aprobado\", \"Aprobado\", \"Aprobado\", \"Aprobado\", \"Aprobado\", \"Aprobado\", \"Aprobado\", \"Aprobado\", \"Aprobado\", \"Aprobado\", \"Aprobado\", \"Aprobado\", \"Aprobado\", \"Aprobado\", \"Aprobado\", \"Aprobado\", \"Aprobado\", \"Aprobado\", \"Aprobado\", \"Aprobado\", \"Aprobado\", \"Aprobado\", \"Aprobado\", \"Aprobado\", \"Aprobado\", \"Aprobado\", \"Aprobado\", \"Aprobado\", \"Aprobado\", \"Aprobado\", \"Aprobado\", \"Aprobado\", \"Aprobado\", \"Aprobado\", \"Aprobado\", \"Aprobado\", \"Aprobado\", \"Aprobado\", \"Aprobado\", \"Aprobado\", \"Aprobado\", \"Aprobado\", \"Aprobado\", \"Aprobado\", \"Aprobado\", \"Aprobado\", \"Aprobado\", \"Aprobado\", \"Aprobado\", \"Aprobado\", \"Aprobado\", \"Aprobado\", \"Aprobado\", \"Aprobado\", \"Aprobado\", \"Aprobado\", \"Aprobado\", \"Aprobado\", \"Aprobado\", \"Aprobado\", \"Aprobado\", \"Aprobado\", \"Aprobado\", \"Aprobado\", \"Aprobado\", \"Aprobado\", \"Aprobado\", \"Aprobado\", \"Aprobado\", \"Aprobado\", \"Aprobado\", \"Aprobado\", \"Aprobado\", \"Aprobado\", \"Aprobado\", \"Aprobado\", \"Aprobado\", \"Aprobado\", \"Aprobado\", \"Aprobado\", \"Aprobado\", \"Aprobado\", \"Aprobado\", \"Aprobado\", \"Aprobado\", \"Aprobado\", \"Aprobado\", \"Aprobado\", \"Aprobado\", \"Aprobado\", \"Aprobado\", \"Aprobado\", \"Aprobado\", \"Aprobado\", \"Aprobado\", \"Aprobado\", \"Aprobado\", \"Aprobado\", \"Aprobado\", \"Aprobado\", \"Aprobado\", \"Aprobado\", \"Aprobado\", \"Aprobado\", \"Aprobado\", \"Aprobado\", \"Aprobado\", \"Aprobado\", \"Aprobado\", \"Aprobado\", \"Aprobado\", \"Aprobado\", \"Aprobado\", \"Aprobado\", \"Aprobado\", \"Aprobado\", \"Aprobado\", \"Aprobado\", \"Aprobado\", \"Aprobado\", \"Aprobado\", \"Aprobado\", \"Aprobado\", \"Aprobado\", \"Aprobado\", \"Aprobado\", \"Aprobado\", \"Aprobado\", \"Aprobado\", \"Aprobado\", \"Aprobado\", \"Aprobado\", \"Aprobado\", \"Aprobado\", \"Aprobado\", \"Aprobado\", \"Aprobado\", \"Aprobado\", \"Aprobado\", \"Aprobado\", \"Aprobado\", \"Aprobado\", \"Aprobado\", \"Aprobado\", \"Aprobado\", \"Aprobado\", \"Aprobado\", \"Aprobado\", \"Aprobado\", \"Aprobado\", \"Aprobado\", \"Aprobado\", \"Aprobado\", \"Aprobado\", \"Aprobado\", \"Aprobado\", \"Aprobado\", \"Aprobado\", \"Aprobado\", \"Aprobado\", \"Aprobado\", \"Aprobado\", \"Aprobado\", \"Aprobado\", \"Aprobado\", \"Aprobado\", \"Aprobado\", \"Aprobado\", \"Aprobado\", \"Aprobado\", \"Aprobado\", \"Aprobado\", \"Aprobado\", \"Aprobado\", \"Aprobado\", \"Aprobado\", \"Aprobado\", \"Aprobado\", \"Aprobado\", \"Aprobado\", \"Aprobado\", \"Aprobado\", \"Aprobado\", \"Aprobado\", \"Aprobado\", \"Aprobado\", \"Aprobado\", \"Aprobado\", \"Aprobado\", \"Aprobado\", \"Aprobado\", \"Aprobado\", \"Aprobado\", \"Aprobado\", \"Aprobado\", \"Aprobado\", \"Aprobado\", \"Aprobado\", \"Aprobado\", \"Aprobado\", \"Aprobado\", \"Aprobado\", \"Aprobado\", \"Aprobado\", \"Aprobado\", \"Aprobado\", \"Aprobado\", \"Aprobado\", \"Aprobado\", \"Aprobado\", \"Aprobado\", \"Aprobado\", \"Aprobado\", \"Aprobado\", \"Aprobado\", \"Aprobado\", \"Aprobado\", \"Aprobado\", \"Aprobado\", \"Aprobado\", \"Aprobado\", \"Aprobado\", \"Aprobado\", \"Aprobado\", \"Aprobado\", \"Aprobado\", \"Aprobado\", \"Aprobado\", \"Aprobado\", \"Aprobado\", \"Aprobado\", \"Aprobado\", \"Aprobado\", \"Aprobado\", \"Aprobado\", \"Aprobado\", \"Aprobado\", \"Aprobado\", \"Aprobado\", \"Aprobado\", \"Aprobado\", \"Aprobado\", \"Aprobado\", \"Aprobado\", \"Aprobado\", \"Aprobado\", \"Aprobado\", \"Aprobado\", \"Aprobado\", \"Aprobado\", \"Aprobado\", \"Aprobado\", \"Aprobado\", \"Aprobado\", \"Aprobado\", \"Aprobado\", \"Aprobado\", \"Aprobado\", \"Aprobado\", \"Aprobado\", \"Aprobado\", \"Aprobado\", \"Aprobado\", \"Aprobado\", \"Aprobado\", \"Aprobado\", \"Aprobado\", \"Aprobado\", \"Aprobado\", \"Aprobado\", \"Aprobado\", \"Aprobado\", \"Aprobado\", \"Aprobado\", \"Aprobado\", \"Aprobado\", \"Aprobado\", \"Aprobado\", \"Aprobado\", \"Aprobado\", \"Aprobado\", \"Aprobado\", \"Aprobado\", \"Aprobado\", \"Aprobado\", \"Aprobado\", \"Aprobado\", \"Aprobado\", \"Aprobado\", \"Aprobado\", \"Aprobado\", \"Aprobado\", \"Aprobado\", \"Aprobado\", \"Aprobado\", \"Aprobado\", \"Aprobado\", \"Aprobado\", \"Aprobado\", \"Aprobado\", \"Aprobado\", \"Aprobado\", \"Aprobado\", \"Aprobado\", \"Aprobado\", \"Aprobado\", \"Aprobado\", \"Aprobado\", \"Aprobado\", \"Aprobado\", \"Aprobado\", \"Aprobado\", \"Aprobado\", \"Aprobado\", \"Aprobado\", \"Aprobado\", \"Aprobado\", \"Aprobado\", \"Aprobado\", \"Aprobado\", \"Aprobado\", \"Aprobado\", \"Aprobado\", \"Aprobado\", \"Aprobado\", \"Aprobado\", \"Aprobado\", \"Aprobado\", \"Aprobado\", \"Aprobado\", \"Aprobado\", \"Aprobado\", \"Aprobado\", \"Aprobado\", \"Aprobado\", \"Aprobado\", \"Aprobado\", \"Aprobado\", \"Aprobado\", \"Aprobado\", \"Aprobado\", \"Aprobado\", \"Aprobado\", \"Aprobado\", \"Aprobado\", \"Aprobado\", \"Aprobado\", \"Aprobado\", \"Aprobado\", \"Aprobado\", \"Aprobado\", \"Aprobado\", \"Aprobado\", \"Aprobado\", \"Aprobado\", \"Aprobado\", \"Aprobado\", \"Aprobado\", \"Aprobado\", \"Aprobado\", \"Aprobado\", \"Aprobado\", \"Aprobado\", \"Aprobado\", \"Aprobado\", \"Aprobado\", \"Aprobado\", \"Aprobado\", \"Aprobado\", \"Aprobado\", \"Aprobado\", \"Aprobado\", \"Aprobado\", \"Aprobado\", \"Aprobado\", \"Aprobado\", \"Aprobado\", \"Aprobado\", \"Aprobado\", \"Aprobado\", \"Aprobado\", \"Aprobado\", \"Aprobado\", \"Aprobado\", \"Aprobado\", \"Aprobado\", \"Aprobado\", \"Aprobado\", \"Aprobado\", \"Aprobado\", \"Aprobado\", \"Aprobado\", \"Aprobado\", \"Aprobado\", \"Aprobado\", \"Aprobado\", \"Aprobado\", \"Aprobado\", \"Aprobado\", \"Aprobado\", \"Aprobado\", \"Aprobado\", \"Aprobado\", \"Aprobado\", \"Aprobado\", \"Aprobado\", \"Aprobado\", \"Aprobado\", \"Aprobado\", \"Aprobado\", \"Aprobado\", \"Aprobado\", \"Aprobado\", \"Aprobado\", \"Aprobado\", \"Aprobado\", \"Aprobado\", \"Aprobado\", \"Aprobado\", \"Aprobado\", \"Aprobado\", \"Aprobado\", \"Aprobado\", \"Aprobado\", \"Aprobado\", \"Aprobado\", \"Aprobado\", \"Aprobado\", \"Aprobado\", \"Aprobado\", \"Aprobado\", \"Aprobado\", \"Aprobado\", \"Aprobado\", \"Aprobado\", \"Aprobado\", \"Aprobado\", \"Aprobado\", \"Aprobado\", \"Aprobado\", \"Aprobado\", \"Aprobado\", \"Aprobado\", \"Aprobado\", \"Aprobado\", \"Aprobado\", \"Aprobado\", \"Aprobado\", \"Aprobado\", \"Aprobado\", \"Aprobado\", \"Aprobado\", \"Aprobado\", \"Aprobado\", \"Aprobado\", \"Aprobado\", \"Aprobado\", \"Aprobado\", \"Aprobado\", \"Aprobado\", \"Aprobado\", \"Aprobado\", \"Aprobado\", \"Aprobado\", \"Aprobado\", \"Aprobado\", \"Aprobado\", \"Aprobado\", \"Aprobado\", \"Aprobado\", \"Aprobado\", \"Aprobado\", \"Aprobado\", \"Aprobado\", \"Aprobado\", \"Aprobado\", \"Aprobado\", \"Aprobado\", \"Aprobado\", \"Aprobado\", \"Aprobado\", \"Aprobado\", \"Aprobado\", \"Aprobado\", \"Aprobado\", \"Aprobado\", \"Aprobado\", \"Aprobado\", \"Aprobado\", \"Aprobado\", \"Aprobado\", \"Aprobado\", \"Aprobado\", \"Aprobado\", \"Aprobado\", \"Aprobado\", \"Aprobado\", \"Aprobado\", \"Aprobado\", \"Aprobado\", \"Aprobado\", \"Aprobado\", \"Aprobado\", \"Aprobado\", \"Aprobado\", \"Aprobado\", \"Aprobado\", \"Aprobado\", \"Aprobado\", \"Aprobado\", \"Aprobado\", \"Aprobado\", \"Aprobado\", \"Aprobado\", \"Aprobado\", \"Aprobado\", \"Aprobado\", \"Aprobado\", \"Aprobado\", \"Aprobado\", \"Aprobado\", \"Aprobado\", \"Aprobado\", \"Aprobado\", \"Aprobado\", \"Aprobado\", \"Aprobado\", \"Aprobado\", \"Aprobado\", \"Aprobado\", \"Aprobado\", \"Aprobado\", \"Aprobado\", \"Aprobado\", \"Aprobado\", \"Aprobado\", \"Aprobado\", \"Aprobado\", \"Aprobado\", \"Aprobado\", \"Aprobado\", \"Aprobado\", \"Aprobado\", \"Aprobado\", \"Aprobado\", \"Aprobado\", \"Aprobado\", \"Aprobado\", \"Aprobado\", \"Aprobado\", \"Aprobado\", \"Aprobado\", \"Aprobado\", \"Aprobado\", \"Aprobado\", \"Aprobado\", \"Aprobado\", \"Aprobado\", \"Aprobado\", \"Aprobado\", \"Aprobado\", \"Aprobado\", \"Aprobado\", \"Aprobado\", \"Aprobado\", \"Aprobado\", \"Aprobado\", \"Aprobado\", \"Aprobado\", \"Aprobado\", \"Aprobado\", \"Aprobado\", \"Aprobado\", \"Aprobado\", \"Aprobado\", \"Aprobado\", \"Aprobado\", \"Aprobado\", \"Aprobado\", \"Aprobado\", \"Aprobado\", \"Aprobado\", \"Aprobado\", \"Aprobado\", \"Aprobado\", \"Aprobado\", \"Aprobado\", \"Aprobado\", \"Aprobado\", \"Aprobado\", \"Aprobado\", \"Aprobado\", \"Aprobado\", \"Aprobado\", \"Aprobado\", \"Aprobado\", \"Aprobado\", \"Aprobado\", \"Aprobado\", \"Aprobado\", \"Aprobado\", \"Aprobado\", \"Aprobado\", \"Aprobado\", \"Aprobado\", \"Aprobado\", \"Aprobado\", \"Aprobado\", \"Aprobado\", \"Aprobado\", \"Aprobado\", \"Aprobado\", \"Aprobado\", \"Aprobado\", \"Aprobado\", \"Aprobado\", \"Aprobado\", \"Aprobado\", \"Aprobado\", \"Aprobado\", \"Aprobado\", \"Aprobado\", \"Aprobado\", \"Aprobado\", \"Aprobado\", \"Aprobado\", \"Aprobado\", \"Aprobado\", \"Aprobado\", \"Aprobado\", \"Aprobado\", \"Aprobado\", \"Aprobado\", \"Aprobado\", \"Aprobado\", \"Aprobado\", \"Aprobado\", \"Aprobado\", \"Aprobado\", \"Aprobado\", \"Aprobado\", \"Aprobado\", \"Aprobado\", \"Aprobado\", \"Aprobado\", \"Aprobado\", \"Aprobado\", \"Aprobado\", \"Aprobado\", \"Aprobado\", \"Aprobado\", \"Aprobado\", \"Aprobado\", \"Aprobado\", \"Aprobado\", \"Aprobado\", \"Aprobado\", \"Aprobado\", \"Aprobado\", \"Aprobado\", \"Aprobado\", \"Aprobado\", \"Aprobado\", \"Aprobado\", \"Aprobado\", \"Aprobado\", \"Aprobado\", \"Aprobado\", \"Aprobado\", \"Aprobado\", \"Aprobado\", \"Aprobado\", \"Aprobado\", \"Aprobado\", \"Aprobado\", \"Aprobado\", \"Aprobado\", \"Aprobado\", \"Aprobado\", \"Aprobado\", \"Aprobado\", \"Aprobado\", \"Aprobado\", \"Aprobado\", \"Aprobado\", \"Aprobado\", \"Aprobado\", \"Aprobado\", \"Aprobado\", \"Aprobado\", \"Aprobado\", \"Aprobado\", \"Aprobado\", \"Aprobado\", \"Aprobado\", \"Aprobado\", \"Aprobado\", \"Aprobado\", \"Aprobado\", \"Aprobado\", \"Aprobado\", \"Aprobado\", \"Aprobado\", \"Aprobado\", \"Aprobado\", \"Aprobado\", \"Aprobado\", \"Aprobado\", \"Aprobado\", \"Aprobado\", \"Aprobado\", \"Aprobado\", \"Aprobado\", \"Aprobado\", \"Aprobado\", \"Aprobado\", \"Aprobado\", \"Aprobado\", \"Aprobado\", \"Aprobado\", \"Aprobado\", \"Aprobado\", \"Aprobado\", \"Aprobado\", \"Aprobado\", \"Aprobado\", \"Aprobado\", \"Aprobado\", \"Aprobado\", \"Aprobado\", \"Aprobado\", \"Aprobado\", \"Aprobado\", \"Aprobado\", \"Aprobado\", \"Aprobado\", \"Aprobado\", \"Aprobado\", \"Aprobado\", \"Aprobado\", \"Aprobado\", \"Aprobado\", \"Aprobado\", \"Aprobado\", \"Aprobado\", \"Aprobado\", \"Aprobado\", \"Aprobado\", \"Aprobado\", \"Aprobado\", \"Aprobado\", \"Aprobado\", \"Aprobado\", \"Aprobado\", \"Aprobado\", \"Aprobado\", \"Aprobado\", \"Aprobado\", \"Aprobado\", \"Aprobado\", \"Aprobado\", \"Aprobado\", \"Aprobado\", \"Aprobado\", \"Aprobado\", \"Aprobado\", \"Aprobado\", \"Aprobado\", \"Aprobado\", \"Aprobado\", \"Aprobado\", \"Aprobado\", \"Aprobado\", \"Aprobado\", \"Aprobado\", \"Aprobado\", \"Aprobado\", \"Aprobado\", \"Aprobado\", \"Aprobado\", \"Aprobado\", \"Aprobado\", \"Aprobado\", \"Aprobado\", \"Aprobado\", \"Aprobado\", \"Aprobado\", \"Aprobado\", \"Aprobado\", \"Aprobado\", \"Aprobado\", \"Aprobado\", \"Aprobado\", \"Aprobado\", \"Aprobado\", \"Aprobado\", \"Aprobado\", \"Aprobado\", \"Aprobado\", \"Aprobado\", \"Aprobado\", \"Aprobado\", \"Aprobado\", \"Aprobado\", \"Aprobado\", \"Aprobado\", \"Aprobado\", \"Aprobado\", \"Aprobado\", \"Aprobado\", \"Aprobado\", \"Aprobado\", \"Aprobado\", \"Aprobado\", \"Aprobado\", \"Aprobado\", \"Aprobado\", \"Aprobado\", \"Aprobado\", \"Aprobado\", \"Aprobado\", \"Aprobado\", \"Aprobado\", \"Aprobado\", \"Aprobado\", \"Aprobado\", \"Aprobado\", \"Aprobado\", \"Aprobado\", \"Aprobado\", \"Aprobado\", \"Aprobado\", \"Aprobado\", \"Aprobado\", \"Aprobado\", \"Aprobado\", \"Aprobado\", \"Aprobado\", \"Aprobado\", \"Aprobado\", \"Aprobado\", \"Aprobado\", \"Aprobado\", \"Aprobado\", \"Aprobado\", \"Aprobado\", \"Aprobado\", \"Aprobado\", \"Aprobado\", \"Aprobado\", \"Aprobado\", \"Aprobado\", \"Aprobado\", \"Aprobado\", \"Aprobado\", \"Aprobado\", \"Aprobado\", \"Aprobado\", \"Aprobado\", \"Aprobado\", \"Aprobado\", \"Aprobado\", \"Aprobado\", \"Aprobado\", \"Aprobado\", \"Aprobado\", \"Aprobado\", \"Aprobado\", \"Aprobado\", \"Aprobado\", \"Aprobado\", \"Aprobado\", \"Aprobado\", \"Aprobado\", \"Aprobado\", \"Aprobado\", \"Aprobado\", \"Aprobado\", \"Aprobado\", \"Aprobado\", \"Aprobado\", \"Aprobado\", \"Aprobado\", \"Aprobado\", \"Aprobado\", \"Aprobado\", \"Aprobado\", \"Aprobado\", \"Aprobado\", \"Aprobado\", \"Aprobado\", \"Aprobado\", \"Aprobado\", \"Aprobado\", \"Aprobado\", \"Aprobado\", \"Aprobado\", \"Aprobado\", \"Aprobado\", \"Aprobado\", \"Aprobado\", \"Aprobado\", \"Aprobado\", \"Aprobado\", \"Aprobado\", \"Aprobado\", \"Aprobado\", \"Aprobado\", \"Aprobado\", \"Aprobado\", \"Aprobado\", \"Aprobado\", \"Aprobado\", \"Aprobado\", \"Aprobado\", \"Aprobado\", \"Aprobado\", \"Aprobado\", \"Aprobado\", \"Aprobado\", \"Aprobado\", \"Aprobado\", \"Aprobado\", \"Aprobado\", \"Aprobado\", \"Aprobado\", \"Aprobado\", \"Aprobado\", \"Aprobado\", \"Aprobado\", \"Aprobado\", \"Aprobado\", \"Aprobado\", \"Aprobado\", \"Aprobado\", \"Aprobado\", \"Aprobado\", \"Aprobado\", \"Aprobado\", \"Aprobado\", \"Aprobado\", \"Aprobado\", \"Aprobado\", \"Aprobado\", \"Aprobado\", \"Aprobado\", \"Aprobado\", \"Aprobado\", \"Aprobado\", \"Aprobado\", \"Aprobado\", \"Aprobado\", \"Aprobado\", \"Aprobado\", \"Aprobado\", \"Aprobado\", \"Aprobado\", \"Aprobado\", \"Aprobado\", \"Aprobado\", \"Aprobado\", \"Aprobado\", \"Aprobado\", \"Aprobado\", \"Aprobado\", \"Aprobado\", \"Aprobado\", \"Aprobado\", \"Aprobado\", \"Aprobado\", \"Aprobado\", \"Aprobado\", \"Aprobado\", \"Aprobado\", \"Aprobado\", \"Aprobado\", \"Aprobado\", \"Aprobado\", \"Aprobado\", \"Aprobado\", \"Aprobado\", \"Aprobado\", \"Aprobado\", \"Aprobado\", \"Aprobado\", \"Aprobado\", \"Aprobado\", \"Aprobado\", \"Aprobado\", \"Aprobado\", \"Aprobado\", \"Aprobado\", \"Aprobado\", \"Aprobado\", \"Aprobado\", \"Aprobado\", \"Aprobado\", \"Aprobado\", \"Aprobado\", \"Aprobado\", \"Aprobado\", \"Aprobado\", \"Aprobado\", \"Aprobado\", \"Aprobado\", \"Aprobado\", \"Aprobado\", \"Aprobado\", \"Aprobado\", \"Aprobado\", \"Aprobado\", \"Aprobado\", \"Aprobado\", \"Aprobado\", \"Aprobado\", \"Aprobado\", \"Aprobado\", \"Aprobado\", \"Aprobado\", \"Aprobado\", \"Aprobado\", \"Aprobado\", \"Aprobado\", \"Aprobado\", \"Aprobado\", \"Aprobado\", \"Aprobado\", \"Aprobado\", \"Aprobado\", \"Aprobado\", \"Aprobado\", \"Aprobado\", \"Aprobado\", \"Aprobado\", \"Aprobado\", \"Aprobado\", \"Aprobado\", \"Aprobado\", \"Aprobado\", \"Aprobado\", \"Aprobado\", \"Aprobado\", \"Aprobado\", \"Aprobado\", \"Aprobado\", \"Aprobado\", \"Aprobado\", \"Aprobado\", \"Aprobado\", \"Aprobado\", \"Aprobado\", \"Aprobado\", \"Aprobado\", \"Aprobado\", \"Aprobado\", \"Aprobado\", \"Aprobado\", \"Aprobado\", \"Aprobado\", \"Aprobado\", \"Aprobado\", \"Aprobado\", \"Aprobado\", \"Aprobado\", \"Aprobado\", \"Aprobado\", \"Aprobado\", \"Aprobado\", \"Aprobado\", \"Aprobado\", \"Aprobado\", \"Aprobado\", \"Aprobado\", \"Aprobado\", \"Aprobado\", \"Aprobado\", \"Aprobado\", \"Aprobado\", \"Aprobado\", \"Aprobado\", \"Aprobado\", \"Aprobado\", \"Aprobado\", \"Aprobado\", \"Aprobado\", \"Aprobado\", \"Aprobado\", \"Aprobado\", \"Aprobado\", \"Aprobado\", \"Aprobado\", \"Aprobado\", \"Aprobado\", \"Aprobado\", \"Aprobado\", \"Aprobado\", \"Aprobado\", \"Aprobado\", \"Aprobado\", \"Aprobado\", \"Aprobado\", \"Aprobado\", \"Aprobado\", \"Aprobado\", \"Aprobado\", \"Aprobado\", \"Aprobado\", \"Aprobado\", \"Aprobado\", \"Aprobado\", \"Aprobado\", \"Aprobado\", \"Aprobado\", \"Aprobado\", \"Aprobado\", \"Aprobado\", \"Aprobado\", \"Aprobado\", \"Aprobado\", \"Aprobado\", \"Aprobado\", \"Aprobado\", \"Aprobado\", \"Aprobado\", \"Aprobado\", \"Aprobado\", \"Aprobado\", \"Aprobado\", \"Aprobado\", \"Aprobado\", \"Aprobado\", \"Aprobado\", \"Aprobado\", \"Aprobado\", \"Aprobado\", \"Aprobado\", \"Aprobado\", \"Aprobado\", \"Aprobado\", \"Aprobado\", \"Aprobado\", \"Aprobado\", \"Aprobado\", \"Aprobado\", \"Aprobado\", \"Aprobado\", \"Aprobado\", \"Aprobado\", \"Aprobado\", \"Aprobado\", \"Aprobado\", \"Aprobado\", \"Aprobado\", \"Aprobado\", \"Aprobado\", \"Aprobado\", \"Aprobado\", \"Aprobado\", \"Aprobado\", \"Aprobado\", \"Aprobado\", \"Aprobado\", \"Aprobado\", \"Aprobado\", \"Aprobado\", \"Aprobado\", \"Aprobado\", \"Aprobado\", \"Aprobado\", \"Aprobado\", \"Aprobado\", \"Aprobado\", \"Aprobado\", \"Aprobado\", \"Aprobado\", \"Aprobado\", \"Aprobado\", \"Aprobado\", \"Aprobado\", \"Aprobado\", \"Aprobado\", \"Aprobado\", \"Aprobado\", \"Aprobado\", \"Aprobado\", \"Aprobado\", \"Aprobado\", \"Aprobado\", \"Aprobado\", \"Aprobado\", \"Aprobado\", \"Aprobado\", \"Aprobado\", \"Aprobado\", \"Aprobado\", \"Aprobado\", \"Aprobado\", \"Aprobado\", \"Aprobado\", \"Aprobado\", \"Aprobado\", \"Aprobado\", \"Aprobado\", \"Aprobado\", \"Aprobado\", \"Aprobado\", \"Aprobado\", \"Aprobado\", \"Aprobado\", \"Aprobado\", \"Aprobado\", \"Aprobado\", \"Aprobado\", \"Aprobado\", \"Aprobado\", \"Aprobado\", \"Aprobado\", \"Aprobado\", \"Aprobado\", \"Aprobado\", \"Aprobado\", \"Aprobado\", \"Aprobado\", \"Aprobado\", \"Aprobado\", \"Aprobado\", \"Aprobado\", \"Aprobado\", \"Aprobado\", \"Aprobado\", \"Aprobado\", \"Aprobado\", \"Aprobado\", \"Aprobado\", \"Aprobado\", \"Aprobado\", \"Aprobado\", \"Aprobado\", \"Aprobado\", \"Aprobado\", \"Aprobado\", \"Aprobado\", \"Aprobado\", \"Aprobado\", \"Aprobado\", \"Aprobado\", \"Aprobado\", \"Aprobado\", \"Aprobado\", \"Aprobado\", \"Aprobado\", \"Aprobado\", \"Aprobado\", \"Aprobado\", \"Aprobado\", \"Aprobado\", \"Aprobado\", \"Aprobado\", \"Aprobado\", \"Reprobado\", \"Reprobado\", \"Reprobado\", \"Reprobado\", \"Reprobado\", \"Reprobado\", \"Reprobado\", \"Reprobado\", \"Reprobado\", \"Reprobado\", \"Reprobado\", \"Reprobado\", \"Reprobado\", \"Reprobado\", \"Reprobado\", \"Reprobado\", \"Reprobado\", \"Reprobado\", \"Reprobado\", \"Reprobado\", \"Reprobado\", \"Reprobado\", \"Reprobado\", \"Reprobado\", \"Reprobado\", \"Reprobado\", \"Reprobado\", \"Reprobado\", \"Reprobado\", \"Reprobado\", \"Reprobado\", \"Reprobado\", \"Reprobado\", \"Reprobado\", \"Reprobado\", \"Reprobado\", \"Reprobado\", \"Reprobado\", \"Reprobado\", \"Reprobado\", \"Reprobado\", \"Reprobado\", \"Reprobado\", \"Reprobado\", \"Reprobado\", \"Reprobado\", \"Reprobado\", \"Reprobado\", \"Reprobado\", \"Reprobado\", \"Reprobado\", \"Reprobado\", \"Reprobado\", \"Reprobado\", \"Reprobado\", \"Reprobado\", \"Reprobado\", \"Reprobado\", \"Reprobado\", \"Reprobado\", \"Reprobado\", \"Reprobado\", \"Reprobado\", \"Reprobado\", \"Reprobado\", \"Reprobado\", \"Reprobado\", \"Reprobado\", \"Reprobado\", \"Reprobado\", \"Reprobado\", \"Reprobado\", \"Reprobado\", \"Reprobado\", \"Reprobado\", \"Reprobado\", \"Reprobado\", \"Reprobado\", \"Reprobado\", \"Reprobado\", \"Reprobado\", \"Reprobado\", \"Reprobado\", \"Reprobado\", \"Reprobado\", \"Reprobado\", \"Reprobado\", \"Reprobado\", \"Reprobado\", \"Reprobado\", \"Reprobado\", \"Reprobado\", \"Reprobado\", \"Reprobado\", \"Reprobado\", \"Reprobado\", \"Reprobado\", \"Reprobado\", \"Reprobado\", \"Reprobado\", \"Reprobado\", \"Reprobado\", \"Reprobado\", \"Reprobado\", \"Reprobado\", \"Reprobado\", \"Reprobado\", \"Reprobado\", \"Reprobado\", \"Reprobado\", \"Reprobado\", \"Reprobado\", \"Reprobado\", \"Reprobado\", \"Reprobado\", \"Reprobado\", \"Reprobado\", \"Reprobado\", \"Reprobado\", \"Reprobado\", \"Reprobado\", \"Reprobado\", \"Reprobado\", \"Reprobado\", \"Reprobado\", \"Reprobado\", \"Reprobado\", \"Reprobado\", \"Reprobado\", \"Reprobado\", \"Reprobado\", \"Reprobado\", \"Reprobado\", \"Reprobado\", \"Reprobado\", \"Reprobado\", \"Reprobado\", \"Reprobado\", \"Reprobado\", \"Reprobado\", \"Reprobado\", \"Reprobado\", \"Reprobado\", \"Reprobado\", \"Reprobado\", \"Reprobado\", \"Reprobado\", \"Reprobado\", \"Reprobado\", \"Reprobado\", \"Reprobado\", \"Reprobado\", \"Reprobado\", \"Reprobado\", \"Reprobado\", \"Reprobado\", \"Reprobado\", \"Reprobado\", \"Reprobado\", \"Reprobado\", \"Reprobado\", \"Reprobado\", \"Reprobado\", \"Reprobado\", \"Reprobado\", \"Reprobado\", \"Reprobado\", \"Reprobado\", \"Reprobado\", \"Reprobado\", \"Reprobado\", \"Reprobado\", \"Reprobado\", \"Reprobado\", \"Reprobado\", \"Reprobado\", \"Reprobado\", \"Reprobado\", \"Reprobado\", \"Reprobado\", \"Reprobado\", \"Reprobado\", \"Reprobado\", \"Reprobado\", \"Reprobado\", \"Reprobado\", \"Reprobado\", \"Reprobado\", \"Reprobado\", \"Reprobado\", \"Reprobado\", \"Reprobado\", \"Reprobado\", \"Reprobado\", \"Reprobado\", \"Reprobado\", \"Reprobado\", \"Reprobado\", \"Reprobado\", \"Reprobado\", \"Reprobado\", \"Reprobado\", \"Reprobado\", \"Reprobado\", \"Reprobado\", \"Reprobado\", \"Reprobado\", \"Reprobado\", \"Reprobado\", \"Reprobado\", \"Reprobado\", \"Reprobado\", \"Reprobado\", \"Reprobado\", \"Reprobado\", \"Reprobado\", \"Reprobado\", \"Reprobado\", \"Reprobado\", \"Reprobado\", \"Reprobado\", \"Reprobado\", \"Reprobado\", \"Reprobado\", \"Reprobado\", \"Reprobado\", \"Reprobado\", \"Reprobado\", \"Reprobado\", \"Reprobado\", \"Reprobado\", \"Reprobado\", \"Reprobado\", \"Reprobado\", \"Reprobado\", \"Reprobado\", \"Reprobado\", \"Reprobado\", \"Reprobado\", \"Reprobado\", \"Reprobado\", \"Reprobado\", \"Reprobado\", \"Reprobado\", \"Reprobado\", \"Reprobado\", \"Reprobado\", \"Reprobado\", \"Reprobado\", \"Reprobado\", \"Reprobado\", \"Reprobado\", \"Reprobado\", \"Reprobado\", \"Reprobado\", \"Reprobado\", \"Reprobado\", \"Reprobado\", \"Reprobado\", \"Reprobado\", \"Reprobado\", \"Reprobado\", \"Reprobado\", \"Reprobado\", \"Reprobado\", \"Reprobado\", \"Reprobado\", \"Reprobado\", \"Reprobado\", \"Reprobado\", \"Reprobado\", \"Reprobado\", \"Reprobado\", \"Reprobado\", \"Reprobado\", \"Reprobado\", \"Reprobado\", \"Reprobado\", \"Reprobado\", \"Reprobado\", \"Reprobado\", \"Reprobado\", \"Reprobado\", \"Reprobado\", \"Reprobado\", \"Reprobado\", \"Reprobado\", \"Reprobado\", \"Reprobado\", \"Reprobado\", \"Reprobado\", \"Reprobado\", \"Reprobado\", \"Reprobado\", \"Reprobado\", \"Reprobado\", \"Reprobado\", \"Reprobado\", \"Reprobado\", \"Reprobado\", \"Reprobado\", \"Reprobado\", \"Reprobado\", \"Reprobado\", \"Reprobado\", \"Reprobado\", \"Reprobado\", \"Reprobado\", \"Reprobado\", \"Reprobado\", \"Reprobado\", \"Reprobado\", \"Reprobado\", \"Reprobado\", \"Reprobado\", \"Reprobado\", \"Reprobado\", \"Reprobado\", \"Reprobado\", \"Reprobado\", \"Reprobado\", \"Reprobado\", \"Reprobado\", \"Reprobado\", \"Reprobado\", \"Reprobado\", \"Reprobado\", \"Reprobado\", \"Reprobado\", \"Reprobado\", \"Reprobado\", \"Reprobado\", \"Reprobado\", \"Reprobado\", \"Reprobado\", \"Reprobado\", \"Reprobado\", \"Reprobado\", \"Reprobado\", \"Reprobado\", \"Reprobado\", \"Reprobado\", \"Reprobado\", \"Reprobado\", \"Reprobado\", \"Reprobado\", \"Reprobado\", \"Reprobado\", \"Reprobado\", \"Reprobado\", \"Reprobado\", \"Reprobado\", \"Reprobado\", \"Reprobado\", \"Reprobado\", \"Reprobado\", \"Reprobado\", \"Reprobado\", \"Reprobado\", \"Reprobado\", \"Reprobado\", \"Reprobado\", \"Reprobado\", \"Reprobado\", \"Reprobado\", \"Reprobado\", \"Reprobado\", \"Reprobado\", \"Reprobado\", \"Reprobado\", \"Reprobado\", \"Reprobado\", \"Reprobado\", \"Reprobado\", \"Reprobado\", \"Reprobado\", \"Reprobado\", \"Reprobado\", \"Reprobado\", \"Reprobado\", \"Reprobado\", \"Reprobado\", \"Reprobado\", \"Reprobado\", \"Reprobado\", \"Reprobado\", \"Reprobado\", \"Reprobado\", \"Reprobado\", \"Reprobado\", \"Reprobado\", \"Reprobado\", \"Reprobado\", \"Reprobado\", \"Reprobado\", \"Reprobado\", \"Reprobado\", \"Reprobado\", \"Reprobado\", \"Reprobado\", \"Reprobado\", \"Reprobado\", \"Reprobado\", \"Reprobado\", \"Reprobado\", \"Reprobado\", \"Reprobado\", \"Reprobado\", \"Reprobado\", \"Reprobado\", \"Reprobado\", \"Reprobado\", \"Reprobado\", \"Reprobado\", \"Reprobado\", \"Reprobado\", \"Reprobado\", \"Reprobado\", \"Reprobado\", \"Reprobado\", \"Reprobado\", \"Reprobado\", \"Reprobado\", \"Reprobado\", \"Reprobado\", \"Reprobado\", \"Reprobado\", \"Reprobado\", \"Aprobado\", \"Aprobado\", \"Aprobado\", \"Reprobado\", \"Reprobado\", \"Reprobado\", \"Reprobado\", \"Reprobado\", \"Reprobado\", \"Reprobado\", \"Reprobado\", \"Reprobado\", \"Reprobado\", \"Aprobado\", \"Aprobado\", \"Aprobado\", \"Aprobado\", \"Reprobado\", \"Reprobado\", \"Reprobado\", \"Reprobado\", \"Aprobado\", \"Aprobado\", \"Aprobado\", \"Reprobado\", \"Reprobado\", \"Reprobado\", \"Aprobado\", \"Reprobado\", \"Aprobado\", \"Reprobado\", \"Reprobado\", \"Reprobado\", \"Aprobado\", \"Reprobado\", \"Reprobado\", \"Reprobado\", \"Reprobado\", \"Aprobado\", \"Reprobado\", \"Aprobado\", \"Reprobado\", \"Reprobado\", \"Aprobado\", \"Aprobado\", \"Reprobado\", \"Reprobado\", \"Aprobado\", \"Reprobado\", \"Aprobado\", \"Reprobado\", \"Reprobado\", \"Reprobado\", \"Reprobado\", \"Reprobado\", \"Reprobado\", \"Reprobado\", \"Reprobado\", \"Reprobado\", \"Reprobado\", \"Reprobado\", \"Reprobado\", \"Reprobado\", \"Aprobado\", \"Reprobado\", \"Aprobado\", \"Aprobado\", \"Reprobado\", \"Reprobado\", \"Reprobado\", \"Aprobado\", \"Aprobado\", \"Aprobado\", \"Aprobado\", \"Aprobado\", \"Reprobado\", \"Reprobado\", \"Reprobado\", \"Aprobado\", \"Aprobado\", \"Reprobado\", \"Reprobado\", \"Reprobado\", \"Aprobado\", \"Reprobado\", \"Reprobado\", \"Aprobado\", \"Reprobado\", \"Reprobado\", \"Reprobado\", \"Reprobado\", \"Reprobado\", \"Aprobado\", \"Reprobado\", \"Aprobado\", \"Aprobado\", \"Reprobado\", \"Reprobado\", \"Aprobado\", \"Aprobado\", \"Reprobado\", \"Reprobado\", \"Reprobado\", \"Reprobado\", \"Reprobado\", \"Reprobado\", \"Reprobado\", \"Reprobado\", \"Reprobado\", \"Reprobado\", \"Reprobado\", \"Reprobado\", \"Reprobado\", \"Reprobado\", \"Reprobado\", \"Reprobado\", \"Reprobado\", \"Reprobado\", \"Reprobado\", \"Reprobado\", \"Reprobado\", \"Reprobado\", \"Reprobado\", \"Reprobado\", \"Reprobado\", \"Reprobado\", \"Reprobado\", \"Reprobado\", \"Reprobado\", \"Reprobado\", \"Reprobado\", \"Reprobado\", \"Reprobado\", \"Reprobado\", \"Reprobado\", \"Reprobado\", \"Aprobado\", \"Aprobado\", \"Aprobado\", \"Aprobado\", \"Aprobado\", \"Aprobado\", \"Aprobado\", \"Aprobado\", \"Aprobado\", \"Aprobado\", \"Aprobado\", \"Aprobado\", \"Aprobado\", \"Aprobado\", \"Aprobado\", \"Aprobado\", \"Aprobado\", \"Aprobado\", \"Aprobado\", \"Aprobado\", \"Aprobado\", \"Aprobado\", \"Aprobado\", \"Aprobado\", \"Aprobado\", \"Aprobado\", \"Aprobado\", \"Aprobado\", \"Aprobado\", \"Aprobado\", \"Aprobado\", \"Aprobado\", \"Aprobado\", \"Aprobado\", \"Aprobado\", \"Aprobado\", \"Aprobado\", \"Aprobado\", \"Aprobado\", \"Aprobado\", \"Aprobado\", \"Aprobado\", \"Aprobado\", \"Aprobado\", \"Aprobado\", \"Aprobado\", \"Aprobado\", \"Aprobado\", \"Aprobado\", \"Aprobado\", \"Aprobado\", \"Aprobado\", \"Aprobado\", \"Aprobado\", \"Aprobado\", \"Aprobado\", \"Aprobado\", \"Aprobado\", \"Aprobado\", \"Aprobado\", \"Aprobado\", \"Aprobado\", \"Aprobado\", \"Aprobado\", \"Aprobado\", \"Aprobado\", \"Aprobado\", \"Aprobado\", \"Aprobado\", \"Aprobado\", \"Aprobado\", \"Aprobado\", \"Aprobado\", \"Aprobado\", \"Aprobado\", \"Aprobado\", \"Aprobado\", \"Aprobado\", \"Aprobado\", \"Aprobado\", \"Aprobado\", \"Aprobado\", \"Aprobado\", \"Aprobado\", \"Aprobado\", \"Aprobado\", \"Aprobado\", \"Aprobado\", \"Aprobado\", \"Aprobado\", \"Aprobado\", \"Aprobado\", \"Aprobado\", \"Aprobado\", \"Aprobado\", \"Aprobado\", \"Aprobado\", \"Aprobado\", \"Aprobado\", \"Aprobado\", \"Aprobado\", \"Aprobado\", \"Aprobado\", \"Aprobado\", \"Aprobado\", \"Aprobado\", \"Aprobado\", \"Aprobado\", \"Aprobado\", \"Aprobado\", \"Aprobado\", \"Aprobado\", \"Aprobado\", \"Aprobado\", \"Aprobado\", \"Aprobado\", \"Aprobado\", \"Aprobado\", \"Aprobado\", \"Aprobado\", \"Aprobado\", \"Aprobado\", \"Aprobado\", \"Aprobado\", \"Aprobado\", \"Aprobado\", \"Aprobado\", \"Aprobado\", \"Aprobado\", \"Aprobado\", \"Aprobado\", \"Aprobado\", \"Aprobado\", \"Aprobado\", \"Aprobado\", \"Reprobado\", \"Reprobado\", \"Reprobado\", \"Reprobado\", \"Reprobado\", \"Reprobado\", \"Reprobado\", \"Reprobado\", \"Reprobado\", \"Reprobado\", \"Reprobado\", \"Reprobado\", \"Reprobado\", \"Reprobado\", \"Reprobado\", \"Reprobado\", \"Reprobado\", \"Reprobado\", \"Reprobado\", \"Reprobado\", \"Reprobado\", \"Reprobado\", \"Reprobado\", \"Reprobado\", \"Reprobado\", \"Reprobado\", \"Reprobado\", \"Reprobado\", \"Aprobado\", \"Aprobado\", \"Aprobado\", \"Aprobado\", \"Aprobado\", \"Aprobado\", \"Reprobado\", \"Aprobado\", \"Aprobado\", \"Aprobado\", \"Reprobado\", \"Reprobado\", \"Aprobado\", \"Aprobado\", \"Aprobado\", \"Aprobado\", \"Aprobado\", \"Aprobado\", \"Aprobado\", \"Reprobado\", \"Reprobado\", \"Aprobado\", \"Reprobado\", \"Reprobado\", \"Aprobado\", \"Aprobado\", \"Aprobado\", \"Reprobado\", \"Reprobado\", \"Aprobado\", \"Aprobado\", \"Aprobado\", \"Aprobado\", \"Aprobado\", \"Aprobado\", \"Aprobado\", \"Aprobado\", \"Aprobado\", \"Reprobado\", \"Reprobado\", \"Aprobado\", \"Reprobado\", \"Reprobado\", \"Aprobado\", \"Aprobado\", \"Aprobado\", \"Reprobado\", \"Reprobado\", \"Reprobado\", \"Aprobado\", \"Aprobado\", \"Aprobado\", \"Aprobado\", \"Aprobado\", \"Aprobado\", \"Aprobado\", \"Aprobado\", \"Aprobado\", \"Aprobado\", \"Aprobado\", \"Aprobado\", \"Aprobado\", \"Aprobado\", \"Aprobado\", \"Aprobado\", \"Aprobado\", \"Aprobado\", \"Aprobado\", \"Aprobado\", \"Aprobado\", \"Aprobado\", \"Aprobado\", \"Aprobado\", \"Aprobado\", \"Aprobado\", \"Aprobado\", \"Reprobado\", \"Reprobado\", \"Reprobado\", \"Reprobado\", \"Reprobado\", \"Reprobado\", \"Reprobado\", \"Reprobado\", \"Reprobado\", \"Reprobado\", \"Reprobado\", \"Reprobado\", \"Reprobado\", \"Reprobado\", \"Reprobado\", \"Reprobado\", \"Reprobado\", \"Reprobado\", \"Reprobado\", \"Reprobado\", \"Reprobado\", \"Reprobado\", \"Reprobado\", \"Reprobado\", \"Reprobado\", \"Reprobado\", \"Reprobado\", \"Reprobado\", \"Reprobado\", \"Reprobado\", \"Reprobado\", \"Reprobado\", \"Reprobado\", \"Reprobado\", \"Reprobado\", \"Reprobado\", \"Reprobado\", \"Reprobado\", \"Reprobado\", \"Reprobado\", \"Reprobado\", \"Reprobado\", \"Reprobado\", \"Reprobado\", \"Reprobado\", \"Reprobado\", \"Reprobado\", \"Reprobado\", \"Reprobado\", \"Reprobado\", \"Reprobado\", \"Reprobado\", \"Reprobado\", \"Reprobado\", \"Reprobado\", \"Reprobado\", \"Reprobado\", \"Reprobado\", \"Reprobado\", \"Reprobado\", \"Reprobado\", \"Reprobado\", \"Reprobado\", \"Reprobado\", \"Reprobado\", \"Reprobado\", \"Reprobado\", \"Reprobado\", \"Reprobado\", \"Reprobado\", \"Reprobado\", \"Reprobado\", \"Reprobado\", \"Reprobado\", \"Reprobado\", \"Reprobado\", \"Reprobado\", \"Reprobado\", \"Reprobado\", \"Aprobado\", \"Aprobado\", \"Reprobado\", \"Aprobado\", \"Aprobado\", \"Reprobado\", \"Reprobado\", \"Aprobado\", \"Reprobado\", \"Reprobado\", \"Reprobado\", \"Reprobado\", \"Reprobado\", \"Reprobado\", \"Reprobado\", \"Reprobado\", \"Reprobado\", \"Reprobado\", \"Aprobado\", \"Aprobado\", \"Reprobado\", \"Reprobado\", \"Reprobado\", \"Reprobado\", \"Aprobado\", \"Aprobado\", \"Reprobado\", \"Aprobado\", \"Aprobado\", \"Reprobado\", \"Reprobado\", \"Reprobado\", \"Reprobado\", \"Reprobado\", \"Reprobado\", \"Reprobado\", \"Reprobado\", \"Reprobado\", \"Reprobado\", \"Reprobado\", \"Reprobado\", \"Reprobado\", \"Reprobado\", \"Aprobado\", \"Reprobado\", \"Reprobado\", \"Aprobado\", \"Aprobado\", \"Aprobado\", \"Aprobado\", \"Aprobado\", \"Reprobado\", \"Reprobado\", \"Aprobado\", \"Reprobado\", \"Aprobado\", \"Aprobado\", \"Reprobado\", \"Reprobado\", \"Aprobado\", \"Aprobado\", \"Aprobado\", \"Reprobado\", \"Reprobado\", \"Reprobado\", \"Reprobado\", \"Aprobado\", \"Reprobado\", \"Reprobado\", \"Reprobado\", \"Aprobado\", \"Reprobado\", \"Reprobado\", \"Reprobado\", \"Aprobado\", \"Aprobado\", \"Reprobado\", \"Reprobado\", \"Reprobado\", \"Aprobado\", \"Reprobado\", \"Reprobado\", \"Reprobado\", \"Aprobado\", \"Reprobado\", \"Reprobado\", \"Aprobado\", \"Aprobado\", \"Reprobado\", \"Reprobado\", \"Reprobado\", \"Reprobado\", \"Reprobado\", \"Reprobado\", \"Aprobado\", \"Reprobado\", \"Reprobado\", \"Reprobado\", \"Reprobado\", \"Reprobado\", \"Reprobado\", \"Reprobado\", \"Aprobado\", \"Reprobado\", \"Reprobado\", \"Aprobado\", \"Reprobado\", \"Reprobado\", \"Reprobado\", \"Aprobado\", \"Reprobado\", \"Aprobado\", \"Reprobado\", \"Reprobado\", \"Aprobado\", \"Aprobado\", \"Reprobado\", \"Aprobado\", \"Reprobado\", \"Aprobado\", \"Reprobado\", \"Aprobado\", \"Aprobado\", \"Aprobado\", \"Reprobado\", \"Aprobado\", \"Aprobado\", \"Aprobado\", \"Aprobado\", \"Reprobado\", \"Aprobado\", \"Reprobado\", \"Reprobado\", \"Reprobado\", \"Aprobado\", \"Reprobado\", \"Reprobado\", \"Aprobado\", \"Reprobado\", \"Reprobado\", \"Reprobado\", \"Reprobado\", \"Reprobado\", \"Reprobado\", \"Reprobado\", \"Reprobado\", \"Aprobado\", \"Aprobado\", \"Reprobado\", \"Aprobado\", \"Reprobado\", \"Reprobado\", \"Aprobado\", \"Reprobado\", \"Aprobado\", \"Reprobado\", \"Reprobado\", \"Reprobado\", \"Aprobado\", \"Aprobado\", \"Reprobado\", \"Aprobado\", \"Reprobado\", \"Aprobado\", \"Reprobado\", \"Reprobado\", \"Reprobado\", \"Reprobado\", \"Reprobado\", \"Aprobado\", \"Reprobado\", \"Reprobado\", \"Aprobado\", \"Aprobado\", \"Aprobado\", \"Reprobado\", \"Aprobado\", \"Aprobado\", \"Reprobado\", \"Aprobado\", \"Reprobado\", \"Reprobado\", \"Aprobado\", \"Reprobado\", \"Aprobado\", \"Aprobado\", \"Reprobado\", \"Reprobado\", \"Reprobado\", \"Reprobado\", \"Reprobado\", \"Reprobado\", \"Reprobado\", \"Aprobado\", \"Reprobado\", \"Reprobado\", \"Aprobado\", \"Reprobado\", \"Reprobado\", \"Reprobado\", \"Reprobado\", \"Reprobado\", \"Reprobado\", \"Reprobado\", \"Reprobado\", \"Reprobado\", \"Reprobado\", \"Reprobado\", \"Reprobado\", \"Reprobado\", \"Reprobado\", \"Reprobado\", \"Reprobado\", \"Reprobado\", \"Reprobado\", \"Aprobado\", \"Reprobado\", \"Aprobado\", \"Reprobado\", \"Aprobado\", \"Reprobado\", \"Reprobado\", \"Reprobado\", \"Reprobado\", \"Reprobado\", \"Aprobado\", \"Reprobado\", \"Reprobado\", \"Reprobado\", \"Reprobado\", \"Reprobado\", \"Reprobado\", \"Reprobado\", \"Reprobado\", \"Aprobado\", \"Reprobado\", \"Reprobado\", \"Reprobado\", \"Aprobado\", \"Reprobado\", \"Reprobado\", \"Reprobado\", \"Aprobado\", \"Reprobado\", \"Aprobado\", \"Aprobado\", \"Aprobado\", \"Aprobado\", \"Aprobado\", \"Aprobado\", \"Aprobado\", \"Aprobado\", \"Aprobado\", \"Aprobado\", \"Aprobado\", \"Aprobado\", \"Aprobado\", \"Aprobado\", \"Aprobado\", \"Aprobado\", \"Aprobado\", \"Aprobado\", \"Aprobado\", \"Aprobado\", \"Aprobado\", \"Aprobado\", \"Aprobado\", \"Aprobado\", \"Aprobado\", \"Aprobado\", \"Aprobado\", \"Aprobado\", \"Aprobado\", \"Aprobado\", \"Aprobado\", \"Aprobado\", \"Aprobado\", \"Aprobado\", \"Aprobado\", \"Aprobado\", \"Aprobado\", \"Aprobado\", \"Aprobado\", \"Aprobado\", \"Aprobado\", \"Aprobado\", \"Aprobado\", \"Aprobado\", \"Aprobado\", \"Aprobado\", \"Aprobado\", \"Aprobado\", \"Aprobado\", \"Aprobado\", \"Aprobado\", \"Aprobado\", \"Aprobado\", \"Aprobado\", \"Aprobado\", \"Aprobado\", \"Aprobado\", \"Aprobado\", \"Aprobado\", \"Aprobado\", \"Aprobado\", \"Aprobado\", \"Aprobado\", \"Aprobado\", \"Aprobado\", \"Aprobado\", \"Aprobado\", \"Aprobado\", \"Aprobado\", \"Aprobado\", \"Aprobado\", \"Aprobado\", \"Aprobado\", \"Aprobado\", \"Aprobado\", \"Aprobado\", \"Aprobado\", \"Aprobado\", \"Aprobado\", \"Aprobado\", \"Aprobado\", \"Aprobado\", \"Aprobado\", \"Aprobado\", \"Aprobado\", \"Aprobado\", \"Aprobado\", \"Aprobado\", \"Aprobado\", \"Aprobado\", \"Aprobado\", \"Aprobado\", \"Aprobado\", \"Aprobado\", \"Aprobado\", \"Aprobado\", \"Aprobado\", \"Aprobado\", \"Aprobado\", \"Aprobado\", \"Aprobado\", \"Aprobado\", \"Aprobado\", \"Aprobado\", \"Aprobado\", \"Aprobado\", \"Aprobado\", \"Aprobado\", \"Aprobado\", \"Aprobado\", \"Aprobado\", \"Aprobado\", \"Aprobado\", \"Aprobado\", \"Aprobado\", \"Aprobado\", \"Aprobado\", \"Aprobado\", \"Aprobado\", \"Aprobado\", \"Aprobado\", \"Aprobado\", \"Aprobado\", \"Aprobado\", \"Aprobado\", \"Aprobado\", \"Aprobado\", \"Aprobado\", \"Aprobado\", \"Aprobado\", \"Aprobado\", \"Aprobado\", \"Aprobado\", \"Aprobado\", \"Aprobado\", \"Aprobado\", \"Aprobado\", \"Aprobado\", \"Aprobado\", \"Aprobado\", \"Aprobado\", \"Aprobado\", \"Aprobado\", \"Aprobado\", \"Reprobado\", \"Reprobado\", \"Reprobado\", \"Reprobado\", \"Reprobado\", \"Reprobado\", \"Reprobado\", \"Reprobado\", \"Reprobado\", \"Reprobado\", \"Reprobado\", \"Reprobado\", \"Reprobado\", \"Reprobado\", \"Reprobado\", \"Reprobado\", \"Reprobado\", \"Reprobado\", \"Reprobado\", \"Reprobado\", \"Reprobado\", \"Reprobado\", \"Reprobado\", \"Reprobado\", \"Reprobado\", \"Reprobado\", \"Reprobado\", \"Reprobado\", \"Reprobado\", \"Reprobado\", \"Reprobado\", \"Reprobado\", \"Reprobado\", \"Reprobado\", \"Reprobado\", \"Reprobado\", \"Reprobado\", \"Reprobado\", \"Reprobado\", \"Reprobado\", \"Reprobado\", \"Reprobado\", \"Reprobado\", \"Reprobado\", \"Reprobado\", \"Reprobado\", \"Reprobado\", \"Reprobado\", \"Reprobado\", \"Reprobado\", \"Reprobado\", \"Reprobado\", \"Reprobado\", \"Reprobado\", \"Reprobado\", \"Reprobado\", \"Reprobado\", \"Reprobado\", \"Reprobado\", \"Reprobado\", \"Reprobado\", \"Reprobado\", \"Reprobado\", \"Reprobado\", \"Reprobado\", \"Reprobado\", \"Reprobado\", \"Reprobado\", \"Reprobado\", \"Reprobado\", \"Reprobado\", \"Reprobado\", \"Reprobado\", \"Reprobado\", \"Reprobado\", \"Reprobado\", \"Reprobado\", \"Reprobado\", \"Reprobado\", \"Reprobado\", \"Reprobado\", \"Reprobado\", \"Reprobado\", \"Reprobado\", \"Reprobado\", \"Reprobado\", \"Reprobado\", \"Reprobado\", \"Reprobado\", \"Reprobado\", \"Reprobado\", \"Reprobado\", \"Reprobado\", \"Reprobado\", \"Reprobado\", \"Reprobado\", \"Reprobado\", \"Reprobado\", \"Reprobado\", \"Reprobado\", \"Reprobado\", \"Reprobado\", \"Reprobado\", \"Reprobado\", \"Reprobado\", \"Reprobado\", \"Reprobado\", \"Reprobado\", \"Reprobado\", \"Reprobado\", \"Reprobado\", \"Reprobado\", \"Reprobado\", \"Reprobado\", \"Reprobado\", \"Reprobado\", \"Reprobado\", \"Reprobado\", \"Reprobado\", \"Reprobado\", \"Reprobado\", \"Reprobado\", \"Reprobado\", \"Reprobado\", \"Reprobado\", \"Reprobado\", \"Reprobado\", \"Reprobado\", \"Reprobado\", \"Reprobado\", \"Reprobado\", \"Reprobado\", \"Reprobado\", \"Reprobado\", \"Reprobado\", \"Reprobado\", \"Reprobado\", \"Reprobado\", \"Reprobado\", \"Reprobado\", \"Reprobado\", \"Reprobado\", \"Reprobado\", \"Reprobado\", \"Reprobado\", \"Reprobado\", \"Reprobado\", \"Reprobado\", \"Reprobado\", \"Reprobado\", \"Reprobado\", \"Reprobado\", \"Reprobado\", \"Reprobado\", \"Reprobado\", \"Reprobado\", \"Reprobado\", \"Reprobado\", \"Reprobado\", \"Reprobado\", \"Reprobado\", \"Reprobado\", \"Reprobado\", \"Reprobado\", \"Reprobado\", \"Reprobado\", \"Reprobado\", \"Reprobado\", \"Reprobado\", \"Reprobado\", \"Reprobado\", \"Reprobado\", \"Reprobado\", \"Reprobado\", \"Reprobado\", \"Reprobado\", \"Reprobado\", \"Reprobado\", \"Reprobado\", \"Reprobado\", \"Reprobado\", \"Reprobado\", \"Reprobado\", \"Reprobado\", \"Reprobado\", \"Reprobado\", \"Reprobado\", \"Reprobado\", \"Reprobado\", \"Reprobado\", \"Reprobado\", \"Reprobado\", \"Reprobado\", \"Reprobado\", \"Reprobado\", \"Reprobado\", \"Reprobado\", \"Reprobado\", \"Reprobado\", \"Reprobado\", \"Reprobado\", \"Reprobado\", \"Reprobado\", \"Reprobado\", \"Reprobado\", \"Reprobado\", \"Reprobado\", \"Reprobado\", \"Reprobado\", \"Reprobado\", \"Reprobado\", \"Reprobado\", \"Aprobado\", \"Reprobado\", \"Aprobado\", \"Aprobado\", \"Aprobado\", \"Reprobado\", \"Reprobado\", \"Aprobado\", \"Aprobado\", \"Aprobado\", \"Aprobado\", \"Aprobado\", \"Aprobado\", \"Aprobado\", \"Reprobado\", \"Aprobado\", \"Reprobado\", \"Aprobado\", \"Reprobado\", \"Reprobado\", \"Reprobado\", \"Reprobado\", \"Reprobado\", \"Aprobado\", \"Reprobado\", \"Reprobado\", \"Reprobado\", \"Reprobado\", \"Reprobado\", \"Reprobado\", \"Reprobado\", \"Reprobado\", \"Aprobado\", \"Reprobado\", \"Reprobado\", \"Aprobado\", \"Aprobado\", \"Aprobado\", \"Aprobado\", \"Aprobado\", \"Reprobado\", \"Reprobado\", \"Reprobado\", \"Reprobado\", \"Aprobado\", \"Reprobado\", \"Reprobado\", \"Reprobado\", \"Aprobado\", \"Reprobado\", \"Aprobado\", \"Reprobado\", \"Reprobado\", \"Reprobado\", \"Aprobado\", \"Aprobado\", \"Reprobado\", \"Aprobado\", \"Reprobado\", \"Aprobado\", \"Reprobado\", \"Reprobado\", \"Aprobado\", \"Reprobado\", \"Aprobado\", \"Reprobado\", \"Aprobado\", \"Reprobado\", \"Reprobado\", \"Reprobado\", \"Reprobado\", \"Reprobado\", \"Aprobado\", \"Aprobado\", \"Aprobado\", \"Aprobado\", \"Aprobado\", \"Reprobado\", \"Aprobado\", \"Aprobado\", \"Aprobado\", \"Reprobado\", \"Reprobado\", \"Aprobado\", \"Reprobado\", \"Aprobado\", \"Aprobado\", \"Aprobado\", \"Aprobado\", \"Aprobado\", \"Aprobado\", \"Aprobado\", \"Reprobado\", \"Aprobado\", \"Reprobado\", \"Reprobado\", \"Aprobado\", \"Reprobado\", \"Aprobado\", \"Aprobado\", \"Reprobado\", \"Aprobado\", \"Reprobado\", \"Aprobado\", \"Aprobado\", \"Aprobado\", \"Reprobado\", \"Aprobado\", \"Reprobado\", \"Aprobado\", \"Aprobado\", \"Aprobado\", \"Reprobado\", \"Reprobado\", \"Reprobado\", \"Reprobado\", \"Aprobado\", \"Reprobado\", \"Aprobado\", \"Aprobado\", \"Aprobado\", \"Reprobado\", \"Aprobado\", \"Aprobado\", \"Aprobado\", \"Aprobado\", \"Reprobado\", \"Reprobado\", \"Reprobado\", \"Aprobado\", \"Aprobado\", \"Reprobado\", \"Reprobado\", \"Aprobado\", \"Aprobado\", \"Reprobado\", \"Reprobado\", \"Aprobado\", \"Aprobado\", \"Aprobado\", \"Aprobado\", \"Reprobado\", \"Aprobado\", \"Aprobado\", \"Reprobado\", \"Reprobado\", \"Aprobado\", \"Aprobado\", \"Aprobado\", \"Reprobado\", \"Reprobado\", \"Aprobado\", \"Reprobado\", \"Aprobado\", \"Reprobado\", \"Reprobado\", \"Reprobado\", \"Reprobado\", \"Reprobado\", \"Aprobado\", \"Reprobado\", \"Reprobado\", \"Reprobado\", \"Reprobado\", \"Aprobado\", \"Aprobado\", \"Reprobado\", \"Aprobado\", \"Aprobado\", \"Reprobado\", \"Aprobado\", \"Aprobado\", \"Aprobado\", \"Reprobado\", \"Reprobado\", \"Reprobado\", \"Reprobado\", \"Aprobado\", \"Aprobado\", \"Reprobado\", \"Reprobado\", \"Aprobado\", \"Aprobado\", \"Reprobado\", \"Aprobado\", \"Reprobado\", \"Reprobado\", \"Reprobado\", \"Aprobado\", \"Reprobado\", \"Aprobado\", \"Aprobado\", \"Reprobado\", \"Reprobado\", \"Aprobado\", \"Aprobado\", \"Reprobado\", \"Aprobado\", \"Aprobado\", \"Aprobado\", \"Aprobado\", \"Aprobado\", \"Reprobado\", \"Aprobado\", \"Reprobado\", \"Reprobado\", \"Reprobado\", \"Reprobado\", \"Reprobado\", \"Aprobado\", \"Reprobado\", \"Aprobado\", \"Reprobado\", \"Aprobado\", \"Aprobado\", \"Reprobado\", \"Aprobado\", \"Aprobado\", \"Aprobado\", \"Reprobado\", \"Aprobado\", \"Reprobado\", \"Reprobado\", \"Reprobado\", \"Aprobado\", \"Aprobado\", \"Reprobado\", \"Aprobado\", \"Aprobado\", \"Reprobado\", \"Reprobado\", \"Aprobado\", \"Reprobado\", \"Aprobado\", \"Aprobado\", \"Reprobado\", \"Aprobado\", \"Reprobado\", \"Reprobado\", \"Reprobado\", \"Aprobado\", \"Aprobado\", \"Aprobado\", \"Aprobado\", \"Aprobado\", \"Reprobado\", \"Aprobado\", \"Reprobado\", \"Reprobado\", \"Reprobado\", \"Aprobado\", \"Reprobado\", \"Reprobado\", \"Reprobado\", \"Reprobado\", \"Reprobado\", \"Aprobado\", \"Aprobado\", \"Reprobado\", \"Aprobado\", \"Aprobado\", \"Reprobado\", \"Aprobado\", \"Aprobado\", \"Reprobado\", \"Reprobado\", \"Aprobado\", \"Aprobado\", \"Reprobado\", \"Reprobado\", \"Aprobado\", \"Aprobado\", \"Aprobado\", \"Aprobado\", \"Aprobado\", \"Aprobado\", \"Reprobado\", \"Aprobado\", \"Reprobado\", \"Reprobado\", \"Aprobado\", \"Reprobado\", \"Aprobado\", \"Aprobado\", \"Reprobado\", \"Reprobado\", \"Aprobado\", \"Aprobado\", \"Reprobado\", \"Aprobado\", \"Reprobado\", \"Reprobado\", \"Reprobado\", \"Reprobado\", \"Reprobado\", \"Reprobado\", \"Reprobado\", \"Reprobado\", \"Reprobado\", \"Reprobado\", \"Reprobado\", \"Reprobado\", \"Reprobado\", \"Reprobado\", \"Reprobado\", \"Reprobado\", \"Reprobado\", \"Reprobado\", \"Reprobado\", \"Reprobado\", \"Reprobado\", \"Reprobado\", \"Reprobado\", \"Reprobado\", \"Reprobado\", \"Reprobado\", \"Reprobado\", \"Reprobado\", \"Reprobado\", \"Reprobado\", \"Reprobado\", \"Reprobado\", \"Reprobado\", \"Reprobado\", \"Reprobado\", \"Reprobado\", \"Reprobado\", \"Reprobado\", \"Reprobado\", \"Reprobado\", \"Reprobado\", \"Reprobado\", \"Reprobado\", \"Reprobado\", \"Reprobado\", \"Reprobado\", \"Reprobado\", \"Reprobado\", \"Reprobado\", \"Reprobado\", \"Reprobado\", \"Reprobado\", \"Reprobado\", \"Reprobado\", \"Reprobado\", \"Reprobado\", \"Reprobado\", \"Reprobado\", \"Reprobado\", \"Reprobado\", \"Reprobado\", \"Reprobado\", \"Reprobado\", \"Reprobado\", \"Reprobado\", \"Reprobado\", \"Reprobado\", \"Reprobado\", \"Reprobado\", \"Reprobado\", \"Reprobado\", \"Reprobado\", \"Reprobado\", \"Reprobado\", \"Reprobado\", \"Reprobado\", \"Reprobado\", \"Reprobado\", \"Reprobado\", \"Reprobado\", \"Reprobado\", \"Reprobado\", \"Reprobado\", \"Reprobado\", \"Reprobado\", \"Reprobado\", \"Reprobado\", \"Reprobado\", \"Reprobado\", \"Reprobado\", \"Reprobado\", \"Reprobado\", \"Reprobado\", \"Reprobado\", \"Reprobado\", \"Reprobado\", \"Reprobado\", \"Reprobado\", \"Reprobado\", \"Reprobado\", \"Reprobado\", \"Reprobado\", \"Reprobado\", \"Reprobado\", \"Reprobado\", \"Reprobado\", \"Reprobado\", \"Reprobado\", \"Reprobado\", \"Reprobado\", \"Reprobado\", \"Reprobado\", \"Reprobado\", \"Reprobado\", \"Reprobado\", \"Reprobado\", \"Reprobado\", \"Reprobado\", \"Reprobado\", \"Reprobado\", \"Reprobado\", \"Reprobado\", \"Reprobado\", \"Reprobado\", \"Reprobado\", \"Reprobado\", \"Reprobado\", \"Reprobado\", \"Reprobado\", \"Reprobado\", \"Reprobado\", \"Reprobado\", \"Reprobado\", \"Reprobado\", \"Reprobado\", \"Reprobado\", \"Reprobado\", \"Reprobado\", \"Reprobado\", \"Reprobado\", \"Reprobado\", \"Reprobado\", \"Reprobado\", \"Reprobado\", \"Reprobado\", \"Reprobado\", \"Reprobado\", \"Reprobado\", \"Reprobado\", \"Reprobado\", \"Reprobado\", \"Reprobado\", \"Reprobado\", \"Reprobado\", \"Reprobado\", \"Reprobado\", \"Reprobado\", \"Reprobado\", \"Reprobado\", \"Reprobado\", \"Reprobado\", \"Reprobado\", \"Reprobado\", \"Reprobado\", \"Reprobado\", \"Reprobado\", \"Reprobado\", \"Reprobado\", \"Reprobado\", \"Reprobado\", \"Reprobado\", \"Reprobado\", \"Reprobado\", \"Reprobado\", \"Reprobado\", \"Reprobado\", \"Reprobado\", \"Reprobado\", \"Reprobado\", \"Reprobado\", \"Reprobado\", \"Reprobado\", \"Reprobado\", \"Reprobado\", \"Reprobado\", \"Reprobado\", \"Reprobado\", \"Reprobado\", \"Reprobado\", \"Reprobado\", \"Reprobado\", \"Reprobado\", \"Reprobado\", \"Reprobado\", \"Reprobado\", \"Reprobado\", \"Reprobado\", \"Reprobado\", \"Reprobado\", \"Reprobado\", \"Reprobado\", \"Reprobado\", \"Reprobado\", \"Reprobado\", \"Reprobado\", \"Reprobado\", \"Reprobado\", \"Reprobado\", \"Reprobado\", \"Reprobado\", \"Reprobado\", \"Reprobado\", \"Reprobado\", \"Reprobado\", \"Reprobado\", \"Reprobado\", \"Reprobado\", \"Reprobado\", \"Reprobado\", \"Reprobado\", \"Reprobado\", \"Reprobado\", \"Reprobado\", \"Reprobado\", \"Reprobado\", \"Reprobado\", \"Reprobado\", \"Reprobado\", \"Reprobado\", \"Reprobado\", \"Reprobado\", \"Reprobado\", \"Reprobado\", \"Reprobado\", \"Reprobado\", \"Reprobado\", \"Reprobado\", \"Reprobado\", \"Reprobado\", \"Reprobado\", \"Reprobado\", \"Reprobado\", \"Reprobado\", \"Reprobado\", \"Reprobado\", \"Reprobado\", \"Reprobado\", \"Reprobado\", \"Reprobado\", \"Reprobado\", \"Reprobado\", \"Reprobado\", \"Reprobado\", \"Reprobado\", \"Reprobado\", \"Reprobado\", \"Reprobado\", \"Reprobado\", \"Reprobado\", \"Reprobado\", \"Reprobado\", \"Reprobado\", \"Reprobado\", \"Reprobado\", \"Reprobado\", \"Reprobado\", \"Reprobado\", \"Reprobado\", \"Reprobado\", \"Reprobado\", \"Reprobado\", \"Reprobado\", \"Reprobado\", \"Reprobado\", \"Reprobado\", \"Reprobado\", \"Reprobado\", \"Reprobado\", \"Reprobado\", \"Reprobado\", \"Reprobado\", \"Reprobado\", \"Reprobado\", \"Reprobado\", \"Reprobado\", \"Reprobado\", \"Reprobado\", \"Reprobado\", \"Reprobado\", \"Reprobado\", \"Reprobado\", \"Reprobado\", \"Reprobado\", \"Reprobado\", \"Reprobado\", \"Reprobado\", \"Reprobado\", \"Reprobado\", \"Reprobado\", \"Reprobado\", \"Reprobado\", \"Reprobado\", \"Reprobado\", \"Reprobado\", \"Reprobado\", \"Reprobado\", \"Reprobado\", \"Reprobado\", \"Reprobado\", \"Reprobado\", \"Reprobado\", \"Reprobado\", \"Reprobado\", \"Reprobado\", \"Reprobado\", \"Reprobado\", \"Aprobado\", \"Aprobado\", \"Aprobado\", \"Aprobado\", \"Aprobado\", \"Aprobado\", \"Aprobado\", \"Aprobado\", \"Aprobado\", \"Aprobado\", \"Aprobado\", \"Aprobado\", \"Aprobado\", \"Aprobado\", \"Aprobado\", \"Aprobado\", \"Aprobado\", \"Aprobado\", \"Aprobado\", \"Aprobado\", \"Aprobado\", \"Aprobado\", \"Aprobado\", \"Aprobado\", \"Aprobado\", \"Aprobado\", \"Aprobado\", \"Aprobado\", \"Aprobado\", \"Aprobado\", \"Aprobado\", \"Aprobado\", \"Aprobado\", \"Aprobado\", \"Aprobado\", \"Aprobado\", \"Aprobado\", \"Aprobado\", \"Aprobado\", \"Aprobado\", \"Aprobado\", \"Aprobado\", \"Aprobado\", \"Aprobado\", \"Aprobado\", \"Aprobado\", \"Aprobado\", \"Aprobado\", \"Aprobado\", \"Aprobado\", \"Aprobado\", \"Aprobado\", \"Aprobado\", \"Aprobado\", \"Aprobado\", \"Aprobado\", \"Aprobado\", \"Aprobado\", \"Aprobado\", \"Aprobado\", \"Aprobado\", \"Aprobado\", \"Aprobado\", \"Aprobado\", \"Aprobado\", \"Aprobado\", \"Aprobado\", \"Aprobado\", \"Aprobado\", \"Aprobado\", \"Aprobado\", \"Aprobado\", \"Aprobado\", \"Aprobado\", \"Aprobado\", \"Aprobado\", \"Aprobado\", \"Aprobado\", \"Aprobado\", \"Aprobado\", \"Aprobado\", \"Aprobado\", \"Aprobado\", \"Aprobado\", \"Aprobado\", \"Aprobado\", \"Aprobado\", \"Aprobado\", \"Aprobado\", \"Aprobado\", \"Aprobado\", \"Aprobado\", \"Aprobado\", \"Aprobado\", \"Aprobado\", \"Aprobado\", \"Aprobado\", \"Aprobado\", \"Aprobado\", \"Aprobado\", \"Aprobado\", \"Aprobado\", \"Aprobado\", \"Aprobado\", \"Aprobado\", \"Aprobado\", \"Aprobado\", \"Aprobado\", \"Aprobado\", \"Aprobado\", \"Aprobado\", \"Aprobado\", \"Aprobado\", \"Aprobado\", \"Aprobado\", \"Aprobado\", \"Aprobado\", \"Aprobado\", \"Aprobado\", \"Aprobado\", \"Aprobado\", \"Aprobado\", \"Aprobado\", \"Aprobado\", \"Aprobado\", \"Aprobado\", \"Aprobado\", \"Aprobado\", \"Aprobado\", \"Aprobado\", \"Aprobado\", \"Aprobado\", \"Aprobado\", \"Aprobado\", \"Aprobado\", \"Aprobado\", \"Aprobado\", \"Aprobado\", \"Aprobado\", \"Aprobado\", \"Aprobado\", \"Aprobado\", \"Aprobado\", \"Aprobado\", \"Aprobado\", \"Aprobado\", \"Aprobado\", \"Aprobado\", \"Aprobado\", \"Aprobado\", \"Aprobado\", \"Aprobado\", \"Aprobado\", \"Aprobado\", \"Aprobado\", \"Aprobado\", \"Aprobado\", \"Aprobado\", \"Aprobado\", \"Aprobado\", \"Aprobado\", \"Aprobado\", \"Aprobado\", \"Aprobado\", \"Aprobado\", \"Aprobado\", \"Aprobado\", \"Aprobado\", \"Aprobado\", \"Aprobado\", \"Aprobado\", \"Aprobado\", \"Aprobado\", \"Aprobado\", \"Aprobado\", \"Aprobado\", \"Aprobado\", \"Aprobado\", \"Aprobado\", \"Aprobado\", \"Aprobado\", \"Aprobado\", \"Aprobado\", \"Aprobado\", \"Aprobado\", \"Aprobado\", \"Aprobado\", \"Aprobado\", \"Aprobado\", \"Aprobado\", \"Aprobado\", \"Aprobado\", \"Aprobado\", \"Aprobado\", \"Aprobado\", \"Aprobado\", \"Aprobado\", \"Aprobado\", \"Aprobado\", \"Aprobado\", \"Aprobado\", \"Aprobado\", \"Aprobado\", \"Aprobado\", \"Aprobado\", \"Aprobado\", \"Aprobado\", \"Aprobado\", \"Aprobado\", \"Aprobado\", \"Aprobado\", \"Aprobado\", \"Aprobado\", \"Aprobado\", \"Aprobado\", \"Aprobado\", \"Aprobado\", \"Aprobado\", \"Aprobado\", \"Aprobado\", \"Aprobado\", \"Aprobado\", \"Aprobado\", \"Aprobado\", \"Aprobado\", \"Aprobado\", \"Aprobado\", \"Aprobado\", \"Aprobado\", \"Aprobado\", \"Aprobado\", \"Aprobado\", \"Aprobado\", \"Aprobado\", \"Aprobado\", \"Aprobado\", \"Aprobado\", \"Aprobado\", \"Aprobado\", \"Aprobado\", \"Aprobado\", \"Aprobado\", \"Aprobado\", \"Aprobado\", \"Aprobado\", \"Aprobado\", \"Aprobado\", \"Aprobado\", \"Aprobado\", \"Aprobado\", \"Aprobado\", \"Aprobado\", \"Aprobado\", \"Aprobado\", \"Aprobado\", \"Aprobado\", \"Aprobado\", \"Aprobado\", \"Aprobado\", \"Aprobado\", \"Aprobado\", \"Aprobado\", \"Aprobado\", \"Aprobado\", \"Aprobado\", \"Aprobado\", \"Aprobado\", \"Aprobado\", \"Aprobado\", \"Aprobado\", \"Aprobado\", \"Aprobado\", \"Aprobado\", \"Aprobado\", \"Aprobado\", \"Aprobado\", \"Aprobado\", \"Aprobado\", \"Aprobado\", \"Aprobado\", \"Aprobado\", \"Aprobado\", \"Aprobado\", \"Aprobado\", \"Aprobado\", \"Aprobado\", \"Aprobado\", \"Aprobado\", \"Aprobado\", \"Aprobado\", \"Aprobado\", \"Aprobado\", \"Aprobado\", \"Aprobado\", \"Aprobado\", \"Aprobado\", \"Aprobado\", \"Aprobado\", \"Aprobado\", \"Aprobado\", \"Aprobado\", \"Aprobado\", \"Aprobado\", \"Aprobado\", \"Aprobado\", \"Aprobado\", \"Aprobado\", \"Aprobado\", \"Aprobado\", \"Aprobado\", \"Aprobado\", \"Aprobado\", \"Aprobado\", \"Aprobado\", \"Aprobado\", \"Aprobado\", \"Aprobado\", \"Aprobado\", \"Aprobado\", \"Aprobado\", \"Aprobado\", \"Aprobado\", \"Aprobado\", \"Aprobado\", \"Aprobado\", \"Aprobado\", \"Aprobado\", \"Aprobado\", \"Aprobado\", \"Aprobado\", \"Aprobado\", \"Aprobado\", \"Aprobado\", \"Aprobado\", \"Aprobado\", \"Aprobado\", \"Aprobado\", \"Reprobado\", \"Aprobado\", \"Aprobado\", \"Reprobado\", \"Aprobado\", \"Aprobado\", \"Aprobado\", \"Aprobado\", \"Aprobado\", \"Aprobado\", \"Aprobado\", \"Aprobado\", \"Reprobado\", \"Aprobado\", \"Aprobado\", \"Aprobado\", \"Aprobado\", \"Reprobado\", \"Aprobado\", \"Reprobado\", \"Reprobado\", \"Aprobado\", \"Reprobado\", \"Reprobado\", \"Aprobado\", \"Aprobado\", \"Reprobado\", \"Aprobado\", \"Reprobado\", \"Aprobado\", \"Aprobado\", \"Reprobado\", \"Aprobado\", \"Reprobado\", \"Aprobado\", \"Aprobado\", \"Reprobado\", \"Aprobado\", \"Reprobado\", \"Aprobado\", \"Aprobado\", \"Aprobado\", \"Reprobado\", \"Aprobado\", \"Aprobado\", \"Aprobado\", \"Reprobado\", \"Reprobado\", \"Aprobado\", \"Aprobado\", \"Aprobado\", \"Reprobado\", \"Aprobado\", \"Reprobado\", \"Reprobado\", \"Reprobado\", \"Aprobado\", \"Reprobado\", \"Reprobado\", \"Reprobado\", \"Reprobado\", \"Reprobado\", \"Aprobado\", \"Reprobado\", \"Reprobado\", \"Reprobado\", \"Aprobado\", \"Aprobado\", \"Reprobado\", \"Aprobado\", \"Reprobado\", \"Aprobado\", \"Aprobado\", \"Aprobado\", \"Reprobado\", \"Reprobado\", \"Aprobado\", \"Reprobado\", \"Aprobado\", \"Aprobado\", \"Aprobado\", \"Reprobado\", \"Aprobado\", \"Reprobado\", \"Aprobado\", \"Reprobado\", \"Aprobado\", \"Aprobado\", \"Aprobado\", \"Aprobado\", \"Reprobado\", \"Reprobado\", \"Aprobado\", \"Aprobado\", \"Aprobado\", \"Aprobado\", \"Reprobado\", \"Aprobado\", \"Aprobado\", \"Reprobado\", \"Aprobado\", \"Aprobado\", \"Aprobado\", \"Aprobado\", \"Aprobado\", \"Aprobado\", \"Aprobado\", \"Aprobado\", \"Reprobado\", \"Aprobado\", \"Aprobado\", \"Aprobado\", \"Aprobado\", \"Reprobado\", \"Reprobado\", \"Reprobado\", \"Aprobado\", \"Aprobado\", \"Reprobado\", \"Reprobado\", \"Aprobado\", \"Aprobado\", \"Aprobado\", \"Reprobado\", \"Aprobado\", \"Aprobado\", \"Reprobado\", \"Aprobado\", \"Aprobado\", \"Reprobado\", \"Reprobado\", \"Aprobado\", \"Aprobado\", \"Aprobado\", \"Aprobado\", \"Aprobado\", \"Aprobado\", \"Aprobado\", \"Aprobado\", \"Aprobado\", \"Aprobado\", \"Reprobado\", \"Reprobado\", \"Reprobado\", \"Reprobado\", \"Aprobado\", \"Aprobado\", \"Aprobado\", \"Aprobado\", \"Reprobado\", \"Reprobado\", \"Aprobado\", \"Reprobado\", \"Aprobado\", \"Aprobado\", \"Reprobado\", \"Aprobado\", \"Aprobado\", \"Reprobado\", \"Aprobado\", \"Aprobado\", \"Aprobado\", \"Aprobado\", \"Reprobado\", \"Aprobado\", \"Reprobado\", \"Reprobado\", \"Aprobado\", \"Aprobado\", \"Reprobado\", \"Reprobado\", \"Reprobado\", \"Aprobado\", \"Aprobado\", \"Aprobado\", \"Aprobado\", \"Reprobado\", \"Aprobado\", \"Reprobado\", \"Reprobado\", \"Reprobado\", \"Reprobado\", \"Aprobado\", \"Aprobado\", \"Reprobado\", \"Reprobado\", \"Reprobado\", \"Reprobado\", \"Reprobado\", \"Reprobado\", \"Reprobado\", \"Reprobado\", \"Reprobado\", \"Aprobado\", \"Reprobado\", \"Aprobado\", \"Aprobado\", \"Reprobado\", \"Aprobado\", \"Reprobado\", \"Aprobado\", \"Aprobado\", \"Aprobado\", \"Aprobado\", \"Reprobado\", \"Reprobado\", \"Reprobado\", \"Reprobado\", \"Aprobado\", \"Aprobado\", \"Aprobado\", \"Aprobado\", \"Aprobado\", \"Aprobado\", \"Aprobado\", \"Reprobado\", \"Reprobado\", \"Aprobado\", \"Aprobado\", \"Aprobado\", \"Aprobado\", \"Aprobado\", \"Aprobado\", \"Reprobado\", \"Aprobado\", \"Reprobado\", \"Aprobado\", \"Reprobado\", \"Aprobado\", \"Aprobado\", \"Aprobado\", \"Reprobado\", \"Reprobado\", \"Reprobado\", \"Reprobado\", \"Aprobado\", \"Aprobado\", \"Reprobado\", \"Reprobado\", \"Aprobado\", \"Reprobado\", \"Reprobado\", \"Reprobado\", \"Aprobado\", \"Reprobado\", \"Aprobado\", \"Reprobado\", \"Aprobado\", \"Aprobado\", \"Reprobado\", \"Aprobado\", \"Aprobado\", \"Aprobado\", \"Aprobado\", \"Aprobado\", \"Aprobado\", \"Aprobado\", \"Aprobado\", \"Aprobado\", \"Aprobado\", \"Reprobado\", \"Aprobado\", \"Aprobado\", \"Aprobado\", \"Aprobado\", \"Aprobado\", \"Aprobado\", \"Aprobado\", \"Aprobado\", \"Reprobado\", \"Aprobado\", \"Reprobado\", \"Reprobado\", \"Aprobado\", \"Reprobado\", \"Reprobado\", \"Aprobado\", \"Aprobado\", \"Aprobado\", \"Reprobado\", \"Aprobado\", \"Aprobado\", \"Aprobado\", \"Reprobado\", \"Aprobado\", \"Aprobado\", \"Aprobado\", \"Aprobado\", \"Reprobado\", \"Reprobado\", \"Aprobado\", \"Aprobado\", \"Reprobado\", \"Aprobado\", \"Aprobado\", \"Aprobado\", \"Aprobado\", \"Aprobado\", \"Aprobado\", \"Reprobado\", \"Reprobado\", \"Reprobado\", \"Aprobado\", \"Reprobado\", \"Reprobado\", \"Aprobado\", \"Aprobado\", \"Reprobado\", \"Reprobado\", \"Aprobado\", \"Aprobado\", \"Aprobado\", \"Aprobado\", \"Aprobado\", \"Aprobado\", \"Reprobado\", \"Aprobado\", \"Aprobado\", \"Aprobado\", \"Reprobado\", \"Reprobado\", \"Aprobado\", \"Aprobado\", \"Aprobado\", \"Reprobado\", \"Reprobado\", \"Reprobado\", \"Reprobado\", \"Aprobado\", \"Reprobado\", \"Reprobado\", \"Reprobado\", \"Aprobado\", \"Reprobado\", \"Aprobado\", \"Aprobado\", \"Reprobado\", \"Reprobado\", \"Reprobado\", \"Reprobado\", \"Reprobado\", \"Reprobado\", \"Reprobado\", \"Aprobado\", \"Reprobado\", \"Reprobado\", \"Reprobado\", \"Reprobado\", \"Aprobado\", \"Reprobado\", \"Reprobado\", \"Aprobado\", \"Aprobado\", \"Reprobado\", \"Reprobado\", \"Aprobado\", \"Reprobado\", \"Aprobado\", \"Aprobado\", \"Aprobado\", \"Aprobado\", \"Reprobado\", \"Aprobado\", \"Aprobado\", \"Reprobado\", \"Aprobado\", \"Aprobado\", \"Aprobado\", \"Aprobado\", \"Reprobado\", \"Reprobado\", \"Aprobado\", \"Aprobado\", \"Aprobado\", \"Reprobado\", \"Aprobado\", \"Aprobado\", \"Reprobado\", \"Aprobado\", \"Reprobado\", \"Aprobado\", \"Aprobado\", \"Aprobado\", \"Reprobado\", \"Aprobado\", \"Reprobado\", \"Aprobado\", \"Aprobado\", \"Aprobado\", \"Aprobado\", \"Reprobado\", \"Reprobado\", \"Reprobado\", \"Reprobado\", \"Aprobado\", \"Reprobado\", \"Aprobado\", \"Aprobado\", \"Reprobado\", \"Aprobado\", \"Aprobado\", \"Aprobado\", \"Aprobado\", \"Aprobado\", \"Aprobado\", \"Aprobado\", \"Aprobado\", \"Aprobado\", \"Aprobado\", \"Aprobado\", \"Aprobado\", \"Aprobado\", \"Aprobado\", \"Reprobado\", \"Reprobado\", \"Reprobado\", \"Reprobado\", \"Aprobado\", \"Aprobado\", \"Aprobado\", \"Aprobado\", \"Aprobado\", \"Reprobado\", \"Aprobado\", \"Reprobado\", \"Aprobado\", \"Aprobado\", \"Aprobado\", \"Reprobado\", \"Aprobado\", \"Reprobado\", \"Aprobado\", \"Aprobado\", \"Reprobado\", \"Reprobado\", \"Aprobado\", \"Aprobado\", \"Reprobado\", \"Aprobado\", \"Aprobado\", \"Aprobado\", \"Reprobado\", \"Aprobado\", \"Aprobado\", \"Reprobado\", \"Reprobado\", \"Reprobado\", \"Aprobado\", \"Reprobado\", \"Reprobado\", \"Reprobado\", \"Aprobado\", \"Aprobado\", \"Aprobado\", \"Reprobado\", \"Reprobado\", \"Reprobado\", \"Reprobado\", \"Aprobado\", \"Aprobado\", \"Aprobado\", \"Reprobado\", \"Reprobado\", \"Aprobado\", \"Aprobado\", \"Aprobado\", \"Aprobado\", \"Aprobado\", \"Aprobado\", \"Reprobado\", \"Reprobado\", \"Aprobado\", \"Reprobado\", \"Aprobado\", \"Reprobado\", \"Reprobado\", \"Reprobado\", \"Aprobado\", \"Reprobado\", \"Reprobado\", \"Aprobado\", \"Reprobado\", \"Aprobado\", \"Aprobado\", \"Reprobado\", \"Reprobado\", \"Reprobado\", \"Reprobado\", \"Reprobado\", \"Reprobado\", \"Reprobado\", \"Aprobado\", \"Reprobado\", \"Reprobado\", \"Aprobado\", \"Aprobado\", \"Reprobado\", \"Reprobado\", \"Aprobado\", \"Reprobado\", \"Aprobado\", \"Aprobado\", \"Reprobado\", \"Reprobado\", \"Reprobado\", \"Reprobado\", \"Reprobado\", \"Reprobado\", \"Reprobado\", \"Reprobado\", \"Reprobado\", \"Aprobado\", \"Reprobado\", \"Reprobado\", \"Aprobado\", \"Reprobado\", \"Aprobado\", \"Reprobado\", \"Reprobado\", \"Reprobado\", \"Aprobado\", \"Reprobado\", \"Reprobado\", \"Aprobado\", \"Reprobado\", \"Aprobado\", \"Reprobado\", \"Reprobado\", \"Aprobado\", \"Aprobado\", \"Reprobado\", \"Reprobado\", \"Reprobado\", \"Reprobado\", \"Aprobado\", \"Reprobado\", \"Reprobado\", \"Reprobado\", \"Aprobado\", \"Aprobado\", \"Aprobado\", \"Reprobado\", \"Aprobado\", \"Aprobado\", \"Reprobado\", \"Reprobado\", \"Aprobado\", \"Reprobado\", \"Aprobado\", \"Reprobado\", \"Aprobado\", \"Reprobado\", \"Reprobado\", \"Reprobado\", \"Aprobado\", \"Reprobado\", \"Aprobado\", \"Aprobado\", \"Reprobado\", \"Reprobado\", \"Reprobado\", \"Reprobado\", \"Reprobado\", \"Reprobado\", \"Reprobado\", \"Aprobado\", \"Reprobado\", \"Reprobado\", \"Reprobado\", \"Reprobado\", \"Reprobado\", \"Aprobado\", \"Reprobado\", \"Aprobado\", \"Aprobado\", \"Reprobado\", \"Aprobado\", \"Aprobado\", \"Aprobado\", \"Reprobado\", \"Aprobado\", \"Reprobado\", \"Reprobado\", \"Aprobado\", \"Aprobado\", \"Aprobado\", \"Reprobado\", \"Reprobado\", \"Aprobado\", \"Reprobado\", \"Aprobado\", \"Reprobado\", \"Reprobado\", \"Aprobado\", \"Aprobado\", \"Reprobado\", \"Aprobado\", \"Aprobado\", \"Aprobado\", \"Reprobado\", \"Aprobado\", \"Aprobado\", \"Aprobado\", \"Aprobado\", \"Aprobado\", \"Aprobado\", \"Reprobado\", \"Reprobado\", \"Aprobado\", \"Aprobado\", \"Aprobado\", \"Reprobado\", \"Aprobado\", \"Aprobado\", \"Reprobado\", \"Aprobado\", \"Aprobado\", \"Reprobado\", \"Reprobado\", \"Reprobado\", \"Aprobado\", \"Aprobado\", \"Aprobado\", \"Aprobado\", \"Aprobado\", \"Aprobado\", \"Reprobado\", \"Reprobado\", \"Reprobado\", \"Reprobado\", \"Reprobado\", \"Aprobado\", \"Aprobado\", \"Aprobado\", \"Reprobado\", \"Reprobado\", \"Reprobado\", \"Reprobado\", \"Reprobado\", \"Aprobado\", \"Aprobado\", \"Aprobado\", \"Aprobado\", \"Reprobado\", \"Reprobado\", \"Aprobado\", \"Reprobado\", \"Aprobado\", \"Reprobado\", \"Aprobado\", \"Reprobado\", \"Reprobado\", \"Reprobado\", \"Reprobado\", \"Aprobado\", \"Reprobado\", \"Reprobado\", \"Reprobado\", \"Reprobado\", \"Reprobado\", \"Aprobado\", \"Reprobado\", \"Reprobado\", \"Reprobado\", \"Aprobado\", \"Reprobado\", \"Aprobado\", \"Aprobado\", \"Reprobado\", \"Reprobado\", \"Reprobado\", \"Reprobado\", \"Reprobado\", \"Reprobado\", \"Reprobado\", \"Reprobado\", \"Reprobado\", \"Reprobado\", \"Reprobado\", \"Reprobado\", \"Reprobado\", \"Reprobado\", \"Reprobado\", \"Reprobado\", \"Reprobado\", \"Reprobado\", \"Reprobado\", \"Reprobado\", \"Reprobado\", \"Reprobado\", \"Reprobado\", \"Reprobado\", \"Reprobado\", \"Reprobado\", \"Reprobado\", \"Reprobado\", \"Reprobado\", \"Reprobado\", \"Reprobado\", \"Reprobado\", \"Reprobado\", \"Reprobado\", \"Reprobado\", \"Reprobado\", \"Reprobado\", \"Reprobado\", \"Reprobado\", \"Reprobado\", \"Reprobado\", \"Reprobado\", \"Reprobado\", \"Reprobado\", \"Reprobado\", \"Reprobado\", \"Reprobado\", \"Reprobado\", \"Reprobado\", \"Reprobado\", \"Reprobado\", \"Reprobado\", \"Reprobado\", \"Reprobado\", \"Reprobado\", \"Reprobado\", \"Reprobado\", \"Reprobado\", \"Reprobado\", \"Reprobado\", \"Reprobado\", \"Reprobado\", \"Reprobado\", \"Reprobado\", \"Reprobado\", \"Reprobado\", \"Reprobado\", \"Reprobado\", \"Reprobado\", \"Reprobado\", \"Reprobado\", \"Reprobado\", \"Reprobado\", \"Reprobado\", \"Reprobado\", \"Reprobado\", \"Reprobado\", \"Reprobado\", \"Reprobado\", \"Reprobado\", \"Reprobado\", \"Reprobado\", \"Reprobado\", \"Reprobado\", \"Reprobado\", \"Reprobado\", \"Reprobado\", \"Reprobado\", \"Reprobado\", \"Reprobado\", \"Reprobado\", \"Reprobado\", \"Reprobado\", \"Reprobado\", \"Reprobado\", \"Reprobado\", \"Reprobado\", \"Reprobado\", \"Reprobado\", \"Reprobado\", \"Reprobado\", \"Reprobado\", \"Reprobado\", \"Reprobado\", \"Reprobado\", \"Reprobado\", \"Reprobado\", \"Reprobado\", \"Reprobado\", \"Reprobado\", \"Reprobado\", \"Reprobado\", \"Reprobado\", \"Reprobado\", \"Reprobado\", \"Reprobado\", \"Reprobado\", \"Reprobado\", \"Reprobado\", \"Reprobado\", \"Reprobado\", \"Reprobado\", \"Reprobado\"], \"xaxis\": \"x\", \"yaxis\": \"y\"}, {\"alignmentgroup\": \"True\", \"boxpoints\": \"all\", \"fillcolor\": \"rgba(255,255,255,0)\", \"hoverlabel\": {\"namelength\": 0}, \"hoveron\": \"points\", \"hovertemplate\": \"Aprobacion=%{x}\", \"jitter\": 0, \"legendgroup\": \"\", \"line\": {\"color\": \"rgba(255,255,255,0)\"}, \"marker\": {\"color\": \"red\", \"symbol\": \"line-ns-open\"}, \"name\": \"\", \"offsetgroup\": \"\", \"showlegend\": false, \"type\": \"box\", \"x\": [\"Aprobado\", \"Aprobado\", \"Aprobado\", \"Aprobado\", \"Aprobado\", \"Aprobado\", \"Aprobado\", \"Aprobado\", \"Aprobado\", \"Aprobado\", \"Aprobado\", \"Aprobado\", \"Aprobado\", \"Aprobado\", \"Aprobado\", \"Aprobado\", \"Aprobado\", \"Aprobado\", \"Aprobado\", \"Aprobado\", \"Aprobado\", \"Aprobado\", \"Aprobado\", \"Aprobado\", \"Aprobado\", \"Aprobado\", \"Aprobado\", \"Aprobado\", \"Aprobado\", \"Aprobado\", \"Aprobado\", \"Aprobado\", \"Aprobado\", \"Aprobado\", \"Aprobado\", \"Aprobado\", \"Aprobado\", \"Aprobado\", \"Aprobado\", \"Aprobado\", \"Aprobado\", \"Aprobado\", \"Aprobado\", \"Aprobado\", \"Aprobado\", \"Aprobado\", \"Aprobado\", \"Aprobado\", \"Aprobado\", \"Aprobado\", \"Aprobado\", \"Aprobado\", \"Aprobado\", \"Aprobado\", \"Aprobado\", \"Aprobado\", \"Aprobado\", \"Aprobado\", \"Aprobado\", \"Aprobado\", \"Aprobado\", \"Aprobado\", \"Aprobado\", \"Aprobado\", \"Aprobado\", \"Aprobado\", \"Aprobado\", \"Aprobado\", \"Aprobado\", \"Aprobado\", \"Aprobado\", \"Aprobado\", \"Aprobado\", \"Aprobado\", \"Aprobado\", \"Aprobado\", \"Aprobado\", \"Aprobado\", \"Aprobado\", \"Aprobado\", \"Aprobado\", \"Aprobado\", \"Aprobado\", \"Aprobado\", \"Aprobado\", \"Aprobado\", \"Aprobado\", \"Aprobado\", \"Aprobado\", \"Aprobado\", \"Aprobado\", \"Aprobado\", \"Aprobado\", \"Aprobado\", \"Aprobado\", \"Aprobado\", \"Aprobado\", \"Aprobado\", \"Aprobado\", \"Aprobado\", \"Aprobado\", \"Aprobado\", \"Aprobado\", \"Aprobado\", \"Aprobado\", \"Aprobado\", \"Aprobado\", \"Aprobado\", \"Aprobado\", \"Aprobado\", \"Aprobado\", \"Aprobado\", \"Aprobado\", \"Aprobado\", \"Aprobado\", \"Aprobado\", \"Aprobado\", \"Aprobado\", \"Aprobado\", \"Aprobado\", \"Aprobado\", \"Aprobado\", \"Aprobado\", \"Aprobado\", \"Aprobado\", \"Aprobado\", \"Aprobado\", \"Aprobado\", \"Aprobado\", \"Aprobado\", \"Aprobado\", \"Aprobado\", \"Aprobado\", \"Aprobado\", \"Aprobado\", \"Aprobado\", \"Aprobado\", \"Aprobado\", \"Aprobado\", \"Aprobado\", \"Aprobado\", \"Aprobado\", \"Aprobado\", \"Aprobado\", \"Aprobado\", \"Aprobado\", \"Aprobado\", \"Aprobado\", \"Aprobado\", \"Aprobado\", \"Aprobado\", \"Aprobado\", \"Aprobado\", \"Aprobado\", \"Aprobado\", \"Aprobado\", \"Aprobado\", \"Aprobado\", \"Aprobado\", \"Aprobado\", \"Aprobado\", \"Aprobado\", \"Aprobado\", \"Aprobado\", \"Aprobado\", \"Aprobado\", \"Aprobado\", \"Aprobado\", \"Aprobado\", \"Aprobado\", \"Aprobado\", \"Aprobado\", \"Aprobado\", \"Aprobado\", \"Aprobado\", \"Aprobado\", \"Aprobado\", \"Aprobado\", \"Aprobado\", \"Aprobado\", \"Aprobado\", \"Aprobado\", \"Aprobado\", \"Aprobado\", \"Aprobado\", \"Aprobado\", \"Aprobado\", \"Aprobado\", \"Aprobado\", \"Aprobado\", \"Aprobado\", \"Aprobado\", \"Aprobado\", \"Aprobado\", \"Aprobado\", \"Aprobado\", \"Aprobado\", \"Aprobado\", \"Aprobado\", \"Aprobado\", \"Aprobado\", \"Aprobado\", \"Aprobado\", \"Aprobado\", \"Aprobado\", \"Aprobado\", \"Aprobado\", \"Aprobado\", \"Aprobado\", \"Aprobado\", \"Aprobado\", \"Aprobado\", \"Aprobado\", \"Aprobado\", \"Aprobado\", \"Aprobado\", \"Aprobado\", \"Aprobado\", \"Aprobado\", \"Aprobado\", \"Aprobado\", \"Aprobado\", \"Aprobado\", \"Aprobado\", \"Aprobado\", \"Aprobado\", \"Aprobado\", \"Aprobado\", \"Aprobado\", \"Aprobado\", \"Aprobado\", \"Aprobado\", \"Aprobado\", \"Aprobado\", \"Aprobado\", \"Aprobado\", \"Aprobado\", \"Aprobado\", \"Aprobado\", \"Aprobado\", \"Aprobado\", \"Aprobado\", \"Aprobado\", \"Aprobado\", \"Aprobado\", \"Aprobado\", \"Aprobado\", \"Aprobado\", \"Aprobado\", \"Aprobado\", \"Aprobado\", \"Aprobado\", \"Aprobado\", \"Aprobado\", \"Aprobado\", \"Aprobado\", \"Aprobado\", \"Aprobado\", \"Aprobado\", \"Aprobado\", \"Aprobado\", \"Aprobado\", \"Aprobado\", \"Aprobado\", \"Aprobado\", \"Aprobado\", \"Aprobado\", \"Aprobado\", \"Aprobado\", \"Aprobado\", \"Aprobado\", \"Aprobado\", \"Aprobado\", \"Aprobado\", \"Aprobado\", \"Aprobado\", \"Aprobado\", \"Aprobado\", \"Aprobado\", \"Aprobado\", \"Aprobado\", \"Aprobado\", \"Aprobado\", \"Aprobado\", \"Aprobado\", \"Aprobado\", \"Aprobado\", \"Aprobado\", \"Aprobado\", \"Aprobado\", \"Aprobado\", \"Aprobado\", \"Aprobado\", \"Aprobado\", \"Aprobado\", \"Aprobado\", \"Aprobado\", \"Aprobado\", \"Aprobado\", \"Aprobado\", \"Aprobado\", \"Aprobado\", \"Aprobado\", \"Aprobado\", \"Aprobado\", \"Aprobado\", \"Aprobado\", \"Aprobado\", \"Aprobado\", \"Aprobado\", \"Aprobado\", \"Aprobado\", \"Aprobado\", \"Aprobado\", \"Aprobado\", \"Aprobado\", \"Aprobado\", \"Aprobado\", \"Aprobado\", \"Aprobado\", \"Aprobado\", \"Aprobado\", \"Aprobado\", \"Aprobado\", \"Aprobado\", \"Aprobado\", \"Aprobado\", \"Aprobado\", \"Aprobado\", \"Aprobado\", \"Aprobado\", \"Aprobado\", \"Aprobado\", \"Aprobado\", \"Aprobado\", \"Aprobado\", \"Aprobado\", \"Aprobado\", \"Aprobado\", \"Aprobado\", \"Aprobado\", \"Aprobado\", \"Aprobado\", \"Aprobado\", \"Aprobado\", \"Aprobado\", \"Aprobado\", \"Aprobado\", \"Aprobado\", \"Aprobado\", \"Aprobado\", \"Aprobado\", \"Aprobado\", \"Aprobado\", \"Aprobado\", \"Aprobado\", \"Aprobado\", \"Aprobado\", \"Aprobado\", \"Aprobado\", \"Aprobado\", \"Aprobado\", \"Aprobado\", \"Aprobado\", \"Aprobado\", \"Aprobado\", \"Aprobado\", \"Aprobado\", \"Aprobado\", \"Aprobado\", \"Aprobado\", \"Aprobado\", \"Aprobado\", \"Aprobado\", \"Aprobado\", \"Aprobado\", \"Aprobado\", \"Aprobado\", \"Aprobado\", \"Aprobado\", \"Aprobado\", \"Aprobado\", \"Aprobado\", \"Aprobado\", \"Aprobado\", \"Aprobado\", \"Aprobado\", \"Aprobado\", \"Aprobado\", \"Aprobado\", \"Aprobado\", \"Aprobado\", \"Aprobado\", \"Aprobado\", \"Aprobado\", \"Aprobado\", \"Aprobado\", \"Aprobado\", \"Aprobado\", \"Aprobado\", \"Aprobado\", \"Aprobado\", \"Aprobado\", \"Aprobado\", \"Aprobado\", \"Aprobado\", \"Aprobado\", \"Aprobado\", \"Aprobado\", \"Aprobado\", \"Aprobado\", \"Aprobado\", \"Aprobado\", \"Aprobado\", \"Aprobado\", \"Aprobado\", \"Aprobado\", \"Aprobado\", \"Aprobado\", \"Aprobado\", \"Aprobado\", \"Aprobado\", \"Aprobado\", \"Aprobado\", \"Aprobado\", \"Aprobado\", \"Aprobado\", \"Aprobado\", \"Aprobado\", \"Aprobado\", \"Aprobado\", \"Aprobado\", \"Aprobado\", \"Aprobado\", \"Aprobado\", \"Aprobado\", \"Aprobado\", \"Aprobado\", \"Aprobado\", \"Aprobado\", \"Aprobado\", \"Aprobado\", \"Aprobado\", \"Aprobado\", \"Aprobado\", \"Aprobado\", \"Aprobado\", \"Aprobado\", \"Aprobado\", \"Aprobado\", \"Aprobado\", \"Aprobado\", \"Aprobado\", \"Aprobado\", \"Aprobado\", \"Aprobado\", \"Aprobado\", \"Aprobado\", \"Aprobado\", \"Aprobado\", \"Aprobado\", \"Aprobado\", \"Aprobado\", \"Aprobado\", \"Aprobado\", \"Aprobado\", \"Aprobado\", \"Aprobado\", \"Aprobado\", \"Aprobado\", \"Aprobado\", \"Aprobado\", \"Aprobado\", \"Aprobado\", \"Aprobado\", \"Aprobado\", \"Aprobado\", \"Aprobado\", \"Aprobado\", \"Aprobado\", \"Aprobado\", \"Aprobado\", \"Aprobado\", \"Aprobado\", \"Aprobado\", \"Aprobado\", \"Aprobado\", \"Aprobado\", \"Aprobado\", \"Aprobado\", \"Aprobado\", \"Aprobado\", \"Aprobado\", \"Aprobado\", \"Aprobado\", \"Aprobado\", \"Aprobado\", \"Aprobado\", \"Aprobado\", \"Aprobado\", \"Aprobado\", \"Aprobado\", \"Aprobado\", \"Aprobado\", \"Aprobado\", \"Aprobado\", \"Aprobado\", \"Aprobado\", \"Aprobado\", \"Aprobado\", \"Aprobado\", \"Aprobado\", \"Aprobado\", \"Aprobado\", \"Aprobado\", \"Aprobado\", \"Aprobado\", \"Aprobado\", \"Aprobado\", \"Aprobado\", \"Aprobado\", \"Aprobado\", \"Aprobado\", \"Aprobado\", \"Aprobado\", \"Aprobado\", \"Aprobado\", \"Aprobado\", \"Aprobado\", \"Aprobado\", \"Aprobado\", \"Aprobado\", \"Aprobado\", \"Aprobado\", \"Aprobado\", \"Aprobado\", \"Aprobado\", \"Aprobado\", \"Aprobado\", \"Aprobado\", \"Aprobado\", \"Aprobado\", \"Aprobado\", \"Aprobado\", \"Aprobado\", \"Aprobado\", \"Aprobado\", \"Aprobado\", \"Aprobado\", \"Aprobado\", \"Aprobado\", \"Aprobado\", \"Aprobado\", \"Aprobado\", \"Aprobado\", \"Aprobado\", \"Aprobado\", \"Aprobado\", \"Aprobado\", \"Aprobado\", \"Aprobado\", \"Aprobado\", \"Aprobado\", \"Aprobado\", \"Aprobado\", \"Aprobado\", \"Aprobado\", \"Aprobado\", \"Aprobado\", \"Aprobado\", \"Aprobado\", \"Aprobado\", \"Aprobado\", \"Aprobado\", \"Aprobado\", \"Aprobado\", \"Aprobado\", \"Aprobado\", \"Aprobado\", \"Aprobado\", \"Aprobado\", \"Aprobado\", \"Aprobado\", \"Aprobado\", \"Aprobado\", \"Aprobado\", \"Aprobado\", \"Aprobado\", \"Aprobado\", \"Aprobado\", \"Aprobado\", \"Aprobado\", \"Aprobado\", \"Aprobado\", \"Aprobado\", \"Aprobado\", \"Aprobado\", \"Aprobado\", \"Aprobado\", \"Aprobado\", \"Aprobado\", \"Aprobado\", \"Aprobado\", \"Aprobado\", \"Aprobado\", \"Aprobado\", \"Aprobado\", \"Aprobado\", \"Aprobado\", \"Aprobado\", \"Aprobado\", \"Aprobado\", \"Aprobado\", \"Aprobado\", \"Aprobado\", \"Aprobado\", \"Aprobado\", \"Aprobado\", \"Aprobado\", \"Aprobado\", \"Aprobado\", \"Aprobado\", \"Aprobado\", \"Aprobado\", \"Aprobado\", \"Aprobado\", \"Aprobado\", \"Aprobado\", \"Aprobado\", \"Aprobado\", \"Aprobado\", \"Aprobado\", \"Aprobado\", \"Aprobado\", \"Aprobado\", \"Aprobado\", \"Aprobado\", \"Aprobado\", \"Aprobado\", \"Aprobado\", \"Aprobado\", \"Aprobado\", \"Aprobado\", \"Aprobado\", \"Aprobado\", \"Aprobado\", \"Aprobado\", \"Aprobado\", \"Aprobado\", \"Aprobado\", \"Aprobado\", \"Aprobado\", \"Aprobado\", \"Aprobado\", \"Aprobado\", \"Aprobado\", \"Aprobado\", \"Aprobado\", \"Aprobado\", \"Aprobado\", \"Aprobado\", \"Aprobado\", \"Aprobado\", \"Aprobado\", \"Aprobado\", \"Aprobado\", \"Aprobado\", \"Aprobado\", \"Aprobado\", \"Aprobado\", \"Aprobado\", \"Aprobado\", \"Aprobado\", \"Aprobado\", \"Aprobado\", \"Aprobado\", \"Aprobado\", \"Aprobado\", \"Aprobado\", \"Aprobado\", \"Aprobado\", \"Aprobado\", \"Aprobado\", \"Aprobado\", \"Aprobado\", \"Aprobado\", \"Aprobado\", \"Aprobado\", \"Aprobado\", \"Aprobado\", \"Aprobado\", \"Aprobado\", \"Aprobado\", \"Aprobado\", \"Aprobado\", \"Aprobado\", \"Aprobado\", \"Aprobado\", \"Aprobado\", \"Aprobado\", \"Aprobado\", \"Aprobado\", \"Aprobado\", \"Aprobado\", \"Aprobado\", \"Aprobado\", \"Aprobado\", \"Aprobado\", \"Aprobado\", \"Aprobado\", \"Aprobado\", \"Aprobado\", \"Aprobado\", \"Aprobado\", \"Aprobado\", \"Aprobado\", \"Aprobado\", \"Aprobado\", \"Aprobado\", \"Aprobado\", \"Aprobado\", \"Aprobado\", \"Aprobado\", \"Aprobado\", \"Aprobado\", \"Aprobado\", \"Aprobado\", \"Aprobado\", \"Aprobado\", \"Aprobado\", \"Aprobado\", \"Aprobado\", \"Aprobado\", \"Aprobado\", \"Aprobado\", \"Aprobado\", \"Aprobado\", \"Aprobado\", \"Aprobado\", \"Aprobado\", \"Aprobado\", \"Aprobado\", \"Aprobado\", \"Aprobado\", \"Aprobado\", \"Aprobado\", \"Aprobado\", \"Aprobado\", \"Aprobado\", \"Aprobado\", \"Aprobado\", \"Aprobado\", \"Aprobado\", \"Aprobado\", \"Aprobado\", \"Aprobado\", \"Aprobado\", \"Aprobado\", \"Aprobado\", \"Aprobado\", \"Aprobado\", \"Aprobado\", \"Aprobado\", \"Aprobado\", \"Aprobado\", \"Aprobado\", \"Aprobado\", \"Aprobado\", \"Aprobado\", \"Aprobado\", \"Aprobado\", \"Aprobado\", \"Aprobado\", \"Aprobado\", \"Aprobado\", \"Aprobado\", \"Aprobado\", \"Aprobado\", \"Aprobado\", \"Aprobado\", \"Aprobado\", \"Aprobado\", \"Aprobado\", \"Aprobado\", \"Aprobado\", \"Aprobado\", \"Aprobado\", \"Aprobado\", \"Aprobado\", \"Aprobado\", \"Aprobado\", \"Aprobado\", \"Aprobado\", \"Aprobado\", \"Aprobado\", \"Aprobado\", \"Aprobado\", \"Aprobado\", \"Aprobado\", \"Aprobado\", \"Aprobado\", \"Aprobado\", \"Aprobado\", \"Aprobado\", \"Aprobado\", \"Aprobado\", \"Aprobado\", \"Aprobado\", \"Aprobado\", \"Aprobado\", \"Aprobado\", \"Aprobado\", \"Aprobado\", \"Aprobado\", \"Aprobado\", \"Aprobado\", \"Aprobado\", \"Aprobado\", \"Aprobado\", \"Aprobado\", \"Aprobado\", \"Aprobado\", \"Aprobado\", \"Aprobado\", \"Aprobado\", \"Aprobado\", \"Aprobado\", \"Aprobado\", \"Aprobado\", \"Aprobado\", \"Aprobado\", \"Aprobado\", \"Aprobado\", \"Aprobado\", \"Aprobado\", \"Aprobado\", \"Aprobado\", \"Aprobado\", \"Aprobado\", \"Aprobado\", \"Aprobado\", \"Aprobado\", \"Aprobado\", \"Aprobado\", \"Aprobado\", \"Aprobado\", \"Aprobado\", \"Aprobado\", \"Aprobado\", \"Aprobado\", \"Aprobado\", \"Aprobado\", \"Aprobado\", \"Aprobado\", \"Aprobado\", \"Aprobado\", \"Aprobado\", \"Aprobado\", \"Aprobado\", \"Aprobado\", \"Aprobado\", \"Aprobado\", \"Aprobado\", \"Aprobado\", \"Aprobado\", \"Aprobado\", \"Aprobado\", \"Aprobado\", \"Aprobado\", \"Aprobado\", \"Aprobado\", \"Aprobado\", \"Aprobado\", \"Aprobado\", \"Aprobado\", \"Aprobado\", \"Aprobado\", \"Aprobado\", \"Aprobado\", \"Aprobado\", \"Aprobado\", \"Aprobado\", \"Aprobado\", \"Aprobado\", \"Aprobado\", \"Aprobado\", \"Aprobado\", \"Aprobado\", \"Aprobado\", \"Aprobado\", \"Aprobado\", \"Aprobado\", \"Aprobado\", \"Aprobado\", \"Aprobado\", \"Aprobado\", \"Aprobado\", \"Aprobado\", \"Aprobado\", \"Aprobado\", \"Aprobado\", \"Aprobado\", \"Aprobado\", \"Aprobado\", \"Aprobado\", \"Aprobado\", \"Aprobado\", \"Aprobado\", \"Aprobado\", \"Aprobado\", \"Aprobado\", \"Aprobado\", \"Aprobado\", \"Aprobado\", \"Aprobado\", \"Aprobado\", \"Aprobado\", \"Aprobado\", \"Aprobado\", \"Aprobado\", \"Aprobado\", \"Aprobado\", \"Aprobado\", \"Aprobado\", \"Aprobado\", \"Aprobado\", \"Aprobado\", \"Aprobado\", \"Aprobado\", \"Aprobado\", \"Aprobado\", \"Aprobado\", \"Aprobado\", \"Aprobado\", \"Aprobado\", \"Aprobado\", \"Aprobado\", \"Aprobado\", \"Aprobado\", \"Aprobado\", \"Aprobado\", \"Aprobado\", \"Aprobado\", \"Aprobado\", \"Aprobado\", \"Aprobado\", \"Aprobado\", \"Aprobado\", \"Aprobado\", \"Aprobado\", \"Aprobado\", \"Aprobado\", \"Aprobado\", \"Aprobado\", \"Aprobado\", \"Aprobado\", \"Aprobado\", \"Aprobado\", \"Aprobado\", \"Aprobado\", \"Aprobado\", \"Aprobado\", \"Aprobado\", \"Aprobado\", \"Aprobado\", \"Aprobado\", \"Aprobado\", \"Aprobado\", \"Aprobado\", \"Aprobado\", \"Aprobado\", \"Aprobado\", \"Aprobado\", \"Aprobado\", \"Aprobado\", \"Aprobado\", \"Aprobado\", \"Aprobado\", \"Aprobado\", \"Aprobado\", \"Aprobado\", \"Aprobado\", \"Aprobado\", \"Aprobado\", \"Aprobado\", \"Aprobado\", \"Aprobado\", \"Aprobado\", \"Aprobado\", \"Aprobado\", \"Aprobado\", \"Aprobado\", \"Aprobado\", \"Aprobado\", \"Aprobado\", \"Aprobado\", \"Aprobado\", \"Aprobado\", \"Aprobado\", \"Aprobado\", \"Aprobado\", \"Aprobado\", \"Aprobado\", \"Aprobado\", \"Aprobado\", \"Aprobado\", \"Aprobado\", \"Aprobado\", \"Aprobado\", \"Aprobado\", \"Aprobado\", \"Aprobado\", \"Aprobado\", \"Aprobado\", \"Aprobado\", \"Aprobado\", \"Aprobado\", \"Aprobado\", \"Aprobado\", \"Aprobado\", \"Aprobado\", \"Aprobado\", \"Aprobado\", \"Aprobado\", \"Aprobado\", \"Aprobado\", \"Aprobado\", \"Aprobado\", \"Aprobado\", \"Aprobado\", \"Aprobado\", \"Aprobado\", \"Aprobado\", \"Aprobado\", \"Aprobado\", \"Aprobado\", \"Aprobado\", \"Aprobado\", \"Aprobado\", \"Aprobado\", \"Aprobado\", \"Aprobado\", \"Aprobado\", \"Aprobado\", \"Aprobado\", \"Aprobado\", \"Aprobado\", \"Aprobado\", \"Aprobado\", \"Aprobado\", \"Aprobado\", \"Aprobado\", \"Aprobado\", \"Aprobado\", \"Aprobado\", \"Aprobado\", \"Aprobado\", \"Aprobado\", \"Aprobado\", \"Aprobado\", \"Aprobado\", \"Aprobado\", \"Aprobado\", \"Aprobado\", \"Aprobado\", \"Aprobado\", \"Aprobado\", \"Aprobado\", \"Aprobado\", \"Aprobado\", \"Aprobado\", \"Aprobado\", \"Aprobado\", \"Aprobado\", \"Aprobado\", \"Aprobado\", \"Aprobado\", \"Aprobado\", \"Aprobado\", \"Aprobado\", \"Aprobado\", \"Aprobado\", \"Aprobado\", \"Aprobado\", \"Aprobado\", \"Aprobado\", \"Aprobado\", \"Aprobado\", \"Aprobado\", \"Aprobado\", \"Aprobado\", \"Aprobado\", \"Aprobado\", \"Aprobado\", \"Aprobado\", \"Aprobado\", \"Aprobado\", \"Aprobado\", \"Aprobado\", \"Aprobado\", \"Aprobado\", \"Aprobado\", \"Aprobado\", \"Aprobado\", \"Aprobado\", \"Aprobado\", \"Aprobado\", \"Aprobado\", \"Aprobado\", \"Aprobado\", \"Aprobado\", \"Aprobado\", \"Aprobado\", \"Aprobado\", \"Aprobado\", \"Aprobado\", \"Aprobado\", \"Aprobado\", \"Aprobado\", \"Aprobado\", \"Aprobado\", \"Aprobado\", \"Aprobado\", \"Aprobado\", \"Aprobado\", \"Aprobado\", \"Aprobado\", \"Aprobado\", \"Aprobado\", \"Aprobado\", \"Aprobado\", \"Aprobado\", \"Aprobado\", \"Aprobado\", \"Aprobado\", \"Aprobado\", \"Aprobado\", \"Aprobado\", \"Aprobado\", \"Aprobado\", \"Aprobado\", \"Aprobado\", \"Aprobado\", \"Aprobado\", \"Aprobado\", \"Aprobado\", \"Aprobado\", \"Aprobado\", \"Aprobado\", \"Aprobado\", \"Aprobado\", \"Aprobado\", \"Aprobado\", \"Aprobado\", \"Aprobado\", \"Aprobado\", \"Aprobado\", \"Aprobado\", \"Aprobado\", \"Aprobado\", \"Aprobado\", \"Aprobado\", \"Aprobado\", \"Aprobado\", \"Aprobado\", \"Aprobado\", \"Aprobado\", \"Aprobado\", \"Aprobado\", \"Aprobado\", \"Aprobado\", \"Aprobado\", \"Aprobado\", \"Aprobado\", \"Aprobado\", \"Aprobado\", \"Aprobado\", \"Aprobado\", \"Aprobado\", \"Aprobado\", \"Aprobado\", \"Aprobado\", \"Aprobado\", \"Aprobado\", \"Aprobado\", \"Aprobado\", \"Aprobado\", \"Aprobado\", \"Aprobado\", \"Aprobado\", \"Aprobado\", \"Aprobado\", \"Aprobado\", \"Aprobado\", \"Aprobado\", \"Aprobado\", \"Aprobado\", \"Aprobado\", \"Aprobado\", \"Aprobado\", \"Aprobado\", \"Aprobado\", \"Aprobado\", \"Aprobado\", \"Aprobado\", \"Aprobado\", \"Aprobado\", \"Aprobado\", \"Aprobado\", \"Aprobado\", \"Aprobado\", \"Aprobado\", \"Aprobado\", \"Aprobado\", \"Aprobado\", \"Aprobado\", \"Aprobado\", \"Aprobado\", \"Aprobado\", \"Aprobado\", \"Aprobado\", \"Aprobado\", \"Aprobado\", \"Aprobado\", \"Aprobado\", \"Aprobado\", \"Aprobado\", \"Aprobado\", \"Aprobado\", \"Aprobado\", \"Aprobado\", \"Aprobado\", \"Aprobado\", \"Aprobado\", \"Aprobado\", \"Aprobado\", \"Aprobado\", \"Aprobado\", \"Aprobado\", \"Aprobado\", \"Aprobado\", \"Aprobado\", \"Aprobado\", \"Aprobado\", \"Aprobado\", \"Aprobado\", \"Aprobado\", \"Aprobado\", \"Aprobado\", \"Aprobado\", \"Aprobado\", \"Aprobado\", \"Aprobado\", \"Aprobado\", \"Aprobado\", \"Aprobado\", \"Aprobado\", \"Aprobado\", \"Aprobado\", \"Aprobado\", \"Aprobado\", \"Aprobado\", \"Aprobado\", \"Aprobado\", \"Aprobado\", \"Aprobado\", \"Aprobado\", \"Aprobado\", \"Aprobado\", \"Aprobado\", \"Aprobado\", \"Aprobado\", \"Aprobado\", \"Aprobado\", \"Aprobado\", \"Aprobado\", \"Aprobado\", \"Aprobado\", \"Aprobado\", \"Aprobado\", \"Aprobado\", \"Aprobado\", \"Aprobado\", \"Aprobado\", \"Aprobado\", \"Aprobado\", \"Aprobado\", \"Aprobado\", \"Aprobado\", \"Aprobado\", \"Aprobado\", \"Aprobado\", \"Aprobado\", \"Aprobado\", \"Aprobado\", \"Aprobado\", \"Aprobado\", \"Aprobado\", \"Aprobado\", \"Aprobado\", \"Aprobado\", \"Aprobado\", \"Aprobado\", \"Aprobado\", \"Aprobado\", \"Aprobado\", \"Aprobado\", \"Aprobado\", \"Aprobado\", \"Aprobado\", \"Aprobado\", \"Aprobado\", \"Aprobado\", \"Aprobado\", \"Aprobado\", \"Aprobado\", \"Aprobado\", \"Aprobado\", \"Aprobado\", \"Aprobado\", \"Aprobado\", \"Aprobado\", \"Aprobado\", \"Aprobado\", \"Aprobado\", \"Aprobado\", \"Aprobado\", \"Aprobado\", \"Aprobado\", \"Aprobado\", \"Aprobado\", \"Aprobado\", \"Aprobado\", \"Aprobado\", \"Aprobado\", \"Aprobado\", \"Aprobado\", \"Aprobado\", \"Aprobado\", \"Aprobado\", \"Aprobado\", \"Aprobado\", \"Aprobado\", \"Aprobado\", \"Aprobado\", \"Aprobado\", \"Aprobado\", \"Aprobado\", \"Aprobado\", \"Aprobado\", \"Aprobado\", \"Aprobado\", \"Aprobado\", \"Aprobado\", \"Aprobado\", \"Aprobado\", \"Aprobado\", \"Aprobado\", \"Aprobado\", \"Aprobado\", \"Aprobado\", \"Aprobado\", \"Aprobado\", \"Aprobado\", \"Aprobado\", \"Aprobado\", \"Aprobado\", \"Aprobado\", \"Aprobado\", \"Aprobado\", \"Aprobado\", \"Aprobado\", \"Aprobado\", \"Aprobado\", \"Aprobado\", \"Aprobado\", \"Aprobado\", \"Aprobado\", \"Aprobado\", \"Aprobado\", \"Aprobado\", \"Aprobado\", \"Aprobado\", \"Aprobado\", \"Aprobado\", \"Aprobado\", \"Aprobado\", \"Aprobado\", \"Aprobado\", \"Aprobado\", \"Aprobado\", \"Aprobado\", \"Aprobado\", \"Aprobado\", \"Aprobado\", \"Aprobado\", \"Aprobado\", \"Aprobado\", \"Aprobado\", \"Aprobado\", \"Aprobado\", \"Aprobado\", \"Aprobado\", \"Aprobado\", \"Aprobado\", \"Aprobado\", \"Aprobado\", \"Aprobado\", \"Aprobado\", \"Aprobado\", \"Aprobado\", \"Aprobado\", \"Aprobado\", \"Aprobado\", \"Aprobado\", \"Aprobado\", \"Aprobado\", \"Aprobado\", \"Aprobado\", \"Aprobado\", \"Aprobado\", \"Aprobado\", \"Aprobado\", \"Aprobado\", \"Aprobado\", \"Aprobado\", \"Aprobado\", \"Aprobado\", \"Aprobado\", \"Aprobado\", \"Aprobado\", \"Aprobado\", \"Aprobado\", \"Aprobado\", \"Aprobado\", \"Aprobado\", \"Aprobado\", \"Aprobado\", \"Aprobado\", \"Aprobado\", \"Aprobado\", \"Aprobado\", \"Aprobado\", \"Aprobado\", \"Aprobado\", \"Aprobado\", \"Aprobado\", \"Aprobado\", \"Aprobado\", \"Aprobado\", \"Aprobado\", \"Aprobado\", \"Aprobado\", \"Aprobado\", \"Aprobado\", \"Aprobado\", \"Aprobado\", \"Aprobado\", \"Aprobado\", \"Aprobado\", \"Aprobado\", \"Aprobado\", \"Aprobado\", \"Aprobado\", \"Aprobado\", \"Aprobado\", \"Aprobado\", \"Aprobado\", \"Aprobado\", \"Aprobado\", \"Aprobado\", \"Aprobado\", \"Aprobado\", \"Aprobado\", \"Aprobado\", \"Aprobado\", \"Aprobado\", \"Aprobado\", \"Aprobado\", \"Aprobado\", \"Aprobado\", \"Aprobado\", \"Aprobado\", \"Aprobado\", \"Aprobado\", \"Aprobado\", \"Aprobado\", \"Aprobado\", \"Aprobado\", \"Aprobado\", \"Aprobado\", \"Aprobado\", \"Aprobado\", \"Aprobado\", \"Aprobado\", \"Aprobado\", \"Aprobado\", \"Aprobado\", \"Aprobado\", \"Aprobado\", \"Aprobado\", \"Aprobado\", \"Aprobado\", \"Aprobado\", \"Aprobado\", \"Aprobado\", \"Aprobado\", \"Aprobado\", \"Aprobado\", \"Aprobado\", \"Aprobado\", \"Aprobado\", \"Aprobado\", \"Aprobado\", \"Aprobado\", \"Aprobado\", \"Aprobado\", \"Aprobado\", \"Aprobado\", \"Aprobado\", \"Aprobado\", \"Aprobado\", \"Aprobado\", \"Aprobado\", \"Aprobado\", \"Aprobado\", \"Aprobado\", \"Aprobado\", \"Aprobado\", \"Aprobado\", \"Aprobado\", \"Aprobado\", \"Aprobado\", \"Aprobado\", \"Aprobado\", \"Aprobado\", \"Aprobado\", \"Aprobado\", \"Aprobado\", \"Aprobado\", \"Aprobado\", \"Aprobado\", \"Aprobado\", \"Aprobado\", \"Aprobado\", \"Aprobado\", \"Aprobado\", \"Aprobado\", \"Aprobado\", \"Aprobado\", \"Aprobado\", \"Aprobado\", \"Aprobado\", \"Aprobado\", \"Aprobado\", \"Aprobado\", \"Aprobado\", \"Aprobado\", \"Aprobado\", \"Aprobado\", \"Aprobado\", \"Aprobado\", \"Aprobado\", \"Aprobado\", \"Aprobado\", \"Aprobado\", \"Aprobado\", \"Aprobado\", \"Aprobado\", \"Aprobado\", \"Aprobado\", \"Aprobado\", \"Aprobado\", \"Aprobado\", \"Aprobado\", \"Aprobado\", \"Aprobado\", \"Aprobado\", \"Aprobado\", \"Aprobado\", \"Aprobado\", \"Aprobado\", \"Aprobado\", \"Aprobado\", \"Aprobado\", \"Aprobado\", \"Aprobado\", \"Aprobado\", \"Aprobado\", \"Aprobado\", \"Aprobado\", \"Aprobado\", \"Aprobado\", \"Aprobado\", \"Aprobado\", \"Aprobado\", \"Aprobado\", \"Aprobado\", \"Aprobado\", \"Aprobado\", \"Aprobado\", \"Aprobado\", \"Aprobado\", \"Aprobado\", \"Aprobado\", \"Aprobado\", \"Aprobado\", \"Aprobado\", \"Aprobado\", \"Aprobado\", \"Aprobado\", \"Aprobado\", \"Aprobado\", \"Aprobado\", \"Aprobado\", \"Aprobado\", \"Aprobado\", \"Aprobado\", \"Aprobado\", \"Aprobado\", \"Aprobado\", \"Aprobado\", \"Aprobado\", \"Aprobado\", \"Aprobado\", \"Aprobado\", \"Aprobado\", \"Aprobado\", \"Aprobado\", \"Aprobado\", \"Aprobado\", \"Aprobado\", \"Aprobado\", \"Aprobado\", \"Aprobado\", \"Aprobado\", \"Aprobado\", \"Aprobado\", \"Aprobado\", \"Aprobado\", \"Aprobado\", \"Aprobado\", \"Aprobado\", \"Aprobado\", \"Aprobado\", \"Aprobado\", \"Aprobado\", \"Aprobado\", \"Aprobado\", \"Aprobado\", \"Aprobado\", \"Aprobado\", \"Aprobado\", \"Aprobado\", \"Aprobado\", \"Aprobado\", \"Aprobado\", \"Aprobado\", \"Aprobado\", \"Aprobado\", \"Aprobado\", \"Aprobado\", \"Aprobado\", \"Aprobado\", \"Aprobado\", \"Aprobado\", \"Aprobado\", \"Aprobado\", \"Aprobado\", \"Aprobado\", \"Aprobado\", \"Aprobado\", \"Aprobado\", \"Aprobado\", \"Aprobado\", \"Aprobado\", \"Aprobado\", \"Aprobado\", \"Aprobado\", \"Aprobado\", \"Aprobado\", \"Aprobado\", \"Aprobado\", \"Aprobado\", \"Aprobado\", \"Aprobado\", \"Aprobado\", \"Aprobado\", \"Aprobado\", \"Aprobado\", \"Aprobado\", \"Aprobado\", \"Aprobado\", \"Aprobado\", \"Aprobado\", \"Aprobado\", \"Aprobado\", \"Aprobado\", \"Aprobado\", \"Aprobado\", \"Aprobado\", \"Aprobado\", \"Aprobado\", \"Aprobado\", \"Aprobado\", \"Aprobado\", \"Aprobado\", \"Aprobado\", \"Aprobado\", \"Aprobado\", \"Aprobado\", \"Aprobado\", \"Aprobado\", \"Aprobado\", \"Aprobado\", \"Aprobado\", \"Aprobado\", \"Aprobado\", \"Aprobado\", \"Aprobado\", \"Aprobado\", \"Aprobado\", \"Aprobado\", \"Aprobado\", \"Aprobado\", \"Aprobado\", \"Aprobado\", \"Aprobado\", \"Aprobado\", \"Aprobado\", \"Aprobado\", \"Aprobado\", \"Aprobado\", \"Aprobado\", \"Aprobado\", \"Aprobado\", \"Aprobado\", \"Aprobado\", \"Aprobado\", \"Aprobado\", \"Aprobado\", \"Aprobado\", \"Aprobado\", \"Aprobado\", \"Aprobado\", \"Aprobado\", \"Aprobado\", \"Aprobado\", \"Aprobado\", \"Aprobado\", \"Aprobado\", \"Aprobado\", \"Aprobado\", \"Aprobado\", \"Aprobado\", \"Aprobado\", \"Aprobado\", \"Aprobado\", \"Aprobado\", \"Aprobado\", \"Aprobado\", \"Aprobado\", \"Aprobado\", \"Aprobado\", \"Aprobado\", \"Aprobado\", \"Aprobado\", \"Aprobado\", \"Aprobado\", \"Aprobado\", \"Aprobado\", \"Aprobado\", \"Aprobado\", \"Aprobado\", \"Aprobado\", \"Aprobado\", \"Aprobado\", \"Aprobado\", \"Aprobado\", \"Aprobado\", \"Aprobado\", \"Aprobado\", \"Aprobado\", \"Aprobado\", \"Aprobado\", \"Aprobado\", \"Aprobado\", \"Aprobado\", \"Aprobado\", \"Aprobado\", \"Aprobado\", \"Aprobado\", \"Aprobado\", \"Aprobado\", \"Aprobado\", \"Aprobado\", \"Aprobado\", \"Aprobado\", \"Aprobado\", \"Aprobado\", \"Aprobado\", \"Aprobado\", \"Aprobado\", \"Aprobado\", \"Aprobado\", \"Aprobado\", \"Aprobado\", \"Aprobado\", \"Aprobado\", \"Aprobado\", \"Aprobado\", \"Aprobado\", \"Aprobado\", \"Aprobado\", \"Aprobado\", \"Aprobado\", \"Aprobado\", \"Aprobado\", \"Aprobado\", \"Aprobado\", \"Aprobado\", \"Aprobado\", \"Aprobado\", \"Aprobado\", \"Aprobado\", \"Aprobado\", \"Aprobado\", \"Aprobado\", \"Aprobado\", \"Aprobado\", \"Aprobado\", \"Aprobado\", \"Aprobado\", \"Aprobado\", \"Aprobado\", \"Aprobado\", \"Aprobado\", \"Aprobado\", \"Aprobado\", \"Aprobado\", \"Aprobado\", \"Aprobado\", \"Aprobado\", \"Aprobado\", \"Aprobado\", \"Aprobado\", \"Aprobado\", \"Aprobado\", \"Aprobado\", \"Aprobado\", \"Aprobado\", \"Aprobado\", \"Aprobado\", \"Aprobado\", \"Aprobado\", \"Aprobado\", \"Aprobado\", \"Aprobado\", \"Aprobado\", \"Aprobado\", \"Aprobado\", \"Aprobado\", \"Aprobado\", \"Aprobado\", \"Aprobado\", \"Aprobado\", \"Aprobado\", \"Aprobado\", \"Aprobado\", \"Aprobado\", \"Aprobado\", \"Aprobado\", \"Aprobado\", \"Aprobado\", \"Aprobado\", \"Aprobado\", \"Aprobado\", \"Aprobado\", \"Aprobado\", \"Aprobado\", \"Aprobado\", \"Aprobado\", \"Aprobado\", \"Aprobado\", \"Aprobado\", \"Aprobado\", \"Aprobado\", \"Aprobado\", \"Aprobado\", \"Aprobado\", \"Aprobado\", \"Aprobado\", \"Aprobado\", \"Aprobado\", \"Aprobado\", \"Aprobado\", \"Aprobado\", \"Aprobado\", \"Aprobado\", \"Aprobado\", \"Aprobado\", \"Aprobado\", \"Aprobado\", \"Aprobado\", \"Aprobado\", \"Aprobado\", \"Aprobado\", \"Aprobado\", \"Aprobado\", \"Aprobado\", \"Aprobado\", \"Aprobado\", \"Aprobado\", \"Aprobado\", \"Aprobado\", \"Aprobado\", \"Aprobado\", \"Aprobado\", \"Aprobado\", \"Aprobado\", \"Aprobado\", \"Aprobado\", \"Aprobado\", \"Aprobado\", \"Aprobado\", \"Aprobado\", \"Aprobado\", \"Aprobado\", \"Aprobado\", \"Aprobado\", \"Aprobado\", \"Aprobado\", \"Aprobado\", \"Aprobado\", \"Aprobado\", \"Aprobado\", \"Aprobado\", \"Aprobado\", \"Aprobado\", \"Aprobado\", \"Aprobado\", \"Aprobado\", \"Aprobado\", \"Aprobado\", \"Aprobado\", \"Aprobado\", \"Aprobado\", \"Aprobado\", \"Aprobado\", \"Aprobado\", \"Aprobado\", \"Aprobado\", \"Aprobado\", \"Aprobado\", \"Aprobado\", \"Aprobado\", \"Aprobado\", \"Aprobado\", \"Aprobado\", \"Aprobado\", \"Aprobado\", \"Aprobado\", \"Aprobado\", \"Aprobado\", \"Aprobado\", \"Aprobado\", \"Aprobado\", \"Aprobado\", \"Aprobado\", \"Aprobado\", \"Aprobado\", \"Aprobado\", \"Aprobado\", \"Aprobado\", \"Aprobado\", \"Aprobado\", \"Aprobado\", \"Aprobado\", \"Aprobado\", \"Aprobado\", \"Aprobado\", \"Aprobado\", \"Aprobado\", \"Aprobado\", \"Aprobado\", \"Aprobado\", \"Aprobado\", \"Aprobado\", \"Aprobado\", \"Aprobado\", \"Aprobado\", \"Aprobado\", \"Aprobado\", \"Aprobado\", \"Aprobado\", \"Aprobado\", \"Aprobado\", \"Aprobado\", \"Aprobado\", \"Aprobado\", \"Aprobado\", \"Aprobado\", \"Aprobado\", \"Aprobado\", \"Aprobado\", \"Aprobado\", \"Aprobado\", \"Aprobado\", \"Aprobado\", \"Aprobado\", \"Aprobado\", \"Aprobado\", \"Aprobado\", \"Aprobado\", \"Aprobado\", \"Aprobado\", \"Aprobado\", \"Aprobado\", \"Aprobado\", \"Aprobado\", \"Aprobado\", \"Aprobado\", \"Aprobado\", \"Aprobado\", \"Aprobado\", \"Aprobado\", \"Aprobado\", \"Aprobado\", \"Aprobado\", \"Aprobado\", \"Aprobado\", \"Aprobado\", \"Aprobado\", \"Aprobado\", \"Aprobado\", \"Aprobado\", \"Aprobado\", \"Aprobado\", \"Aprobado\", \"Aprobado\", \"Aprobado\", \"Aprobado\", \"Aprobado\", \"Aprobado\", \"Aprobado\", \"Aprobado\", \"Aprobado\", \"Aprobado\", \"Aprobado\", \"Aprobado\", \"Aprobado\", \"Aprobado\", \"Aprobado\", \"Aprobado\", \"Aprobado\", \"Aprobado\", \"Aprobado\", \"Aprobado\", \"Aprobado\", \"Aprobado\", \"Aprobado\", \"Aprobado\", \"Aprobado\", \"Aprobado\", \"Aprobado\", \"Aprobado\", \"Aprobado\", \"Aprobado\", \"Aprobado\", \"Aprobado\", \"Aprobado\", \"Aprobado\", \"Aprobado\", \"Aprobado\", \"Aprobado\", \"Aprobado\", \"Aprobado\", \"Aprobado\", \"Aprobado\", \"Aprobado\", \"Aprobado\", \"Aprobado\", \"Aprobado\", \"Aprobado\", \"Aprobado\", \"Aprobado\", \"Aprobado\", \"Aprobado\", \"Aprobado\", \"Aprobado\", \"Aprobado\", \"Aprobado\", \"Aprobado\", \"Aprobado\", \"Aprobado\", \"Aprobado\", \"Aprobado\", \"Aprobado\", \"Aprobado\", \"Aprobado\", \"Aprobado\", \"Aprobado\", \"Aprobado\", \"Aprobado\", \"Aprobado\", \"Aprobado\", \"Aprobado\", \"Aprobado\", \"Aprobado\", \"Aprobado\", \"Aprobado\", \"Aprobado\", \"Aprobado\", \"Aprobado\", \"Aprobado\", \"Aprobado\", \"Aprobado\", \"Aprobado\", \"Aprobado\", \"Aprobado\", \"Aprobado\", \"Aprobado\", \"Aprobado\", \"Aprobado\", \"Aprobado\", \"Aprobado\", \"Aprobado\", \"Aprobado\", \"Aprobado\", \"Aprobado\", \"Aprobado\", \"Aprobado\", \"Aprobado\", \"Aprobado\", \"Aprobado\", \"Aprobado\", \"Aprobado\", \"Aprobado\", \"Aprobado\", \"Aprobado\", \"Aprobado\", \"Aprobado\", \"Aprobado\", \"Aprobado\", \"Aprobado\", \"Aprobado\", \"Aprobado\", \"Aprobado\", \"Aprobado\", \"Aprobado\", \"Aprobado\", \"Aprobado\", \"Aprobado\", \"Aprobado\", \"Aprobado\", \"Aprobado\", \"Aprobado\", \"Aprobado\", \"Aprobado\", \"Aprobado\", \"Aprobado\", \"Aprobado\", \"Aprobado\", \"Aprobado\", \"Aprobado\", \"Aprobado\", \"Aprobado\", \"Aprobado\", \"Aprobado\", \"Aprobado\", \"Aprobado\", \"Aprobado\", \"Aprobado\", \"Aprobado\", \"Aprobado\", \"Aprobado\", \"Aprobado\", \"Aprobado\", \"Aprobado\", \"Aprobado\", \"Aprobado\", \"Aprobado\", \"Aprobado\", \"Aprobado\", \"Aprobado\", \"Aprobado\", \"Aprobado\", \"Aprobado\", \"Aprobado\", \"Aprobado\", \"Aprobado\", \"Aprobado\", \"Aprobado\", \"Aprobado\", \"Aprobado\", \"Aprobado\", \"Aprobado\", \"Aprobado\", \"Aprobado\", \"Aprobado\", \"Aprobado\", \"Aprobado\", \"Aprobado\", \"Aprobado\", \"Aprobado\", \"Aprobado\", \"Aprobado\", \"Aprobado\", \"Aprobado\", \"Aprobado\", \"Aprobado\", \"Aprobado\", \"Aprobado\", \"Aprobado\", \"Aprobado\", \"Aprobado\", \"Aprobado\", \"Aprobado\", \"Aprobado\", \"Aprobado\", \"Aprobado\", \"Aprobado\", \"Aprobado\", \"Aprobado\", \"Aprobado\", \"Aprobado\", \"Aprobado\", \"Aprobado\", \"Aprobado\", \"Aprobado\", \"Aprobado\", \"Aprobado\", \"Aprobado\", \"Aprobado\", \"Aprobado\", \"Aprobado\", \"Aprobado\", \"Aprobado\", \"Aprobado\", \"Aprobado\", \"Aprobado\", \"Aprobado\", \"Aprobado\", \"Aprobado\", \"Aprobado\", \"Aprobado\", \"Aprobado\", \"Aprobado\", \"Aprobado\", \"Aprobado\", \"Aprobado\", \"Aprobado\", \"Aprobado\", \"Aprobado\", \"Aprobado\", \"Aprobado\", \"Aprobado\", \"Aprobado\", \"Aprobado\", \"Aprobado\", \"Aprobado\", \"Aprobado\", \"Aprobado\", \"Aprobado\", \"Aprobado\", \"Aprobado\", \"Aprobado\", \"Aprobado\", \"Aprobado\", \"Aprobado\", \"Aprobado\", \"Aprobado\", \"Aprobado\", \"Aprobado\", \"Aprobado\", \"Aprobado\", \"Aprobado\", \"Aprobado\", \"Aprobado\", \"Aprobado\", \"Aprobado\", \"Aprobado\", \"Aprobado\", \"Aprobado\", \"Aprobado\", \"Aprobado\", \"Aprobado\", \"Aprobado\", \"Aprobado\", \"Aprobado\", \"Aprobado\", \"Aprobado\", \"Aprobado\", \"Aprobado\", \"Aprobado\", \"Aprobado\", \"Aprobado\", \"Aprobado\", \"Aprobado\", \"Aprobado\", \"Aprobado\", \"Aprobado\", \"Aprobado\", \"Aprobado\", \"Aprobado\", \"Aprobado\", \"Aprobado\", \"Aprobado\", \"Aprobado\", \"Aprobado\", \"Aprobado\", \"Aprobado\", \"Aprobado\", \"Aprobado\", \"Aprobado\", \"Aprobado\", \"Aprobado\", \"Aprobado\", \"Aprobado\", \"Aprobado\", \"Aprobado\", \"Aprobado\", \"Aprobado\", \"Aprobado\", \"Aprobado\", \"Aprobado\", \"Aprobado\", \"Aprobado\", \"Aprobado\", \"Aprobado\", \"Aprobado\", \"Aprobado\", \"Aprobado\", \"Aprobado\", \"Aprobado\", \"Aprobado\", \"Aprobado\", \"Aprobado\", \"Aprobado\", \"Aprobado\", \"Aprobado\", \"Aprobado\", \"Aprobado\", \"Aprobado\", \"Aprobado\", \"Aprobado\", \"Aprobado\", \"Aprobado\", \"Aprobado\", \"Aprobado\", \"Aprobado\", \"Aprobado\", \"Aprobado\", \"Aprobado\", \"Aprobado\", \"Aprobado\", \"Aprobado\", \"Aprobado\", \"Aprobado\", \"Aprobado\", \"Aprobado\", \"Aprobado\", \"Aprobado\", \"Aprobado\", \"Aprobado\", \"Aprobado\", \"Aprobado\", \"Aprobado\", \"Aprobado\", \"Aprobado\", \"Aprobado\", \"Aprobado\", \"Aprobado\", \"Aprobado\", \"Aprobado\", \"Aprobado\", \"Aprobado\", \"Aprobado\", \"Aprobado\", \"Aprobado\", \"Aprobado\", \"Aprobado\", \"Aprobado\", \"Aprobado\", \"Aprobado\", \"Aprobado\", \"Aprobado\", \"Aprobado\", \"Aprobado\", \"Aprobado\", \"Aprobado\", \"Aprobado\", \"Aprobado\", \"Aprobado\", \"Aprobado\", \"Aprobado\", \"Aprobado\", \"Aprobado\", \"Aprobado\", \"Aprobado\", \"Aprobado\", \"Aprobado\", \"Aprobado\", \"Aprobado\", \"Aprobado\", \"Aprobado\", \"Aprobado\", \"Aprobado\", \"Aprobado\", \"Aprobado\", \"Aprobado\", \"Aprobado\", \"Aprobado\", \"Aprobado\", \"Aprobado\", \"Aprobado\", \"Aprobado\", \"Aprobado\", \"Aprobado\", \"Aprobado\", \"Aprobado\", \"Aprobado\", \"Aprobado\", \"Aprobado\", \"Aprobado\", \"Aprobado\", \"Aprobado\", \"Aprobado\", \"Aprobado\", \"Aprobado\", \"Aprobado\", \"Aprobado\", \"Aprobado\", \"Aprobado\", \"Aprobado\", \"Aprobado\", \"Aprobado\", \"Aprobado\", \"Aprobado\", \"Aprobado\", \"Aprobado\", \"Aprobado\", \"Aprobado\", \"Aprobado\", \"Aprobado\", \"Aprobado\", \"Aprobado\", \"Aprobado\", \"Aprobado\", \"Aprobado\", \"Aprobado\", \"Aprobado\", \"Aprobado\", \"Aprobado\", \"Aprobado\", \"Aprobado\", \"Aprobado\", \"Aprobado\", \"Aprobado\", \"Aprobado\", \"Aprobado\", \"Aprobado\", \"Aprobado\", \"Aprobado\", \"Aprobado\", \"Aprobado\", \"Aprobado\", \"Aprobado\", \"Aprobado\", \"Aprobado\", \"Aprobado\", \"Aprobado\", \"Aprobado\", \"Aprobado\", \"Aprobado\", \"Aprobado\", \"Aprobado\", \"Aprobado\", \"Aprobado\", \"Aprobado\", \"Aprobado\", \"Aprobado\", \"Aprobado\", \"Aprobado\", \"Aprobado\", \"Aprobado\", \"Aprobado\", \"Aprobado\", \"Aprobado\", \"Aprobado\", \"Aprobado\", \"Aprobado\", \"Aprobado\", \"Aprobado\", \"Aprobado\", \"Aprobado\", \"Aprobado\", \"Aprobado\", \"Aprobado\", \"Aprobado\", \"Aprobado\", \"Aprobado\", \"Aprobado\", \"Aprobado\", \"Aprobado\", \"Aprobado\", \"Aprobado\", \"Aprobado\", \"Aprobado\", \"Aprobado\", \"Aprobado\", \"Aprobado\", \"Aprobado\", \"Aprobado\", \"Aprobado\", \"Aprobado\", \"Aprobado\", \"Aprobado\", \"Aprobado\", \"Aprobado\", \"Aprobado\", \"Aprobado\", \"Aprobado\", \"Aprobado\", \"Aprobado\", \"Aprobado\", \"Aprobado\", \"Aprobado\", \"Aprobado\", \"Aprobado\", \"Aprobado\", \"Aprobado\", \"Aprobado\", \"Aprobado\", \"Aprobado\", \"Aprobado\", \"Aprobado\", \"Aprobado\", \"Aprobado\", \"Aprobado\", \"Aprobado\", \"Aprobado\", \"Aprobado\", \"Aprobado\", \"Aprobado\", \"Aprobado\", \"Aprobado\", \"Aprobado\", \"Aprobado\", \"Aprobado\", \"Aprobado\", \"Aprobado\", \"Aprobado\", \"Aprobado\", \"Aprobado\", \"Aprobado\", \"Aprobado\", \"Aprobado\", \"Aprobado\", \"Aprobado\", \"Aprobado\", \"Aprobado\", \"Aprobado\", \"Aprobado\", \"Aprobado\", \"Aprobado\", \"Aprobado\", \"Aprobado\", \"Aprobado\", \"Aprobado\", \"Aprobado\", \"Aprobado\", \"Aprobado\", \"Aprobado\", \"Aprobado\", \"Aprobado\", \"Aprobado\", \"Aprobado\", \"Aprobado\", \"Aprobado\", \"Aprobado\", \"Aprobado\", \"Aprobado\", \"Aprobado\", \"Aprobado\", \"Aprobado\", \"Aprobado\", \"Aprobado\", \"Aprobado\", \"Aprobado\", \"Aprobado\", \"Aprobado\", \"Aprobado\", \"Aprobado\", \"Aprobado\", \"Aprobado\", \"Aprobado\", \"Aprobado\", \"Aprobado\", \"Aprobado\", \"Aprobado\", \"Aprobado\", \"Aprobado\", \"Aprobado\", \"Aprobado\", \"Aprobado\", \"Aprobado\", \"Aprobado\", \"Aprobado\", \"Aprobado\", \"Aprobado\", \"Aprobado\", \"Aprobado\", \"Aprobado\", \"Aprobado\", \"Aprobado\", \"Aprobado\", \"Aprobado\", \"Aprobado\", \"Aprobado\", \"Aprobado\", \"Aprobado\", \"Aprobado\", \"Aprobado\", \"Aprobado\", \"Aprobado\", \"Aprobado\", \"Aprobado\", \"Aprobado\", \"Aprobado\", \"Aprobado\", \"Aprobado\", \"Aprobado\", \"Aprobado\", \"Aprobado\", \"Aprobado\", \"Aprobado\", \"Aprobado\", \"Aprobado\", \"Aprobado\", \"Aprobado\", \"Aprobado\", \"Aprobado\", \"Aprobado\", \"Aprobado\", \"Aprobado\", \"Aprobado\", \"Aprobado\", \"Aprobado\", \"Aprobado\", \"Aprobado\", \"Aprobado\", \"Aprobado\", \"Aprobado\", \"Aprobado\", \"Aprobado\", \"Aprobado\", \"Aprobado\", \"Aprobado\", \"Aprobado\", \"Aprobado\", \"Aprobado\", \"Aprobado\", \"Aprobado\", \"Aprobado\", \"Aprobado\", \"Aprobado\", \"Aprobado\", \"Aprobado\", \"Aprobado\", \"Aprobado\", \"Aprobado\", \"Aprobado\", \"Aprobado\", \"Aprobado\", \"Aprobado\", \"Aprobado\", \"Aprobado\", \"Aprobado\", \"Aprobado\", \"Aprobado\", \"Aprobado\", \"Aprobado\", \"Aprobado\", \"Aprobado\", \"Aprobado\", \"Aprobado\", \"Aprobado\", \"Aprobado\", \"Aprobado\", \"Aprobado\", \"Aprobado\", \"Aprobado\", \"Aprobado\", \"Aprobado\", \"Aprobado\", \"Aprobado\", \"Aprobado\", \"Aprobado\", \"Aprobado\", \"Aprobado\", \"Aprobado\", \"Aprobado\", \"Aprobado\", \"Aprobado\", \"Aprobado\", \"Aprobado\", \"Aprobado\", \"Aprobado\", \"Aprobado\", \"Aprobado\", \"Aprobado\", \"Aprobado\", \"Aprobado\", \"Aprobado\", \"Aprobado\", \"Aprobado\", \"Aprobado\", \"Aprobado\", \"Aprobado\", \"Aprobado\", \"Aprobado\", \"Aprobado\", \"Aprobado\", \"Aprobado\", \"Aprobado\", \"Aprobado\", \"Aprobado\", \"Aprobado\", \"Aprobado\", \"Aprobado\", \"Aprobado\", \"Aprobado\", \"Aprobado\", \"Aprobado\", \"Aprobado\", \"Aprobado\", \"Aprobado\", \"Aprobado\", \"Aprobado\", \"Aprobado\", \"Aprobado\", \"Aprobado\", \"Aprobado\", \"Aprobado\", \"Aprobado\", \"Aprobado\", \"Aprobado\", \"Aprobado\", \"Aprobado\", \"Aprobado\", \"Aprobado\", \"Aprobado\", \"Aprobado\", \"Aprobado\", \"Aprobado\", \"Aprobado\", \"Aprobado\", \"Aprobado\", \"Aprobado\", \"Aprobado\", \"Aprobado\", \"Aprobado\", \"Aprobado\", \"Aprobado\", \"Aprobado\", \"Aprobado\", \"Aprobado\", \"Aprobado\", \"Aprobado\", \"Aprobado\", \"Aprobado\", \"Aprobado\", \"Aprobado\", \"Aprobado\", \"Aprobado\", \"Reprobado\", \"Reprobado\", \"Reprobado\", \"Reprobado\", \"Reprobado\", \"Reprobado\", \"Reprobado\", \"Reprobado\", \"Reprobado\", \"Reprobado\", \"Reprobado\", \"Reprobado\", \"Reprobado\", \"Reprobado\", \"Reprobado\", \"Reprobado\", \"Reprobado\", \"Reprobado\", \"Reprobado\", \"Reprobado\", \"Reprobado\", \"Reprobado\", \"Reprobado\", \"Reprobado\", \"Reprobado\", \"Reprobado\", \"Reprobado\", \"Reprobado\", \"Reprobado\", \"Reprobado\", \"Reprobado\", \"Reprobado\", \"Reprobado\", \"Reprobado\", \"Reprobado\", \"Reprobado\", \"Reprobado\", \"Reprobado\", \"Reprobado\", \"Reprobado\", \"Reprobado\", \"Reprobado\", \"Reprobado\", \"Reprobado\", \"Reprobado\", \"Reprobado\", \"Reprobado\", \"Reprobado\", \"Reprobado\", \"Reprobado\", \"Reprobado\", \"Reprobado\", \"Reprobado\", \"Reprobado\", \"Reprobado\", \"Reprobado\", \"Reprobado\", \"Reprobado\", \"Reprobado\", \"Reprobado\", \"Reprobado\", \"Reprobado\", \"Reprobado\", \"Reprobado\", \"Reprobado\", \"Reprobado\", \"Reprobado\", \"Reprobado\", \"Reprobado\", \"Reprobado\", \"Reprobado\", \"Reprobado\", \"Reprobado\", \"Reprobado\", \"Reprobado\", \"Reprobado\", \"Reprobado\", \"Reprobado\", \"Reprobado\", \"Reprobado\", \"Reprobado\", \"Reprobado\", \"Reprobado\", \"Reprobado\", \"Reprobado\", \"Reprobado\", \"Reprobado\", \"Reprobado\", \"Reprobado\", \"Reprobado\", \"Reprobado\", \"Reprobado\", \"Reprobado\", \"Reprobado\", \"Reprobado\", \"Reprobado\", \"Reprobado\", \"Reprobado\", \"Reprobado\", \"Reprobado\", \"Reprobado\", \"Reprobado\", \"Reprobado\", \"Reprobado\", \"Reprobado\", \"Reprobado\", \"Reprobado\", \"Reprobado\", \"Reprobado\", \"Reprobado\", \"Reprobado\", \"Reprobado\", \"Reprobado\", \"Reprobado\", \"Reprobado\", \"Reprobado\", \"Reprobado\", \"Reprobado\", \"Reprobado\", \"Reprobado\", \"Reprobado\", \"Reprobado\", \"Reprobado\", \"Reprobado\", \"Reprobado\", \"Reprobado\", \"Reprobado\", \"Reprobado\", \"Reprobado\", \"Reprobado\", \"Reprobado\", \"Reprobado\", \"Reprobado\", \"Reprobado\", \"Reprobado\", \"Reprobado\", \"Reprobado\", \"Reprobado\", \"Reprobado\", \"Reprobado\", \"Reprobado\", \"Reprobado\", \"Reprobado\", \"Reprobado\", \"Reprobado\", \"Reprobado\", \"Reprobado\", \"Reprobado\", \"Reprobado\", \"Reprobado\", \"Reprobado\", \"Reprobado\", \"Reprobado\", \"Reprobado\", \"Reprobado\", \"Reprobado\", \"Reprobado\", \"Reprobado\", \"Reprobado\", \"Reprobado\", \"Reprobado\", \"Reprobado\", \"Reprobado\", \"Reprobado\", \"Reprobado\", \"Reprobado\", \"Reprobado\", \"Reprobado\", \"Reprobado\", \"Reprobado\", \"Reprobado\", \"Reprobado\", \"Reprobado\", \"Reprobado\", \"Reprobado\", \"Reprobado\", \"Reprobado\", \"Reprobado\", \"Reprobado\", \"Reprobado\", \"Reprobado\", \"Reprobado\", \"Reprobado\", \"Reprobado\", \"Reprobado\", \"Reprobado\", \"Reprobado\", \"Reprobado\", \"Reprobado\", \"Reprobado\", \"Reprobado\", \"Reprobado\", \"Reprobado\", \"Reprobado\", \"Reprobado\", \"Reprobado\", \"Reprobado\", \"Reprobado\", \"Reprobado\", \"Reprobado\", \"Reprobado\", \"Reprobado\", \"Reprobado\", \"Reprobado\", \"Reprobado\", \"Reprobado\", \"Reprobado\", \"Reprobado\", \"Reprobado\", \"Reprobado\", \"Reprobado\", \"Reprobado\", \"Reprobado\", \"Reprobado\", \"Reprobado\", \"Reprobado\", \"Reprobado\", \"Reprobado\", \"Reprobado\", \"Reprobado\", \"Reprobado\", \"Reprobado\", \"Reprobado\", \"Reprobado\", \"Reprobado\", \"Reprobado\", \"Reprobado\", \"Reprobado\", \"Reprobado\", \"Reprobado\", \"Reprobado\", \"Reprobado\", \"Reprobado\", \"Reprobado\", \"Reprobado\", \"Reprobado\", \"Reprobado\", \"Reprobado\", \"Reprobado\", \"Reprobado\", \"Reprobado\", \"Reprobado\", \"Reprobado\", \"Reprobado\", \"Reprobado\", \"Reprobado\", \"Reprobado\", \"Reprobado\", \"Reprobado\", \"Reprobado\", \"Reprobado\", \"Reprobado\", \"Reprobado\", \"Reprobado\", \"Reprobado\", \"Reprobado\", \"Reprobado\", \"Reprobado\", \"Reprobado\", \"Reprobado\", \"Reprobado\", \"Reprobado\", \"Reprobado\", \"Reprobado\", \"Reprobado\", \"Reprobado\", \"Reprobado\", \"Reprobado\", \"Reprobado\", \"Reprobado\", \"Reprobado\", \"Reprobado\", \"Reprobado\", \"Reprobado\", \"Reprobado\", \"Reprobado\", \"Reprobado\", \"Reprobado\", \"Reprobado\", \"Reprobado\", \"Reprobado\", \"Reprobado\", \"Reprobado\", \"Reprobado\", \"Reprobado\", \"Reprobado\", \"Reprobado\", \"Reprobado\", \"Reprobado\", \"Reprobado\", \"Reprobado\", \"Reprobado\", \"Reprobado\", \"Reprobado\", \"Reprobado\", \"Reprobado\", \"Reprobado\", \"Reprobado\", \"Reprobado\", \"Reprobado\", \"Reprobado\", \"Reprobado\", \"Reprobado\", \"Reprobado\", \"Reprobado\", \"Reprobado\", \"Reprobado\", \"Reprobado\", \"Reprobado\", \"Reprobado\", \"Reprobado\", \"Reprobado\", \"Reprobado\", \"Reprobado\", \"Reprobado\", \"Reprobado\", \"Reprobado\", \"Reprobado\", \"Reprobado\", \"Reprobado\", \"Reprobado\", \"Reprobado\", \"Reprobado\", \"Reprobado\", \"Reprobado\", \"Reprobado\", \"Reprobado\", \"Reprobado\", \"Reprobado\", \"Reprobado\", \"Reprobado\", \"Reprobado\", \"Reprobado\", \"Reprobado\", \"Reprobado\", \"Reprobado\", \"Reprobado\", \"Reprobado\", \"Reprobado\", \"Reprobado\", \"Reprobado\", \"Reprobado\", \"Reprobado\", \"Reprobado\", \"Reprobado\", \"Reprobado\", \"Reprobado\", \"Reprobado\", \"Reprobado\", \"Reprobado\", \"Reprobado\", \"Reprobado\", \"Reprobado\", \"Reprobado\", \"Reprobado\", \"Reprobado\", \"Reprobado\", \"Reprobado\", \"Reprobado\", \"Reprobado\", \"Reprobado\", \"Reprobado\", \"Reprobado\", \"Reprobado\", \"Reprobado\", \"Reprobado\", \"Reprobado\", \"Reprobado\", \"Reprobado\", \"Reprobado\", \"Reprobado\", \"Reprobado\", \"Reprobado\", \"Reprobado\", \"Reprobado\", \"Reprobado\", \"Reprobado\", \"Reprobado\", \"Reprobado\", \"Reprobado\", \"Reprobado\", \"Reprobado\", \"Reprobado\", \"Reprobado\", \"Reprobado\", \"Reprobado\", \"Reprobado\", \"Reprobado\", \"Reprobado\", \"Reprobado\", \"Reprobado\", \"Reprobado\", \"Reprobado\", \"Reprobado\", \"Reprobado\", \"Reprobado\", \"Reprobado\", \"Reprobado\", \"Reprobado\", \"Reprobado\", \"Reprobado\", \"Reprobado\", \"Reprobado\", \"Reprobado\", \"Reprobado\", \"Reprobado\", \"Reprobado\", \"Reprobado\", \"Reprobado\", \"Reprobado\", \"Reprobado\", \"Reprobado\", \"Reprobado\", \"Reprobado\", \"Reprobado\", \"Reprobado\", \"Reprobado\", \"Reprobado\", \"Reprobado\", \"Reprobado\", \"Reprobado\", \"Reprobado\", \"Reprobado\", \"Reprobado\", \"Reprobado\", \"Reprobado\", \"Reprobado\", \"Reprobado\", \"Aprobado\", \"Aprobado\", \"Aprobado\", \"Reprobado\", \"Reprobado\", \"Reprobado\", \"Reprobado\", \"Reprobado\", \"Reprobado\", \"Reprobado\", \"Reprobado\", \"Reprobado\", \"Reprobado\", \"Aprobado\", \"Aprobado\", \"Aprobado\", \"Aprobado\", \"Reprobado\", \"Reprobado\", \"Reprobado\", \"Reprobado\", \"Aprobado\", \"Aprobado\", \"Aprobado\", \"Reprobado\", \"Reprobado\", \"Reprobado\", \"Aprobado\", \"Reprobado\", \"Aprobado\", \"Reprobado\", \"Reprobado\", \"Reprobado\", \"Aprobado\", \"Reprobado\", \"Reprobado\", \"Reprobado\", \"Reprobado\", \"Aprobado\", \"Reprobado\", \"Aprobado\", \"Reprobado\", \"Reprobado\", \"Aprobado\", \"Aprobado\", \"Reprobado\", \"Reprobado\", \"Aprobado\", \"Reprobado\", \"Aprobado\", \"Reprobado\", \"Reprobado\", \"Reprobado\", \"Reprobado\", \"Reprobado\", \"Reprobado\", \"Reprobado\", \"Reprobado\", \"Reprobado\", \"Reprobado\", \"Reprobado\", \"Reprobado\", \"Reprobado\", \"Aprobado\", \"Reprobado\", \"Aprobado\", \"Aprobado\", \"Reprobado\", \"Reprobado\", \"Reprobado\", \"Aprobado\", \"Aprobado\", \"Aprobado\", \"Aprobado\", \"Aprobado\", \"Reprobado\", \"Reprobado\", \"Reprobado\", \"Aprobado\", \"Aprobado\", \"Reprobado\", \"Reprobado\", \"Reprobado\", \"Aprobado\", \"Reprobado\", \"Reprobado\", \"Aprobado\", \"Reprobado\", \"Reprobado\", \"Reprobado\", \"Reprobado\", \"Reprobado\", \"Aprobado\", \"Reprobado\", \"Aprobado\", \"Aprobado\", \"Reprobado\", \"Reprobado\", \"Aprobado\", \"Aprobado\", \"Reprobado\", \"Reprobado\", \"Reprobado\", \"Reprobado\", \"Reprobado\", \"Reprobado\", \"Reprobado\", \"Reprobado\", \"Reprobado\", \"Reprobado\", \"Reprobado\", \"Reprobado\", \"Reprobado\", \"Reprobado\", \"Reprobado\", \"Reprobado\", \"Reprobado\", \"Reprobado\", \"Reprobado\", \"Reprobado\", \"Reprobado\", \"Reprobado\", \"Reprobado\", \"Reprobado\", \"Reprobado\", \"Reprobado\", \"Reprobado\", \"Reprobado\", \"Reprobado\", \"Reprobado\", \"Reprobado\", \"Reprobado\", \"Reprobado\", \"Reprobado\", \"Reprobado\", \"Reprobado\", \"Aprobado\", \"Aprobado\", \"Aprobado\", \"Aprobado\", \"Aprobado\", \"Aprobado\", \"Aprobado\", \"Aprobado\", \"Aprobado\", \"Aprobado\", \"Aprobado\", \"Aprobado\", \"Aprobado\", \"Aprobado\", \"Aprobado\", \"Aprobado\", \"Aprobado\", \"Aprobado\", \"Aprobado\", \"Aprobado\", \"Aprobado\", \"Aprobado\", \"Aprobado\", \"Aprobado\", \"Aprobado\", \"Aprobado\", \"Aprobado\", \"Aprobado\", \"Aprobado\", \"Aprobado\", \"Aprobado\", \"Aprobado\", \"Aprobado\", \"Aprobado\", \"Aprobado\", \"Aprobado\", \"Aprobado\", \"Aprobado\", \"Aprobado\", \"Aprobado\", \"Aprobado\", \"Aprobado\", \"Aprobado\", \"Aprobado\", \"Aprobado\", \"Aprobado\", \"Aprobado\", \"Aprobado\", \"Aprobado\", \"Aprobado\", \"Aprobado\", \"Aprobado\", \"Aprobado\", \"Aprobado\", \"Aprobado\", \"Aprobado\", \"Aprobado\", \"Aprobado\", \"Aprobado\", \"Aprobado\", \"Aprobado\", \"Aprobado\", \"Aprobado\", \"Aprobado\", \"Aprobado\", \"Aprobado\", \"Aprobado\", \"Aprobado\", \"Aprobado\", \"Aprobado\", \"Aprobado\", \"Aprobado\", \"Aprobado\", \"Aprobado\", \"Aprobado\", \"Aprobado\", \"Aprobado\", \"Aprobado\", \"Aprobado\", \"Aprobado\", \"Aprobado\", \"Aprobado\", \"Aprobado\", \"Aprobado\", \"Aprobado\", \"Aprobado\", \"Aprobado\", \"Aprobado\", \"Aprobado\", \"Aprobado\", \"Aprobado\", \"Aprobado\", \"Aprobado\", \"Aprobado\", \"Aprobado\", \"Aprobado\", \"Aprobado\", \"Aprobado\", \"Aprobado\", \"Aprobado\", \"Aprobado\", \"Aprobado\", \"Aprobado\", \"Aprobado\", \"Aprobado\", \"Aprobado\", \"Aprobado\", \"Aprobado\", \"Aprobado\", \"Aprobado\", \"Aprobado\", \"Aprobado\", \"Aprobado\", \"Aprobado\", \"Aprobado\", \"Aprobado\", \"Aprobado\", \"Aprobado\", \"Aprobado\", \"Aprobado\", \"Aprobado\", \"Aprobado\", \"Aprobado\", \"Aprobado\", \"Aprobado\", \"Aprobado\", \"Aprobado\", \"Aprobado\", \"Aprobado\", \"Aprobado\", \"Aprobado\", \"Aprobado\", \"Aprobado\", \"Aprobado\", \"Aprobado\", \"Reprobado\", \"Reprobado\", \"Reprobado\", \"Reprobado\", \"Reprobado\", \"Reprobado\", \"Reprobado\", \"Reprobado\", \"Reprobado\", \"Reprobado\", \"Reprobado\", \"Reprobado\", \"Reprobado\", \"Reprobado\", \"Reprobado\", \"Reprobado\", \"Reprobado\", \"Reprobado\", \"Reprobado\", \"Reprobado\", \"Reprobado\", \"Reprobado\", \"Reprobado\", \"Reprobado\", \"Reprobado\", \"Reprobado\", \"Reprobado\", \"Reprobado\", \"Aprobado\", \"Aprobado\", \"Aprobado\", \"Aprobado\", \"Aprobado\", \"Aprobado\", \"Reprobado\", \"Aprobado\", \"Aprobado\", \"Aprobado\", \"Reprobado\", \"Reprobado\", \"Aprobado\", \"Aprobado\", \"Aprobado\", \"Aprobado\", \"Aprobado\", \"Aprobado\", \"Aprobado\", \"Reprobado\", \"Reprobado\", \"Aprobado\", \"Reprobado\", \"Reprobado\", \"Aprobado\", \"Aprobado\", \"Aprobado\", \"Reprobado\", \"Reprobado\", \"Aprobado\", \"Aprobado\", \"Aprobado\", \"Aprobado\", \"Aprobado\", \"Aprobado\", \"Aprobado\", \"Aprobado\", \"Aprobado\", \"Reprobado\", \"Reprobado\", \"Aprobado\", \"Reprobado\", \"Reprobado\", \"Aprobado\", \"Aprobado\", \"Aprobado\", \"Reprobado\", \"Reprobado\", \"Reprobado\", \"Aprobado\", \"Aprobado\", \"Aprobado\", \"Aprobado\", \"Aprobado\", \"Aprobado\", \"Aprobado\", \"Aprobado\", \"Aprobado\", \"Aprobado\", \"Aprobado\", \"Aprobado\", \"Aprobado\", \"Aprobado\", \"Aprobado\", \"Aprobado\", \"Aprobado\", \"Aprobado\", \"Aprobado\", \"Aprobado\", \"Aprobado\", \"Aprobado\", \"Aprobado\", \"Aprobado\", \"Aprobado\", \"Aprobado\", \"Aprobado\", \"Reprobado\", \"Reprobado\", \"Reprobado\", \"Reprobado\", \"Reprobado\", \"Reprobado\", \"Reprobado\", \"Reprobado\", \"Reprobado\", \"Reprobado\", \"Reprobado\", \"Reprobado\", \"Reprobado\", \"Reprobado\", \"Reprobado\", \"Reprobado\", \"Reprobado\", \"Reprobado\", \"Reprobado\", \"Reprobado\", \"Reprobado\", \"Reprobado\", \"Reprobado\", \"Reprobado\", \"Reprobado\", \"Reprobado\", \"Reprobado\", \"Reprobado\", \"Reprobado\", \"Reprobado\", \"Reprobado\", \"Reprobado\", \"Reprobado\", \"Reprobado\", \"Reprobado\", \"Reprobado\", \"Reprobado\", \"Reprobado\", \"Reprobado\", \"Reprobado\", \"Reprobado\", \"Reprobado\", \"Reprobado\", \"Reprobado\", \"Reprobado\", \"Reprobado\", \"Reprobado\", \"Reprobado\", \"Reprobado\", \"Reprobado\", \"Reprobado\", \"Reprobado\", \"Reprobado\", \"Reprobado\", \"Reprobado\", \"Reprobado\", \"Reprobado\", \"Reprobado\", \"Reprobado\", \"Reprobado\", \"Reprobado\", \"Reprobado\", \"Reprobado\", \"Reprobado\", \"Reprobado\", \"Reprobado\", \"Reprobado\", \"Reprobado\", \"Reprobado\", \"Reprobado\", \"Reprobado\", \"Reprobado\", \"Reprobado\", \"Reprobado\", \"Reprobado\", \"Reprobado\", \"Reprobado\", \"Reprobado\", \"Reprobado\", \"Aprobado\", \"Aprobado\", \"Reprobado\", \"Aprobado\", \"Aprobado\", \"Reprobado\", \"Reprobado\", \"Aprobado\", \"Reprobado\", \"Reprobado\", \"Reprobado\", \"Reprobado\", \"Reprobado\", \"Reprobado\", \"Reprobado\", \"Reprobado\", \"Reprobado\", \"Reprobado\", \"Aprobado\", \"Aprobado\", \"Reprobado\", \"Reprobado\", \"Reprobado\", \"Reprobado\", \"Aprobado\", \"Aprobado\", \"Reprobado\", \"Aprobado\", \"Aprobado\", \"Reprobado\", \"Reprobado\", \"Reprobado\", \"Reprobado\", \"Reprobado\", \"Reprobado\", \"Reprobado\", \"Reprobado\", \"Reprobado\", \"Reprobado\", \"Reprobado\", \"Reprobado\", \"Reprobado\", \"Reprobado\", \"Aprobado\", \"Reprobado\", \"Reprobado\", \"Aprobado\", \"Aprobado\", \"Aprobado\", \"Aprobado\", \"Aprobado\", \"Reprobado\", \"Reprobado\", \"Aprobado\", \"Reprobado\", \"Aprobado\", \"Aprobado\", \"Reprobado\", \"Reprobado\", \"Aprobado\", \"Aprobado\", \"Aprobado\", \"Reprobado\", \"Reprobado\", \"Reprobado\", \"Reprobado\", \"Aprobado\", \"Reprobado\", \"Reprobado\", \"Reprobado\", \"Aprobado\", \"Reprobado\", \"Reprobado\", \"Reprobado\", \"Aprobado\", \"Aprobado\", \"Reprobado\", \"Reprobado\", \"Reprobado\", \"Aprobado\", \"Reprobado\", \"Reprobado\", \"Reprobado\", \"Aprobado\", \"Reprobado\", \"Reprobado\", \"Aprobado\", \"Aprobado\", \"Reprobado\", \"Reprobado\", \"Reprobado\", \"Reprobado\", \"Reprobado\", \"Reprobado\", \"Aprobado\", \"Reprobado\", \"Reprobado\", \"Reprobado\", \"Reprobado\", \"Reprobado\", \"Reprobado\", \"Reprobado\", \"Aprobado\", \"Reprobado\", \"Reprobado\", \"Aprobado\", \"Reprobado\", \"Reprobado\", \"Reprobado\", \"Aprobado\", \"Reprobado\", \"Aprobado\", \"Reprobado\", \"Reprobado\", \"Aprobado\", \"Aprobado\", \"Reprobado\", \"Aprobado\", \"Reprobado\", \"Aprobado\", \"Reprobado\", \"Aprobado\", \"Aprobado\", \"Aprobado\", \"Reprobado\", \"Aprobado\", \"Aprobado\", \"Aprobado\", \"Aprobado\", \"Reprobado\", \"Aprobado\", \"Reprobado\", \"Reprobado\", \"Reprobado\", \"Aprobado\", \"Reprobado\", \"Reprobado\", \"Aprobado\", \"Reprobado\", \"Reprobado\", \"Reprobado\", \"Reprobado\", \"Reprobado\", \"Reprobado\", \"Reprobado\", \"Reprobado\", \"Aprobado\", \"Aprobado\", \"Reprobado\", \"Aprobado\", \"Reprobado\", \"Reprobado\", \"Aprobado\", \"Reprobado\", \"Aprobado\", \"Reprobado\", \"Reprobado\", \"Reprobado\", \"Aprobado\", \"Aprobado\", \"Reprobado\", \"Aprobado\", \"Reprobado\", \"Aprobado\", \"Reprobado\", \"Reprobado\", \"Reprobado\", \"Reprobado\", \"Reprobado\", \"Aprobado\", \"Reprobado\", \"Reprobado\", \"Aprobado\", \"Aprobado\", \"Aprobado\", \"Reprobado\", \"Aprobado\", \"Aprobado\", \"Reprobado\", \"Aprobado\", \"Reprobado\", \"Reprobado\", \"Aprobado\", \"Reprobado\", \"Aprobado\", \"Aprobado\", \"Reprobado\", \"Reprobado\", \"Reprobado\", \"Reprobado\", \"Reprobado\", \"Reprobado\", \"Reprobado\", \"Aprobado\", \"Reprobado\", \"Reprobado\", \"Aprobado\", \"Reprobado\", \"Reprobado\", \"Reprobado\", \"Reprobado\", \"Reprobado\", \"Reprobado\", \"Reprobado\", \"Reprobado\", \"Reprobado\", \"Reprobado\", \"Reprobado\", \"Reprobado\", \"Reprobado\", \"Reprobado\", \"Reprobado\", \"Reprobado\", \"Reprobado\", \"Reprobado\", \"Aprobado\", \"Reprobado\", \"Aprobado\", \"Reprobado\", \"Aprobado\", \"Reprobado\", \"Reprobado\", \"Reprobado\", \"Reprobado\", \"Reprobado\", \"Aprobado\", \"Reprobado\", \"Reprobado\", \"Reprobado\", \"Reprobado\", \"Reprobado\", \"Reprobado\", \"Reprobado\", \"Reprobado\", \"Aprobado\", \"Reprobado\", \"Reprobado\", \"Reprobado\", \"Aprobado\", \"Reprobado\", \"Reprobado\", \"Reprobado\", \"Aprobado\", \"Reprobado\", \"Aprobado\", \"Aprobado\", \"Aprobado\", \"Aprobado\", \"Aprobado\", \"Aprobado\", \"Aprobado\", \"Aprobado\", \"Aprobado\", \"Aprobado\", \"Aprobado\", \"Aprobado\", \"Aprobado\", \"Aprobado\", \"Aprobado\", \"Aprobado\", \"Aprobado\", \"Aprobado\", \"Aprobado\", \"Aprobado\", \"Aprobado\", \"Aprobado\", \"Aprobado\", \"Aprobado\", \"Aprobado\", \"Aprobado\", \"Aprobado\", \"Aprobado\", \"Aprobado\", \"Aprobado\", \"Aprobado\", \"Aprobado\", \"Aprobado\", \"Aprobado\", \"Aprobado\", \"Aprobado\", \"Aprobado\", \"Aprobado\", \"Aprobado\", \"Aprobado\", \"Aprobado\", \"Aprobado\", \"Aprobado\", \"Aprobado\", \"Aprobado\", \"Aprobado\", \"Aprobado\", \"Aprobado\", \"Aprobado\", \"Aprobado\", \"Aprobado\", \"Aprobado\", \"Aprobado\", \"Aprobado\", \"Aprobado\", \"Aprobado\", \"Aprobado\", \"Aprobado\", \"Aprobado\", \"Aprobado\", \"Aprobado\", \"Aprobado\", \"Aprobado\", \"Aprobado\", \"Aprobado\", \"Aprobado\", \"Aprobado\", \"Aprobado\", \"Aprobado\", \"Aprobado\", \"Aprobado\", \"Aprobado\", \"Aprobado\", \"Aprobado\", \"Aprobado\", \"Aprobado\", \"Aprobado\", \"Aprobado\", \"Aprobado\", \"Aprobado\", \"Aprobado\", \"Aprobado\", \"Aprobado\", \"Aprobado\", \"Aprobado\", \"Aprobado\", \"Aprobado\", \"Aprobado\", \"Aprobado\", \"Aprobado\", \"Aprobado\", \"Aprobado\", \"Aprobado\", \"Aprobado\", \"Aprobado\", \"Aprobado\", \"Aprobado\", \"Aprobado\", \"Aprobado\", \"Aprobado\", \"Aprobado\", \"Aprobado\", \"Aprobado\", \"Aprobado\", \"Aprobado\", \"Aprobado\", \"Aprobado\", \"Aprobado\", \"Aprobado\", \"Aprobado\", \"Aprobado\", \"Aprobado\", \"Aprobado\", \"Aprobado\", \"Aprobado\", \"Aprobado\", \"Aprobado\", \"Aprobado\", \"Aprobado\", \"Aprobado\", \"Aprobado\", \"Aprobado\", \"Aprobado\", \"Aprobado\", \"Aprobado\", \"Aprobado\", \"Aprobado\", \"Aprobado\", \"Aprobado\", \"Aprobado\", \"Aprobado\", \"Aprobado\", \"Aprobado\", \"Aprobado\", \"Aprobado\", \"Aprobado\", \"Aprobado\", \"Aprobado\", \"Aprobado\", \"Aprobado\", \"Aprobado\", \"Aprobado\", \"Aprobado\", \"Aprobado\", \"Reprobado\", \"Reprobado\", \"Reprobado\", \"Reprobado\", \"Reprobado\", \"Reprobado\", \"Reprobado\", \"Reprobado\", \"Reprobado\", \"Reprobado\", \"Reprobado\", \"Reprobado\", \"Reprobado\", \"Reprobado\", \"Reprobado\", \"Reprobado\", \"Reprobado\", \"Reprobado\", \"Reprobado\", \"Reprobado\", \"Reprobado\", \"Reprobado\", \"Reprobado\", \"Reprobado\", \"Reprobado\", \"Reprobado\", \"Reprobado\", \"Reprobado\", \"Reprobado\", \"Reprobado\", \"Reprobado\", \"Reprobado\", \"Reprobado\", \"Reprobado\", \"Reprobado\", \"Reprobado\", \"Reprobado\", \"Reprobado\", \"Reprobado\", \"Reprobado\", \"Reprobado\", \"Reprobado\", \"Reprobado\", \"Reprobado\", \"Reprobado\", \"Reprobado\", \"Reprobado\", \"Reprobado\", \"Reprobado\", \"Reprobado\", \"Reprobado\", \"Reprobado\", \"Reprobado\", \"Reprobado\", \"Reprobado\", \"Reprobado\", \"Reprobado\", \"Reprobado\", \"Reprobado\", \"Reprobado\", \"Reprobado\", \"Reprobado\", \"Reprobado\", \"Reprobado\", \"Reprobado\", \"Reprobado\", \"Reprobado\", \"Reprobado\", \"Reprobado\", \"Reprobado\", \"Reprobado\", \"Reprobado\", \"Reprobado\", \"Reprobado\", \"Reprobado\", \"Reprobado\", \"Reprobado\", \"Reprobado\", \"Reprobado\", \"Reprobado\", \"Reprobado\", \"Reprobado\", \"Reprobado\", \"Reprobado\", \"Reprobado\", \"Reprobado\", \"Reprobado\", \"Reprobado\", \"Reprobado\", \"Reprobado\", \"Reprobado\", \"Reprobado\", \"Reprobado\", \"Reprobado\", \"Reprobado\", \"Reprobado\", \"Reprobado\", \"Reprobado\", \"Reprobado\", \"Reprobado\", \"Reprobado\", \"Reprobado\", \"Reprobado\", \"Reprobado\", \"Reprobado\", \"Reprobado\", \"Reprobado\", \"Reprobado\", \"Reprobado\", \"Reprobado\", \"Reprobado\", \"Reprobado\", \"Reprobado\", \"Reprobado\", \"Reprobado\", \"Reprobado\", \"Reprobado\", \"Reprobado\", \"Reprobado\", \"Reprobado\", \"Reprobado\", \"Reprobado\", \"Reprobado\", \"Reprobado\", \"Reprobado\", \"Reprobado\", \"Reprobado\", \"Reprobado\", \"Reprobado\", \"Reprobado\", \"Reprobado\", \"Reprobado\", \"Reprobado\", \"Reprobado\", \"Reprobado\", \"Reprobado\", \"Reprobado\", \"Reprobado\", \"Reprobado\", \"Reprobado\", \"Reprobado\", \"Reprobado\", \"Reprobado\", \"Reprobado\", \"Reprobado\", \"Reprobado\", \"Reprobado\", \"Reprobado\", \"Reprobado\", \"Reprobado\", \"Reprobado\", \"Reprobado\", \"Reprobado\", \"Reprobado\", \"Reprobado\", \"Reprobado\", \"Reprobado\", \"Reprobado\", \"Reprobado\", \"Reprobado\", \"Reprobado\", \"Reprobado\", \"Reprobado\", \"Reprobado\", \"Reprobado\", \"Reprobado\", \"Reprobado\", \"Reprobado\", \"Reprobado\", \"Reprobado\", \"Reprobado\", \"Reprobado\", \"Reprobado\", \"Reprobado\", \"Reprobado\", \"Reprobado\", \"Reprobado\", \"Reprobado\", \"Reprobado\", \"Reprobado\", \"Reprobado\", \"Reprobado\", \"Reprobado\", \"Reprobado\", \"Reprobado\", \"Reprobado\", \"Reprobado\", \"Reprobado\", \"Reprobado\", \"Reprobado\", \"Reprobado\", \"Reprobado\", \"Reprobado\", \"Reprobado\", \"Reprobado\", \"Reprobado\", \"Reprobado\", \"Reprobado\", \"Reprobado\", \"Reprobado\", \"Reprobado\", \"Reprobado\", \"Reprobado\", \"Reprobado\", \"Reprobado\", \"Reprobado\", \"Reprobado\", \"Reprobado\", \"Reprobado\", \"Reprobado\", \"Reprobado\", \"Reprobado\", \"Aprobado\", \"Reprobado\", \"Aprobado\", \"Aprobado\", \"Aprobado\", \"Reprobado\", \"Reprobado\", \"Aprobado\", \"Aprobado\", \"Aprobado\", \"Aprobado\", \"Aprobado\", \"Aprobado\", \"Aprobado\", \"Reprobado\", \"Aprobado\", \"Reprobado\", \"Aprobado\", \"Reprobado\", \"Reprobado\", \"Reprobado\", \"Reprobado\", \"Reprobado\", \"Aprobado\", \"Reprobado\", \"Reprobado\", \"Reprobado\", \"Reprobado\", \"Reprobado\", \"Reprobado\", \"Reprobado\", \"Reprobado\", \"Aprobado\", \"Reprobado\", \"Reprobado\", \"Aprobado\", \"Aprobado\", \"Aprobado\", \"Aprobado\", \"Aprobado\", \"Reprobado\", \"Reprobado\", \"Reprobado\", \"Reprobado\", \"Aprobado\", \"Reprobado\", \"Reprobado\", \"Reprobado\", \"Aprobado\", \"Reprobado\", \"Aprobado\", \"Reprobado\", \"Reprobado\", \"Reprobado\", \"Aprobado\", \"Aprobado\", \"Reprobado\", \"Aprobado\", \"Reprobado\", \"Aprobado\", \"Reprobado\", \"Reprobado\", \"Aprobado\", \"Reprobado\", \"Aprobado\", \"Reprobado\", \"Aprobado\", \"Reprobado\", \"Reprobado\", \"Reprobado\", \"Reprobado\", \"Reprobado\", \"Aprobado\", \"Aprobado\", \"Aprobado\", \"Aprobado\", \"Aprobado\", \"Reprobado\", \"Aprobado\", \"Aprobado\", \"Aprobado\", \"Reprobado\", \"Reprobado\", \"Aprobado\", \"Reprobado\", \"Aprobado\", \"Aprobado\", \"Aprobado\", \"Aprobado\", \"Aprobado\", \"Aprobado\", \"Aprobado\", \"Reprobado\", \"Aprobado\", \"Reprobado\", \"Reprobado\", \"Aprobado\", \"Reprobado\", \"Aprobado\", \"Aprobado\", \"Reprobado\", \"Aprobado\", \"Reprobado\", \"Aprobado\", \"Aprobado\", \"Aprobado\", \"Reprobado\", \"Aprobado\", \"Reprobado\", \"Aprobado\", \"Aprobado\", \"Aprobado\", \"Reprobado\", \"Reprobado\", \"Reprobado\", \"Reprobado\", \"Aprobado\", \"Reprobado\", \"Aprobado\", \"Aprobado\", \"Aprobado\", \"Reprobado\", \"Aprobado\", \"Aprobado\", \"Aprobado\", \"Aprobado\", \"Reprobado\", \"Reprobado\", \"Reprobado\", \"Aprobado\", \"Aprobado\", \"Reprobado\", \"Reprobado\", \"Aprobado\", \"Aprobado\", \"Reprobado\", \"Reprobado\", \"Aprobado\", \"Aprobado\", \"Aprobado\", \"Aprobado\", \"Reprobado\", \"Aprobado\", \"Aprobado\", \"Reprobado\", \"Reprobado\", \"Aprobado\", \"Aprobado\", \"Aprobado\", \"Reprobado\", \"Reprobado\", \"Aprobado\", \"Reprobado\", \"Aprobado\", \"Reprobado\", \"Reprobado\", \"Reprobado\", \"Reprobado\", \"Reprobado\", \"Aprobado\", \"Reprobado\", \"Reprobado\", \"Reprobado\", \"Reprobado\", \"Aprobado\", \"Aprobado\", \"Reprobado\", \"Aprobado\", \"Aprobado\", \"Reprobado\", \"Aprobado\", \"Aprobado\", \"Aprobado\", \"Reprobado\", \"Reprobado\", \"Reprobado\", \"Reprobado\", \"Aprobado\", \"Aprobado\", \"Reprobado\", \"Reprobado\", \"Aprobado\", \"Aprobado\", \"Reprobado\", \"Aprobado\", \"Reprobado\", \"Reprobado\", \"Reprobado\", \"Aprobado\", \"Reprobado\", \"Aprobado\", \"Aprobado\", \"Reprobado\", \"Reprobado\", \"Aprobado\", \"Aprobado\", \"Reprobado\", \"Aprobado\", \"Aprobado\", \"Aprobado\", \"Aprobado\", \"Aprobado\", \"Reprobado\", \"Aprobado\", \"Reprobado\", \"Reprobado\", \"Reprobado\", \"Reprobado\", \"Reprobado\", \"Aprobado\", \"Reprobado\", \"Aprobado\", \"Reprobado\", \"Aprobado\", \"Aprobado\", \"Reprobado\", \"Aprobado\", \"Aprobado\", \"Aprobado\", \"Reprobado\", \"Aprobado\", \"Reprobado\", \"Reprobado\", \"Reprobado\", \"Aprobado\", \"Aprobado\", \"Reprobado\", \"Aprobado\", \"Aprobado\", \"Reprobado\", \"Reprobado\", \"Aprobado\", \"Reprobado\", \"Aprobado\", \"Aprobado\", \"Reprobado\", \"Aprobado\", \"Reprobado\", \"Reprobado\", \"Reprobado\", \"Aprobado\", \"Aprobado\", \"Aprobado\", \"Aprobado\", \"Aprobado\", \"Reprobado\", \"Aprobado\", \"Reprobado\", \"Reprobado\", \"Reprobado\", \"Aprobado\", \"Reprobado\", \"Reprobado\", \"Reprobado\", \"Reprobado\", \"Reprobado\", \"Aprobado\", \"Aprobado\", \"Reprobado\", \"Aprobado\", \"Aprobado\", \"Reprobado\", \"Aprobado\", \"Aprobado\", \"Reprobado\", \"Reprobado\", \"Aprobado\", \"Aprobado\", \"Reprobado\", \"Reprobado\", \"Aprobado\", \"Aprobado\", \"Aprobado\", \"Aprobado\", \"Aprobado\", \"Aprobado\", \"Reprobado\", \"Aprobado\", \"Reprobado\", \"Reprobado\", \"Aprobado\", \"Reprobado\", \"Aprobado\", \"Aprobado\", \"Reprobado\", \"Reprobado\", \"Aprobado\", \"Aprobado\", \"Reprobado\", \"Aprobado\", \"Reprobado\", \"Reprobado\", \"Reprobado\", \"Reprobado\", \"Reprobado\", \"Reprobado\", \"Reprobado\", \"Reprobado\", \"Reprobado\", \"Reprobado\", \"Reprobado\", \"Reprobado\", \"Reprobado\", \"Reprobado\", \"Reprobado\", \"Reprobado\", \"Reprobado\", \"Reprobado\", \"Reprobado\", \"Reprobado\", \"Reprobado\", \"Reprobado\", \"Reprobado\", \"Reprobado\", \"Reprobado\", \"Reprobado\", \"Reprobado\", \"Reprobado\", \"Reprobado\", \"Reprobado\", \"Reprobado\", \"Reprobado\", \"Reprobado\", \"Reprobado\", \"Reprobado\", \"Reprobado\", \"Reprobado\", \"Reprobado\", \"Reprobado\", \"Reprobado\", \"Reprobado\", \"Reprobado\", \"Reprobado\", \"Reprobado\", \"Reprobado\", \"Reprobado\", \"Reprobado\", \"Reprobado\", \"Reprobado\", \"Reprobado\", \"Reprobado\", \"Reprobado\", \"Reprobado\", \"Reprobado\", \"Reprobado\", \"Reprobado\", \"Reprobado\", \"Reprobado\", \"Reprobado\", \"Reprobado\", \"Reprobado\", \"Reprobado\", \"Reprobado\", \"Reprobado\", \"Reprobado\", \"Reprobado\", \"Reprobado\", \"Reprobado\", \"Reprobado\", \"Reprobado\", \"Reprobado\", \"Reprobado\", \"Reprobado\", \"Reprobado\", \"Reprobado\", \"Reprobado\", \"Reprobado\", \"Reprobado\", \"Reprobado\", \"Reprobado\", \"Reprobado\", \"Reprobado\", \"Reprobado\", \"Reprobado\", \"Reprobado\", \"Reprobado\", \"Reprobado\", \"Reprobado\", \"Reprobado\", \"Reprobado\", \"Reprobado\", \"Reprobado\", \"Reprobado\", \"Reprobado\", \"Reprobado\", \"Reprobado\", \"Reprobado\", \"Reprobado\", \"Reprobado\", \"Reprobado\", \"Reprobado\", \"Reprobado\", \"Reprobado\", \"Reprobado\", \"Reprobado\", \"Reprobado\", \"Reprobado\", \"Reprobado\", \"Reprobado\", \"Reprobado\", \"Reprobado\", \"Reprobado\", \"Reprobado\", \"Reprobado\", \"Reprobado\", \"Reprobado\", \"Reprobado\", \"Reprobado\", \"Reprobado\", \"Reprobado\", \"Reprobado\", \"Reprobado\", \"Reprobado\", \"Reprobado\", \"Reprobado\", \"Reprobado\", \"Reprobado\", \"Reprobado\", \"Reprobado\", \"Reprobado\", \"Reprobado\", \"Reprobado\", \"Reprobado\", \"Reprobado\", \"Reprobado\", \"Reprobado\", \"Reprobado\", \"Reprobado\", \"Reprobado\", \"Reprobado\", \"Reprobado\", \"Reprobado\", \"Reprobado\", \"Reprobado\", \"Reprobado\", \"Reprobado\", \"Reprobado\", \"Reprobado\", \"Reprobado\", \"Reprobado\", \"Reprobado\", \"Reprobado\", \"Reprobado\", \"Reprobado\", \"Reprobado\", \"Reprobado\", \"Reprobado\", \"Reprobado\", \"Reprobado\", \"Reprobado\", \"Reprobado\", \"Reprobado\", \"Reprobado\", \"Reprobado\", \"Reprobado\", \"Reprobado\", \"Reprobado\", \"Reprobado\", \"Reprobado\", \"Reprobado\", \"Reprobado\", \"Reprobado\", \"Reprobado\", \"Reprobado\", \"Reprobado\", \"Reprobado\", \"Reprobado\", \"Reprobado\", \"Reprobado\", \"Reprobado\", \"Reprobado\", \"Reprobado\", \"Reprobado\", \"Reprobado\", \"Reprobado\", \"Reprobado\", \"Reprobado\", \"Reprobado\", \"Reprobado\", \"Reprobado\", \"Reprobado\", \"Reprobado\", \"Reprobado\", \"Reprobado\", \"Reprobado\", \"Reprobado\", \"Reprobado\", \"Reprobado\", \"Reprobado\", \"Reprobado\", \"Reprobado\", \"Reprobado\", \"Reprobado\", \"Reprobado\", \"Reprobado\", \"Reprobado\", \"Reprobado\", \"Reprobado\", \"Reprobado\", \"Reprobado\", \"Reprobado\", \"Reprobado\", \"Reprobado\", \"Reprobado\", \"Reprobado\", \"Reprobado\", \"Reprobado\", \"Reprobado\", \"Reprobado\", \"Reprobado\", \"Reprobado\", \"Reprobado\", \"Reprobado\", \"Reprobado\", \"Reprobado\", \"Reprobado\", \"Reprobado\", \"Reprobado\", \"Reprobado\", \"Reprobado\", \"Reprobado\", \"Reprobado\", \"Reprobado\", \"Reprobado\", \"Reprobado\", \"Reprobado\", \"Reprobado\", \"Reprobado\", \"Reprobado\", \"Reprobado\", \"Reprobado\", \"Reprobado\", \"Reprobado\", \"Reprobado\", \"Reprobado\", \"Reprobado\", \"Reprobado\", \"Reprobado\", \"Reprobado\", \"Reprobado\", \"Reprobado\", \"Reprobado\", \"Reprobado\", \"Reprobado\", \"Reprobado\", \"Reprobado\", \"Reprobado\", \"Reprobado\", \"Reprobado\", \"Reprobado\", \"Reprobado\", \"Reprobado\", \"Reprobado\", \"Reprobado\", \"Reprobado\", \"Reprobado\", \"Reprobado\", \"Reprobado\", \"Reprobado\", \"Reprobado\", \"Reprobado\", \"Reprobado\", \"Reprobado\", \"Reprobado\", \"Reprobado\", \"Reprobado\", \"Reprobado\", \"Reprobado\", \"Reprobado\", \"Reprobado\", \"Reprobado\", \"Reprobado\", \"Reprobado\", \"Reprobado\", \"Reprobado\", \"Reprobado\", \"Reprobado\", \"Reprobado\", \"Reprobado\", \"Reprobado\", \"Reprobado\", \"Reprobado\", \"Reprobado\", \"Reprobado\", \"Reprobado\", \"Reprobado\", \"Reprobado\", \"Reprobado\", \"Reprobado\", \"Reprobado\", \"Reprobado\", \"Reprobado\", \"Reprobado\", \"Reprobado\", \"Reprobado\", \"Reprobado\", \"Reprobado\", \"Reprobado\", \"Reprobado\", \"Reprobado\", \"Reprobado\", \"Reprobado\", \"Reprobado\", \"Reprobado\", \"Reprobado\", \"Reprobado\", \"Aprobado\", \"Aprobado\", \"Aprobado\", \"Aprobado\", \"Aprobado\", \"Aprobado\", \"Aprobado\", \"Aprobado\", \"Aprobado\", \"Aprobado\", \"Aprobado\", \"Aprobado\", \"Aprobado\", \"Aprobado\", \"Aprobado\", \"Aprobado\", \"Aprobado\", \"Aprobado\", \"Aprobado\", \"Aprobado\", \"Aprobado\", \"Aprobado\", \"Aprobado\", \"Aprobado\", \"Aprobado\", \"Aprobado\", \"Aprobado\", \"Aprobado\", \"Aprobado\", \"Aprobado\", \"Aprobado\", \"Aprobado\", \"Aprobado\", \"Aprobado\", \"Aprobado\", \"Aprobado\", \"Aprobado\", \"Aprobado\", \"Aprobado\", \"Aprobado\", \"Aprobado\", \"Aprobado\", \"Aprobado\", \"Aprobado\", \"Aprobado\", \"Aprobado\", \"Aprobado\", \"Aprobado\", \"Aprobado\", \"Aprobado\", \"Aprobado\", \"Aprobado\", \"Aprobado\", \"Aprobado\", \"Aprobado\", \"Aprobado\", \"Aprobado\", \"Aprobado\", \"Aprobado\", \"Aprobado\", \"Aprobado\", \"Aprobado\", \"Aprobado\", \"Aprobado\", \"Aprobado\", \"Aprobado\", \"Aprobado\", \"Aprobado\", \"Aprobado\", \"Aprobado\", \"Aprobado\", \"Aprobado\", \"Aprobado\", \"Aprobado\", \"Aprobado\", \"Aprobado\", \"Aprobado\", \"Aprobado\", \"Aprobado\", \"Aprobado\", \"Aprobado\", \"Aprobado\", \"Aprobado\", \"Aprobado\", \"Aprobado\", \"Aprobado\", \"Aprobado\", \"Aprobado\", \"Aprobado\", \"Aprobado\", \"Aprobado\", \"Aprobado\", \"Aprobado\", \"Aprobado\", \"Aprobado\", \"Aprobado\", \"Aprobado\", \"Aprobado\", \"Aprobado\", \"Aprobado\", \"Aprobado\", \"Aprobado\", \"Aprobado\", \"Aprobado\", \"Aprobado\", \"Aprobado\", \"Aprobado\", \"Aprobado\", \"Aprobado\", \"Aprobado\", \"Aprobado\", \"Aprobado\", \"Aprobado\", \"Aprobado\", \"Aprobado\", \"Aprobado\", \"Aprobado\", \"Aprobado\", \"Aprobado\", \"Aprobado\", \"Aprobado\", \"Aprobado\", \"Aprobado\", \"Aprobado\", \"Aprobado\", \"Aprobado\", \"Aprobado\", \"Aprobado\", \"Aprobado\", \"Aprobado\", \"Aprobado\", \"Aprobado\", \"Aprobado\", \"Aprobado\", \"Aprobado\", \"Aprobado\", \"Aprobado\", \"Aprobado\", \"Aprobado\", \"Aprobado\", \"Aprobado\", \"Aprobado\", \"Aprobado\", \"Aprobado\", \"Aprobado\", \"Aprobado\", \"Aprobado\", \"Aprobado\", \"Aprobado\", \"Aprobado\", \"Aprobado\", \"Aprobado\", \"Aprobado\", \"Aprobado\", \"Aprobado\", \"Aprobado\", \"Aprobado\", \"Aprobado\", \"Aprobado\", \"Aprobado\", \"Aprobado\", \"Aprobado\", \"Aprobado\", \"Aprobado\", \"Aprobado\", \"Aprobado\", \"Aprobado\", \"Aprobado\", \"Aprobado\", \"Aprobado\", \"Aprobado\", \"Aprobado\", \"Aprobado\", \"Aprobado\", \"Aprobado\", \"Aprobado\", \"Aprobado\", \"Aprobado\", \"Aprobado\", \"Aprobado\", \"Aprobado\", \"Aprobado\", \"Aprobado\", \"Aprobado\", \"Aprobado\", \"Aprobado\", \"Aprobado\", \"Aprobado\", \"Aprobado\", \"Aprobado\", \"Aprobado\", \"Aprobado\", \"Aprobado\", \"Aprobado\", \"Aprobado\", \"Aprobado\", \"Aprobado\", \"Aprobado\", \"Aprobado\", \"Aprobado\", \"Aprobado\", \"Aprobado\", \"Aprobado\", \"Aprobado\", \"Aprobado\", \"Aprobado\", \"Aprobado\", \"Aprobado\", \"Aprobado\", \"Aprobado\", \"Aprobado\", \"Aprobado\", \"Aprobado\", \"Aprobado\", \"Aprobado\", \"Aprobado\", \"Aprobado\", \"Aprobado\", \"Aprobado\", \"Aprobado\", \"Aprobado\", \"Aprobado\", \"Aprobado\", \"Aprobado\", \"Aprobado\", \"Aprobado\", \"Aprobado\", \"Aprobado\", \"Aprobado\", \"Aprobado\", \"Aprobado\", \"Aprobado\", \"Aprobado\", \"Aprobado\", \"Aprobado\", \"Aprobado\", \"Aprobado\", \"Aprobado\", \"Aprobado\", \"Aprobado\", \"Aprobado\", \"Aprobado\", \"Aprobado\", \"Aprobado\", \"Aprobado\", \"Aprobado\", \"Aprobado\", \"Aprobado\", \"Aprobado\", \"Aprobado\", \"Aprobado\", \"Aprobado\", \"Aprobado\", \"Aprobado\", \"Aprobado\", \"Aprobado\", \"Aprobado\", \"Aprobado\", \"Aprobado\", \"Aprobado\", \"Aprobado\", \"Aprobado\", \"Aprobado\", \"Aprobado\", \"Aprobado\", \"Aprobado\", \"Aprobado\", \"Aprobado\", \"Aprobado\", \"Aprobado\", \"Aprobado\", \"Aprobado\", \"Aprobado\", \"Aprobado\", \"Aprobado\", \"Aprobado\", \"Aprobado\", \"Aprobado\", \"Aprobado\", \"Aprobado\", \"Aprobado\", \"Aprobado\", \"Aprobado\", \"Aprobado\", \"Aprobado\", \"Aprobado\", \"Aprobado\", \"Aprobado\", \"Aprobado\", \"Aprobado\", \"Aprobado\", \"Aprobado\", \"Aprobado\", \"Aprobado\", \"Aprobado\", \"Aprobado\", \"Aprobado\", \"Aprobado\", \"Aprobado\", \"Aprobado\", \"Aprobado\", \"Aprobado\", \"Aprobado\", \"Aprobado\", \"Aprobado\", \"Aprobado\", \"Aprobado\", \"Aprobado\", \"Aprobado\", \"Aprobado\", \"Aprobado\", \"Aprobado\", \"Aprobado\", \"Aprobado\", \"Aprobado\", \"Aprobado\", \"Aprobado\", \"Aprobado\", \"Aprobado\", \"Aprobado\", \"Aprobado\", \"Aprobado\", \"Aprobado\", \"Aprobado\", \"Aprobado\", \"Aprobado\", \"Aprobado\", \"Aprobado\", \"Aprobado\", \"Aprobado\", \"Aprobado\", \"Aprobado\", \"Aprobado\", \"Aprobado\", \"Aprobado\", \"Aprobado\", \"Aprobado\", \"Reprobado\", \"Aprobado\", \"Aprobado\", \"Reprobado\", \"Aprobado\", \"Aprobado\", \"Aprobado\", \"Aprobado\", \"Aprobado\", \"Aprobado\", \"Aprobado\", \"Aprobado\", \"Reprobado\", \"Aprobado\", \"Aprobado\", \"Aprobado\", \"Aprobado\", \"Reprobado\", \"Aprobado\", \"Reprobado\", \"Reprobado\", \"Aprobado\", \"Reprobado\", \"Reprobado\", \"Aprobado\", \"Aprobado\", \"Reprobado\", \"Aprobado\", \"Reprobado\", \"Aprobado\", \"Aprobado\", \"Reprobado\", \"Aprobado\", \"Reprobado\", \"Aprobado\", \"Aprobado\", \"Reprobado\", \"Aprobado\", \"Reprobado\", \"Aprobado\", \"Aprobado\", \"Aprobado\", \"Reprobado\", \"Aprobado\", \"Aprobado\", \"Aprobado\", \"Reprobado\", \"Reprobado\", \"Aprobado\", \"Aprobado\", \"Aprobado\", \"Reprobado\", \"Aprobado\", \"Reprobado\", \"Reprobado\", \"Reprobado\", \"Aprobado\", \"Reprobado\", \"Reprobado\", \"Reprobado\", \"Reprobado\", \"Reprobado\", \"Aprobado\", \"Reprobado\", \"Reprobado\", \"Reprobado\", \"Aprobado\", \"Aprobado\", \"Reprobado\", \"Aprobado\", \"Reprobado\", \"Aprobado\", \"Aprobado\", \"Aprobado\", \"Reprobado\", \"Reprobado\", \"Aprobado\", \"Reprobado\", \"Aprobado\", \"Aprobado\", \"Aprobado\", \"Reprobado\", \"Aprobado\", \"Reprobado\", \"Aprobado\", \"Reprobado\", \"Aprobado\", \"Aprobado\", \"Aprobado\", \"Aprobado\", \"Reprobado\", \"Reprobado\", \"Aprobado\", \"Aprobado\", \"Aprobado\", \"Aprobado\", \"Reprobado\", \"Aprobado\", \"Aprobado\", \"Reprobado\", \"Aprobado\", \"Aprobado\", \"Aprobado\", \"Aprobado\", \"Aprobado\", \"Aprobado\", \"Aprobado\", \"Aprobado\", \"Reprobado\", \"Aprobado\", \"Aprobado\", \"Aprobado\", \"Aprobado\", \"Reprobado\", \"Reprobado\", \"Reprobado\", \"Aprobado\", \"Aprobado\", \"Reprobado\", \"Reprobado\", \"Aprobado\", \"Aprobado\", \"Aprobado\", \"Reprobado\", \"Aprobado\", \"Aprobado\", \"Reprobado\", \"Aprobado\", \"Aprobado\", \"Reprobado\", \"Reprobado\", \"Aprobado\", \"Aprobado\", \"Aprobado\", \"Aprobado\", \"Aprobado\", \"Aprobado\", \"Aprobado\", \"Aprobado\", \"Aprobado\", \"Aprobado\", \"Reprobado\", \"Reprobado\", \"Reprobado\", \"Reprobado\", \"Aprobado\", \"Aprobado\", \"Aprobado\", \"Aprobado\", \"Reprobado\", \"Reprobado\", \"Aprobado\", \"Reprobado\", \"Aprobado\", \"Aprobado\", \"Reprobado\", \"Aprobado\", \"Aprobado\", \"Reprobado\", \"Aprobado\", \"Aprobado\", \"Aprobado\", \"Aprobado\", \"Reprobado\", \"Aprobado\", \"Reprobado\", \"Reprobado\", \"Aprobado\", \"Aprobado\", \"Reprobado\", \"Reprobado\", \"Reprobado\", \"Aprobado\", \"Aprobado\", \"Aprobado\", \"Aprobado\", \"Reprobado\", \"Aprobado\", \"Reprobado\", \"Reprobado\", \"Reprobado\", \"Reprobado\", \"Aprobado\", \"Aprobado\", \"Reprobado\", \"Reprobado\", \"Reprobado\", \"Reprobado\", \"Reprobado\", \"Reprobado\", \"Reprobado\", \"Reprobado\", \"Reprobado\", \"Aprobado\", \"Reprobado\", \"Aprobado\", \"Aprobado\", \"Reprobado\", \"Aprobado\", \"Reprobado\", \"Aprobado\", \"Aprobado\", \"Aprobado\", \"Aprobado\", \"Reprobado\", \"Reprobado\", \"Reprobado\", \"Reprobado\", \"Aprobado\", \"Aprobado\", \"Aprobado\", \"Aprobado\", \"Aprobado\", \"Aprobado\", \"Aprobado\", \"Reprobado\", \"Reprobado\", \"Aprobado\", \"Aprobado\", \"Aprobado\", \"Aprobado\", \"Aprobado\", \"Aprobado\", \"Reprobado\", \"Aprobado\", \"Reprobado\", \"Aprobado\", \"Reprobado\", \"Aprobado\", \"Aprobado\", \"Aprobado\", \"Reprobado\", \"Reprobado\", \"Reprobado\", \"Reprobado\", \"Aprobado\", \"Aprobado\", \"Reprobado\", \"Reprobado\", \"Aprobado\", \"Reprobado\", \"Reprobado\", \"Reprobado\", \"Aprobado\", \"Reprobado\", \"Aprobado\", \"Reprobado\", \"Aprobado\", \"Aprobado\", \"Reprobado\", \"Aprobado\", \"Aprobado\", \"Aprobado\", \"Aprobado\", \"Aprobado\", \"Aprobado\", \"Aprobado\", \"Aprobado\", \"Aprobado\", \"Aprobado\", \"Reprobado\", \"Aprobado\", \"Aprobado\", \"Aprobado\", \"Aprobado\", \"Aprobado\", \"Aprobado\", \"Aprobado\", \"Aprobado\", \"Reprobado\", \"Aprobado\", \"Reprobado\", \"Reprobado\", \"Aprobado\", \"Reprobado\", \"Reprobado\", \"Aprobado\", \"Aprobado\", \"Aprobado\", \"Reprobado\", \"Aprobado\", \"Aprobado\", \"Aprobado\", \"Reprobado\", \"Aprobado\", \"Aprobado\", \"Aprobado\", \"Aprobado\", \"Reprobado\", \"Reprobado\", \"Aprobado\", \"Aprobado\", \"Reprobado\", \"Aprobado\", \"Aprobado\", \"Aprobado\", \"Aprobado\", \"Aprobado\", \"Aprobado\", \"Reprobado\", \"Reprobado\", \"Reprobado\", \"Aprobado\", \"Reprobado\", \"Reprobado\", \"Aprobado\", \"Aprobado\", \"Reprobado\", \"Reprobado\", \"Aprobado\", \"Aprobado\", \"Aprobado\", \"Aprobado\", \"Aprobado\", \"Aprobado\", \"Reprobado\", \"Aprobado\", \"Aprobado\", \"Aprobado\", \"Reprobado\", \"Reprobado\", \"Aprobado\", \"Aprobado\", \"Aprobado\", \"Reprobado\", \"Reprobado\", \"Reprobado\", \"Reprobado\", \"Aprobado\", \"Reprobado\", \"Reprobado\", \"Reprobado\", \"Aprobado\", \"Reprobado\", \"Aprobado\", \"Aprobado\", \"Reprobado\", \"Reprobado\", \"Reprobado\", \"Reprobado\", \"Reprobado\", \"Reprobado\", \"Reprobado\", \"Aprobado\", \"Reprobado\", \"Reprobado\", \"Reprobado\", \"Reprobado\", \"Aprobado\", \"Reprobado\", \"Reprobado\", \"Aprobado\", \"Aprobado\", \"Reprobado\", \"Reprobado\", \"Aprobado\", \"Reprobado\", \"Aprobado\", \"Aprobado\", \"Aprobado\", \"Aprobado\", \"Reprobado\", \"Aprobado\", \"Aprobado\", \"Reprobado\", \"Aprobado\", \"Aprobado\", \"Aprobado\", \"Aprobado\", \"Reprobado\", \"Reprobado\", \"Aprobado\", \"Aprobado\", \"Aprobado\", \"Reprobado\", \"Aprobado\", \"Aprobado\", \"Reprobado\", \"Aprobado\", \"Reprobado\", \"Aprobado\", \"Aprobado\", \"Aprobado\", \"Reprobado\", \"Aprobado\", \"Reprobado\", \"Aprobado\", \"Aprobado\", \"Aprobado\", \"Aprobado\", \"Reprobado\", \"Reprobado\", \"Reprobado\", \"Reprobado\", \"Aprobado\", \"Reprobado\", \"Aprobado\", \"Aprobado\", \"Reprobado\", \"Aprobado\", \"Aprobado\", \"Aprobado\", \"Aprobado\", \"Aprobado\", \"Aprobado\", \"Aprobado\", \"Aprobado\", \"Aprobado\", \"Aprobado\", \"Aprobado\", \"Aprobado\", \"Aprobado\", \"Aprobado\", \"Reprobado\", \"Reprobado\", \"Reprobado\", \"Reprobado\", \"Aprobado\", \"Aprobado\", \"Aprobado\", \"Aprobado\", \"Aprobado\", \"Reprobado\", \"Aprobado\", \"Reprobado\", \"Aprobado\", \"Aprobado\", \"Aprobado\", \"Reprobado\", \"Aprobado\", \"Reprobado\", \"Aprobado\", \"Aprobado\", \"Reprobado\", \"Reprobado\", \"Aprobado\", \"Aprobado\", \"Reprobado\", \"Aprobado\", \"Aprobado\", \"Aprobado\", \"Reprobado\", \"Aprobado\", \"Aprobado\", \"Reprobado\", \"Reprobado\", \"Reprobado\", \"Aprobado\", \"Reprobado\", \"Reprobado\", \"Reprobado\", \"Aprobado\", \"Aprobado\", \"Aprobado\", \"Reprobado\", \"Reprobado\", \"Reprobado\", \"Reprobado\", \"Aprobado\", \"Aprobado\", \"Aprobado\", \"Reprobado\", \"Reprobado\", \"Aprobado\", \"Aprobado\", \"Aprobado\", \"Aprobado\", \"Aprobado\", \"Aprobado\", \"Reprobado\", \"Reprobado\", \"Aprobado\", \"Reprobado\", \"Aprobado\", \"Reprobado\", \"Reprobado\", \"Reprobado\", \"Aprobado\", \"Reprobado\", \"Reprobado\", \"Aprobado\", \"Reprobado\", \"Aprobado\", \"Aprobado\", \"Reprobado\", \"Reprobado\", \"Reprobado\", \"Reprobado\", \"Reprobado\", \"Reprobado\", \"Reprobado\", \"Aprobado\", \"Reprobado\", \"Reprobado\", \"Aprobado\", \"Aprobado\", \"Reprobado\", \"Reprobado\", \"Aprobado\", \"Reprobado\", \"Aprobado\", \"Aprobado\", \"Reprobado\", \"Reprobado\", \"Reprobado\", \"Reprobado\", \"Reprobado\", \"Reprobado\", \"Reprobado\", \"Reprobado\", \"Reprobado\", \"Aprobado\", \"Reprobado\", \"Reprobado\", \"Aprobado\", \"Reprobado\", \"Aprobado\", \"Reprobado\", \"Reprobado\", \"Reprobado\", \"Aprobado\", \"Reprobado\", \"Reprobado\", \"Aprobado\", \"Reprobado\", \"Aprobado\", \"Reprobado\", \"Reprobado\", \"Aprobado\", \"Aprobado\", \"Reprobado\", \"Reprobado\", \"Reprobado\", \"Reprobado\", \"Aprobado\", \"Reprobado\", \"Reprobado\", \"Reprobado\", \"Aprobado\", \"Aprobado\", \"Aprobado\", \"Reprobado\", \"Aprobado\", \"Aprobado\", \"Reprobado\", \"Reprobado\", \"Aprobado\", \"Reprobado\", \"Aprobado\", \"Reprobado\", \"Aprobado\", \"Reprobado\", \"Reprobado\", \"Reprobado\", \"Aprobado\", \"Reprobado\", \"Aprobado\", \"Aprobado\", \"Reprobado\", \"Reprobado\", \"Reprobado\", \"Reprobado\", \"Reprobado\", \"Reprobado\", \"Reprobado\", \"Aprobado\", \"Reprobado\", \"Reprobado\", \"Reprobado\", \"Reprobado\", \"Reprobado\", \"Aprobado\", \"Reprobado\", \"Aprobado\", \"Aprobado\", \"Reprobado\", \"Aprobado\", \"Aprobado\", \"Aprobado\", \"Reprobado\", \"Aprobado\", \"Reprobado\", \"Reprobado\", \"Aprobado\", \"Aprobado\", \"Aprobado\", \"Reprobado\", \"Reprobado\", \"Aprobado\", \"Reprobado\", \"Aprobado\", \"Reprobado\", \"Reprobado\", \"Aprobado\", \"Aprobado\", \"Reprobado\", \"Aprobado\", \"Aprobado\", \"Aprobado\", \"Reprobado\", \"Aprobado\", \"Aprobado\", \"Aprobado\", \"Aprobado\", \"Aprobado\", \"Aprobado\", \"Reprobado\", \"Reprobado\", \"Aprobado\", \"Aprobado\", \"Aprobado\", \"Reprobado\", \"Aprobado\", \"Aprobado\", \"Reprobado\", \"Aprobado\", \"Aprobado\", \"Reprobado\", \"Reprobado\", \"Reprobado\", \"Aprobado\", \"Aprobado\", \"Aprobado\", \"Aprobado\", \"Aprobado\", \"Aprobado\", \"Reprobado\", \"Reprobado\", \"Reprobado\", \"Reprobado\", \"Reprobado\", \"Aprobado\", \"Aprobado\", \"Aprobado\", \"Reprobado\", \"Reprobado\", \"Reprobado\", \"Reprobado\", \"Reprobado\", \"Aprobado\", \"Aprobado\", \"Aprobado\", \"Aprobado\", \"Reprobado\", \"Reprobado\", \"Aprobado\", \"Reprobado\", \"Aprobado\", \"Reprobado\", \"Aprobado\", \"Reprobado\", \"Reprobado\", \"Reprobado\", \"Reprobado\", \"Aprobado\", \"Reprobado\", \"Reprobado\", \"Reprobado\", \"Reprobado\", \"Reprobado\", \"Aprobado\", \"Reprobado\", \"Reprobado\", \"Reprobado\", \"Aprobado\", \"Reprobado\", \"Aprobado\", \"Aprobado\", \"Reprobado\", \"Reprobado\", \"Reprobado\", \"Reprobado\", \"Reprobado\", \"Reprobado\", \"Reprobado\", \"Reprobado\", \"Reprobado\", \"Reprobado\", \"Reprobado\", \"Reprobado\", \"Reprobado\", \"Reprobado\", \"Reprobado\", \"Reprobado\", \"Reprobado\", \"Reprobado\", \"Reprobado\", \"Reprobado\", \"Reprobado\", \"Reprobado\", \"Reprobado\", \"Reprobado\", \"Reprobado\", \"Reprobado\", \"Reprobado\", \"Reprobado\", \"Reprobado\", \"Reprobado\", \"Reprobado\", \"Reprobado\", \"Reprobado\", \"Reprobado\", \"Reprobado\", \"Reprobado\", \"Reprobado\", \"Reprobado\", \"Reprobado\", \"Reprobado\", \"Reprobado\", \"Reprobado\", \"Reprobado\", \"Reprobado\", \"Reprobado\", \"Reprobado\", \"Reprobado\", \"Reprobado\", \"Reprobado\", \"Reprobado\", \"Reprobado\", \"Reprobado\", \"Reprobado\", \"Reprobado\", \"Reprobado\", \"Reprobado\", \"Reprobado\", \"Reprobado\", \"Reprobado\", \"Reprobado\", \"Reprobado\", \"Reprobado\", \"Reprobado\", \"Reprobado\", \"Reprobado\", \"Reprobado\", \"Reprobado\", \"Reprobado\", \"Reprobado\", \"Reprobado\", \"Reprobado\", \"Reprobado\", \"Reprobado\", \"Reprobado\", \"Reprobado\", \"Reprobado\", \"Reprobado\", \"Reprobado\", \"Reprobado\", \"Reprobado\", \"Reprobado\", \"Reprobado\", \"Reprobado\", \"Reprobado\", \"Reprobado\", \"Reprobado\", \"Reprobado\", \"Reprobado\", \"Reprobado\", \"Reprobado\", \"Reprobado\", \"Reprobado\", \"Reprobado\", \"Reprobado\", \"Reprobado\", \"Reprobado\", \"Reprobado\", \"Reprobado\", \"Reprobado\", \"Reprobado\", \"Reprobado\", \"Reprobado\", \"Reprobado\", \"Reprobado\", \"Reprobado\", \"Reprobado\", \"Reprobado\", \"Reprobado\", \"Reprobado\", \"Reprobado\", \"Reprobado\", \"Reprobado\", \"Reprobado\", \"Reprobado\", \"Reprobado\", \"Reprobado\", \"Reprobado\", \"Reprobado\", \"Reprobado\", \"Reprobado\", \"Reprobado\", \"Reprobado\", \"Reprobado\"], \"xaxis\": \"x2\", \"yaxis\": \"y2\"}],\n",
              "                        {\"barmode\": \"relative\", \"legend\": {\"tracegroupgap\": 0}, \"template\": {\"data\": {\"bar\": [{\"error_x\": {\"color\": \"#2a3f5f\"}, \"error_y\": {\"color\": \"#2a3f5f\"}, \"marker\": {\"line\": {\"color\": \"#E5ECF6\", \"width\": 0.5}}, \"type\": \"bar\"}], \"barpolar\": [{\"marker\": {\"line\": {\"color\": \"#E5ECF6\", \"width\": 0.5}}, \"type\": \"barpolar\"}], \"carpet\": [{\"aaxis\": {\"endlinecolor\": \"#2a3f5f\", \"gridcolor\": \"white\", \"linecolor\": \"white\", \"minorgridcolor\": \"white\", \"startlinecolor\": \"#2a3f5f\"}, \"baxis\": {\"endlinecolor\": \"#2a3f5f\", \"gridcolor\": \"white\", \"linecolor\": \"white\", \"minorgridcolor\": \"white\", \"startlinecolor\": \"#2a3f5f\"}, \"type\": \"carpet\"}], \"choropleth\": [{\"colorbar\": {\"outlinewidth\": 0, \"ticks\": \"\"}, \"type\": \"choropleth\"}], \"contour\": [{\"colorbar\": {\"outlinewidth\": 0, \"ticks\": \"\"}, \"colorscale\": [[0.0, \"#0d0887\"], [0.1111111111111111, \"#46039f\"], [0.2222222222222222, \"#7201a8\"], [0.3333333333333333, \"#9c179e\"], [0.4444444444444444, \"#bd3786\"], [0.5555555555555556, \"#d8576b\"], [0.6666666666666666, \"#ed7953\"], [0.7777777777777778, \"#fb9f3a\"], [0.8888888888888888, \"#fdca26\"], [1.0, \"#f0f921\"]], \"type\": \"contour\"}], \"contourcarpet\": [{\"colorbar\": {\"outlinewidth\": 0, \"ticks\": \"\"}, \"type\": \"contourcarpet\"}], \"heatmap\": [{\"colorbar\": {\"outlinewidth\": 0, \"ticks\": \"\"}, \"colorscale\": [[0.0, \"#0d0887\"], [0.1111111111111111, \"#46039f\"], [0.2222222222222222, \"#7201a8\"], [0.3333333333333333, \"#9c179e\"], [0.4444444444444444, \"#bd3786\"], [0.5555555555555556, \"#d8576b\"], [0.6666666666666666, \"#ed7953\"], [0.7777777777777778, \"#fb9f3a\"], [0.8888888888888888, \"#fdca26\"], [1.0, \"#f0f921\"]], \"type\": \"heatmap\"}], \"heatmapgl\": [{\"colorbar\": {\"outlinewidth\": 0, \"ticks\": \"\"}, \"colorscale\": [[0.0, \"#0d0887\"], [0.1111111111111111, \"#46039f\"], [0.2222222222222222, \"#7201a8\"], [0.3333333333333333, \"#9c179e\"], [0.4444444444444444, \"#bd3786\"], [0.5555555555555556, \"#d8576b\"], [0.6666666666666666, \"#ed7953\"], [0.7777777777777778, \"#fb9f3a\"], [0.8888888888888888, \"#fdca26\"], [1.0, \"#f0f921\"]], \"type\": \"heatmapgl\"}], \"histogram\": [{\"marker\": {\"colorbar\": {\"outlinewidth\": 0, \"ticks\": \"\"}}, \"type\": \"histogram\"}], \"histogram2d\": [{\"colorbar\": {\"outlinewidth\": 0, \"ticks\": \"\"}, \"colorscale\": [[0.0, \"#0d0887\"], [0.1111111111111111, \"#46039f\"], [0.2222222222222222, \"#7201a8\"], [0.3333333333333333, \"#9c179e\"], [0.4444444444444444, \"#bd3786\"], [0.5555555555555556, \"#d8576b\"], [0.6666666666666666, \"#ed7953\"], [0.7777777777777778, \"#fb9f3a\"], [0.8888888888888888, \"#fdca26\"], [1.0, \"#f0f921\"]], \"type\": \"histogram2d\"}], \"histogram2dcontour\": [{\"colorbar\": {\"outlinewidth\": 0, \"ticks\": \"\"}, \"colorscale\": [[0.0, \"#0d0887\"], [0.1111111111111111, \"#46039f\"], [0.2222222222222222, \"#7201a8\"], [0.3333333333333333, \"#9c179e\"], [0.4444444444444444, \"#bd3786\"], [0.5555555555555556, \"#d8576b\"], [0.6666666666666666, \"#ed7953\"], [0.7777777777777778, \"#fb9f3a\"], [0.8888888888888888, \"#fdca26\"], [1.0, \"#f0f921\"]], \"type\": \"histogram2dcontour\"}], \"mesh3d\": [{\"colorbar\": {\"outlinewidth\": 0, \"ticks\": \"\"}, \"type\": \"mesh3d\"}], \"parcoords\": [{\"line\": {\"colorbar\": {\"outlinewidth\": 0, \"ticks\": \"\"}}, \"type\": \"parcoords\"}], \"pie\": [{\"automargin\": true, \"type\": \"pie\"}], \"scatter\": [{\"marker\": {\"colorbar\": {\"outlinewidth\": 0, \"ticks\": \"\"}}, \"type\": \"scatter\"}], \"scatter3d\": [{\"line\": {\"colorbar\": {\"outlinewidth\": 0, \"ticks\": \"\"}}, \"marker\": {\"colorbar\": {\"outlinewidth\": 0, \"ticks\": \"\"}}, \"type\": \"scatter3d\"}], \"scattercarpet\": [{\"marker\": {\"colorbar\": {\"outlinewidth\": 0, \"ticks\": \"\"}}, \"type\": \"scattercarpet\"}], \"scattergeo\": [{\"marker\": {\"colorbar\": {\"outlinewidth\": 0, \"ticks\": \"\"}}, \"type\": \"scattergeo\"}], \"scattergl\": [{\"marker\": {\"colorbar\": {\"outlinewidth\": 0, \"ticks\": \"\"}}, \"type\": \"scattergl\"}], \"scattermapbox\": [{\"marker\": {\"colorbar\": {\"outlinewidth\": 0, \"ticks\": \"\"}}, \"type\": \"scattermapbox\"}], \"scatterpolar\": [{\"marker\": {\"colorbar\": {\"outlinewidth\": 0, \"ticks\": \"\"}}, \"type\": \"scatterpolar\"}], \"scatterpolargl\": [{\"marker\": {\"colorbar\": {\"outlinewidth\": 0, \"ticks\": \"\"}}, \"type\": \"scatterpolargl\"}], \"scatterternary\": [{\"marker\": {\"colorbar\": {\"outlinewidth\": 0, \"ticks\": \"\"}}, \"type\": \"scatterternary\"}], \"surface\": [{\"colorbar\": {\"outlinewidth\": 0, \"ticks\": \"\"}, \"colorscale\": [[0.0, \"#0d0887\"], [0.1111111111111111, \"#46039f\"], [0.2222222222222222, \"#7201a8\"], [0.3333333333333333, \"#9c179e\"], [0.4444444444444444, \"#bd3786\"], [0.5555555555555556, \"#d8576b\"], [0.6666666666666666, \"#ed7953\"], [0.7777777777777778, \"#fb9f3a\"], [0.8888888888888888, \"#fdca26\"], [1.0, \"#f0f921\"]], \"type\": \"surface\"}], \"table\": [{\"cells\": {\"fill\": {\"color\": \"#EBF0F8\"}, \"line\": {\"color\": \"white\"}}, \"header\": {\"fill\": {\"color\": \"#C8D4E3\"}, \"line\": {\"color\": \"white\"}}, \"type\": \"table\"}]}, \"layout\": {\"annotationdefaults\": {\"arrowcolor\": \"#2a3f5f\", \"arrowhead\": 0, \"arrowwidth\": 1}, \"coloraxis\": {\"colorbar\": {\"outlinewidth\": 0, \"ticks\": \"\"}}, \"colorscale\": {\"diverging\": [[0, \"#8e0152\"], [0.1, \"#c51b7d\"], [0.2, \"#de77ae\"], [0.3, \"#f1b6da\"], [0.4, \"#fde0ef\"], [0.5, \"#f7f7f7\"], [0.6, \"#e6f5d0\"], [0.7, \"#b8e186\"], [0.8, \"#7fbc41\"], [0.9, \"#4d9221\"], [1, \"#276419\"]], \"sequential\": [[0.0, \"#0d0887\"], [0.1111111111111111, \"#46039f\"], [0.2222222222222222, \"#7201a8\"], [0.3333333333333333, \"#9c179e\"], [0.4444444444444444, \"#bd3786\"], [0.5555555555555556, \"#d8576b\"], [0.6666666666666666, \"#ed7953\"], [0.7777777777777778, \"#fb9f3a\"], [0.8888888888888888, \"#fdca26\"], [1.0, \"#f0f921\"]], \"sequentialminus\": [[0.0, \"#0d0887\"], [0.1111111111111111, \"#46039f\"], [0.2222222222222222, \"#7201a8\"], [0.3333333333333333, \"#9c179e\"], [0.4444444444444444, \"#bd3786\"], [0.5555555555555556, \"#d8576b\"], [0.6666666666666666, \"#ed7953\"], [0.7777777777777778, \"#fb9f3a\"], [0.8888888888888888, \"#fdca26\"], [1.0, \"#f0f921\"]]}, \"colorway\": [\"#636efa\", \"#EF553B\", \"#00cc96\", \"#ab63fa\", \"#FFA15A\", \"#19d3f3\", \"#FF6692\", \"#B6E880\", \"#FF97FF\", \"#FECB52\"], \"font\": {\"color\": \"#2a3f5f\"}, \"geo\": {\"bgcolor\": \"white\", \"lakecolor\": \"white\", \"landcolor\": \"#E5ECF6\", \"showlakes\": true, \"showland\": true, \"subunitcolor\": \"white\"}, \"hoverlabel\": {\"align\": \"left\"}, \"hovermode\": \"closest\", \"mapbox\": {\"style\": \"light\"}, \"paper_bgcolor\": \"white\", \"plot_bgcolor\": \"#E5ECF6\", \"polar\": {\"angularaxis\": {\"gridcolor\": \"white\", \"linecolor\": \"white\", \"ticks\": \"\"}, \"bgcolor\": \"#E5ECF6\", \"radialaxis\": {\"gridcolor\": \"white\", \"linecolor\": \"white\", \"ticks\": \"\"}}, \"scene\": {\"xaxis\": {\"backgroundcolor\": \"#E5ECF6\", \"gridcolor\": \"white\", \"gridwidth\": 2, \"linecolor\": \"white\", \"showbackground\": true, \"ticks\": \"\", \"zerolinecolor\": \"white\"}, \"yaxis\": {\"backgroundcolor\": \"#E5ECF6\", \"gridcolor\": \"white\", \"gridwidth\": 2, \"linecolor\": \"white\", \"showbackground\": true, \"ticks\": \"\", \"zerolinecolor\": \"white\"}, \"zaxis\": {\"backgroundcolor\": \"#E5ECF6\", \"gridcolor\": \"white\", \"gridwidth\": 2, \"linecolor\": \"white\", \"showbackground\": true, \"ticks\": \"\", \"zerolinecolor\": \"white\"}}, \"shapedefaults\": {\"line\": {\"color\": \"#2a3f5f\"}}, \"ternary\": {\"aaxis\": {\"gridcolor\": \"white\", \"linecolor\": \"white\", \"ticks\": \"\"}, \"baxis\": {\"gridcolor\": \"white\", \"linecolor\": \"white\", \"ticks\": \"\"}, \"bgcolor\": \"#E5ECF6\", \"caxis\": {\"gridcolor\": \"white\", \"linecolor\": \"white\", \"ticks\": \"\"}}, \"title\": {\"x\": 0.05}, \"xaxis\": {\"automargin\": true, \"gridcolor\": \"white\", \"linecolor\": \"white\", \"ticks\": \"\", \"title\": {\"standoff\": 15}, \"zerolinecolor\": \"white\", \"zerolinewidth\": 2}, \"yaxis\": {\"automargin\": true, \"gridcolor\": \"white\", \"linecolor\": \"white\", \"ticks\": \"\", \"title\": {\"standoff\": 15}, \"zerolinecolor\": \"white\", \"zerolinewidth\": 2}}}, \"title\": {\"text\": \"Distribuci\\u00f3n variable objetivo\"}, \"xaxis\": {\"anchor\": \"y\", \"domain\": [0.0, 1.0], \"title\": {\"text\": \"Aprobacion\"}}, \"xaxis2\": {\"anchor\": \"y2\", \"domain\": [0.0, 1.0], \"matches\": \"x\", \"showgrid\": true, \"showticklabels\": false}, \"yaxis\": {\"anchor\": \"x\", \"domain\": [0.0, 0.8316], \"title\": {\"text\": \"count\"}}, \"yaxis2\": {\"anchor\": \"x2\", \"domain\": [0.8416, 1.0], \"matches\": \"y2\", \"showgrid\": false, \"showline\": false, \"showticklabels\": false, \"ticks\": \"\"}},\n",
              "                        {\"responsive\": true}\n",
              "                    ).then(function(){\n",
              "                            \n",
              "var gd = document.getElementById('c4eeb46a-7435-4a03-9712-82ad59467b58');\n",
              "var x = new MutationObserver(function (mutations, observer) {{\n",
              "        var display = window.getComputedStyle(gd).display;\n",
              "        if (!display || display === 'none') {{\n",
              "            console.log([gd, 'removed!']);\n",
              "            Plotly.purge(gd);\n",
              "            observer.disconnect();\n",
              "        }}\n",
              "}});\n",
              "\n",
              "// Listen for the removal of the full notebook cells\n",
              "var notebookContainer = gd.closest('#notebook-container');\n",
              "if (notebookContainer) {{\n",
              "    x.observe(notebookContainer, {childList: true});\n",
              "}}\n",
              "\n",
              "// Listen for the clearing of the current output cell\n",
              "var outputEl = gd.closest('.output');\n",
              "if (outputEl) {{\n",
              "    x.observe(outputEl, {childList: true});\n",
              "}}\n",
              "\n",
              "                        })\n",
              "                };\n",
              "                \n",
              "            </script>\n",
              "        </div>\n",
              "</body>\n",
              "</html>"
            ]
          },
          "metadata": {}
        }
      ]
    },
    {
      "cell_type": "markdown",
      "source": [
        "Se tiene más Aprobados que Reprobados, y es cercano al doble"
      ],
      "metadata": {
        "id": "mPHEfAwfiWkJ"
      }
    },
    {
      "cell_type": "markdown",
      "source": [
        "##**Conclusiones**"
      ],
      "metadata": {
        "id": "uBPCwQcyIF5A"
      }
    },
    {
      "cell_type": "markdown",
      "source": [
        "###**División del dataframe**\n",
        "Se realizaron 2 separaciones del dataset. La primera, equivalente a 1% del tamaño original de los datos, con el objetivo de reservar datos no vistos por el algoritmo a elaborar, y realizar una validación 'en producción' con datos completamente nuevos. \n",
        "\n",
        "La segunda división, basada en el 99% de los datos originales, se realizó para crear los nuevos dataset para entrenamiento (75%) y prueba (25%)."
      ],
      "metadata": {
        "id": "6HIcAaDNvmVt"
      }
    },
    {
      "cell_type": "code",
      "source": [
        "#Separacion de dataset en x/y\n",
        "y = datos['Aprobacion']\n",
        "x = datos.drop(columns='Aprobacion')\n",
        "\n",
        "#Importar funcion requerida\n",
        "from sklearn.model_selection import train_test_split\n",
        "\n",
        "#Dividir dataset en datos para el modelo y datos para la validacion posterior \n",
        "x_model, x_validation, y_model, y_validation = train_test_split(x, y, test_size = 0.01, random_state = 10)\n",
        "\n",
        "x_train, x_test, y_train, y_test = train_test_split(x_model, y_model, test_size = 0.25, random_state = 0)"
      ],
      "metadata": {
        "id": "BQft7AJIuxWx"
      },
      "execution_count": 13,
      "outputs": []
    },
    {
      "cell_type": "markdown",
      "source": [
        "Debido a lo comentado anteriormente, la estructura de los dataset divididos es la mostrada a continuación, en la que el set de validacion corresponde al 1% de la muestra original (60 observaciones) y los subgrupos de entrenamiento y prueba corresponden al 75% (4449 observaciones) y 25% (1483 observaciones) del 99% restante de la primera división, respectivamente:"
      ],
      "metadata": {
        "id": "dXSBUdIx9AT5"
      }
    },
    {
      "cell_type": "code",
      "source": [
        "x_validation.shape"
      ],
      "metadata": {
        "colab": {
          "base_uri": "https://localhost:8080/"
        },
        "id": "QZiaybqIPFQ9",
        "outputId": "d1f1f8f1-340a-41c1-8ef1-497af589cfb2"
      },
      "execution_count": 14,
      "outputs": [
        {
          "output_type": "execute_result",
          "data": {
            "text/plain": [
              "(60, 19)"
            ]
          },
          "metadata": {},
          "execution_count": 14
        }
      ]
    },
    {
      "cell_type": "code",
      "source": [
        "y_validation.shape"
      ],
      "metadata": {
        "colab": {
          "base_uri": "https://localhost:8080/"
        },
        "id": "0FUz6QEEPFG0",
        "outputId": "a4f4edb4-c2ce-4449-c8bb-14195cc5b6bb"
      },
      "execution_count": 15,
      "outputs": [
        {
          "output_type": "execute_result",
          "data": {
            "text/plain": [
              "(60,)"
            ]
          },
          "metadata": {},
          "execution_count": 15
        }
      ]
    },
    {
      "cell_type": "code",
      "source": [
        "x_train.shape"
      ],
      "metadata": {
        "colab": {
          "base_uri": "https://localhost:8080/"
        },
        "id": "W65O2OWG9DJ8",
        "outputId": "0c32b01d-f55d-44b7-bc72-97a6ab1c18d5"
      },
      "execution_count": 16,
      "outputs": [
        {
          "output_type": "execute_result",
          "data": {
            "text/plain": [
              "(4449, 19)"
            ]
          },
          "metadata": {},
          "execution_count": 16
        }
      ]
    },
    {
      "cell_type": "code",
      "source": [
        "x_test.shape"
      ],
      "metadata": {
        "colab": {
          "base_uri": "https://localhost:8080/"
        },
        "id": "OCrMnMBx9Lc8",
        "outputId": "821135fc-f754-48fb-daba-8f4e4871fa21"
      },
      "execution_count": 17,
      "outputs": [
        {
          "output_type": "execute_result",
          "data": {
            "text/plain": [
              "(1483, 19)"
            ]
          },
          "metadata": {},
          "execution_count": 17
        }
      ]
    },
    {
      "cell_type": "code",
      "source": [
        "y_train.shape"
      ],
      "metadata": {
        "colab": {
          "base_uri": "https://localhost:8080/"
        },
        "id": "6-5tgeZY9PGQ",
        "outputId": "952d57fb-efd0-416f-8b00-a80d2e3c595d"
      },
      "execution_count": 18,
      "outputs": [
        {
          "output_type": "execute_result",
          "data": {
            "text/plain": [
              "(4449,)"
            ]
          },
          "metadata": {},
          "execution_count": 18
        }
      ]
    },
    {
      "cell_type": "code",
      "source": [
        "y_test.shape"
      ],
      "metadata": {
        "colab": {
          "base_uri": "https://localhost:8080/"
        },
        "id": "WyB4WAvu9O-u",
        "outputId": "63312cfb-3323-4aba-82fc-a96c54cd5c0a"
      },
      "execution_count": 19,
      "outputs": [
        {
          "output_type": "execute_result",
          "data": {
            "text/plain": [
              "(1483,)"
            ]
          },
          "metadata": {},
          "execution_count": 19
        }
      ]
    },
    {
      "cell_type": "markdown",
      "source": [
        "###**Preprocesamiento**\n",
        "Se hace necesario realizar transformaciones al dataset dependiendo del tipo de dato de cada variable. Se implementa una estandarización con StandardScaler sobre las variables numéricas normales, normalización con MinMaxScaler sobre las variables numéricas no normales y One-Hot encoding de las variables categóricas."
      ],
      "metadata": {
        "id": "C_53c5Oh1-gp"
      }
    },
    {
      "cell_type": "code",
      "source": [
        "#Importar clases necesarias\n",
        "from sklearn.compose import ColumnTransformer\n",
        "from sklearn.preprocessing import StandardScaler\n",
        "from sklearn.preprocessing import MinMaxScaler\n",
        "from sklearn.preprocessing import OneHotEncoder"
      ],
      "metadata": {
        "id": "E9Ez2icdJAAs"
      },
      "execution_count": 20,
      "outputs": []
    },
    {
      "cell_type": "code",
      "source": [
        "#Separacion de columnas categoricas, normales y no normales\n",
        "cat_cols = x.select_dtypes(include=\"object\").columns.to_list()\n",
        "norm_cols = x.select_dtypes(include=\"int64\").columns.to_list()\n",
        "nonorm_cols = x.select_dtypes(include=\"float64\").columns.to_list()"
      ],
      "metadata": {
        "id": "wxJaUIuKXWFs"
      },
      "execution_count": 21,
      "outputs": []
    },
    {
      "cell_type": "code",
      "source": [
        "#Implementación de transformer\n",
        "Transformer = ColumnTransformer([('onehot', OneHotEncoder(handle_unknown=\"ignore\", sparse=False), cat_cols),\n",
        "                                 ('standardizer', StandardScaler(), norm_cols),\n",
        "                                 ('normalizer', MinMaxScaler(), nonorm_cols)],\n",
        "                                remainder = 'passthrough')"
      ],
      "metadata": {
        "id": "wq0FORnHdHH-"
      },
      "execution_count": 22,
      "outputs": []
    },
    {
      "cell_type": "code",
      "source": [
        "#Aplicando transformer a los datasets de train y test\n",
        "Transformer.fit(x_train)\n",
        "x_train_trans = Transformer.transform(x_train)\n",
        "x_test_trans = Transformer.transform(x_test)"
      ],
      "metadata": {
        "id": "8YHZ8VKLfdBS"
      },
      "execution_count": 23,
      "outputs": []
    },
    {
      "cell_type": "code",
      "source": [
        "#Se obtienen las etiquetas de columnas para crear el dataframe\n",
        "labels = Transformer.get_feature_names_out()"
      ],
      "metadata": {
        "id": "SIitG1yKhJx1"
      },
      "execution_count": 24,
      "outputs": []
    },
    {
      "cell_type": "code",
      "source": [
        "#Se conforman los dataframe una vez transformados\n",
        "x_train_trans = pd.DataFrame(x_train_trans,columns = labels)\n",
        "x_test_trans = pd.DataFrame(x_test_trans,columns = labels)"
      ],
      "metadata": {
        "id": "819VIFssicDB"
      },
      "execution_count": 25,
      "outputs": []
    },
    {
      "cell_type": "markdown",
      "source": [
        "###**Creación del modelo**\n",
        "Se genera una instancia del algoritmo de arbol de decisión, se crea el modelo y se configura utilizando los hiperpárametros por defecto. \n",
        "\n",
        "El ajuste del modelo se realiza tomando en cuenta la Aprobacion como variable objetivo, y el resto de variables procesadas con el Transformer, como vector de entrada.\n",
        "\n",
        "Después, se aplica el proceso de pruning y se comparan los resultados frente al modelo inicial.\n",
        "\n",
        "Adicional, se realizan modificaciones a hiperparámetros para verificar los cambios en el desempeño del modelo."
      ],
      "metadata": {
        "id": "hglr7DL2EFTp"
      }
    },
    {
      "cell_type": "code",
      "source": [
        "#Importar la clase del modelo\n",
        "from sklearn.tree import DecisionTreeClassifier\n",
        "\n",
        "#Instanciar el modelo y ajustar con los datos de entrenamiento\n",
        "modelo = DecisionTreeClassifier(criterion = \"entropy\", random_state = 100, max_depth=10)\n",
        "modelo.fit(x_train_trans, y_train)"
      ],
      "metadata": {
        "id": "OzPSmDLbFt8x",
        "outputId": "c9c96e21-cb4f-4550-c446-eb992021cf81",
        "colab": {
          "base_uri": "https://localhost:8080/"
        }
      },
      "execution_count": 36,
      "outputs": [
        {
          "output_type": "execute_result",
          "data": {
            "text/plain": [
              "DecisionTreeClassifier(criterion='entropy', max_depth=10, random_state=100)"
            ]
          },
          "metadata": {},
          "execution_count": 36
        }
      ]
    },
    {
      "cell_type": "code",
      "source": [
        "y_pred = modelo.predict(x_test_trans)"
      ],
      "metadata": {
        "id": "K8sJWay-G78-"
      },
      "execution_count": 37,
      "outputs": []
    },
    {
      "cell_type": "markdown",
      "source": [
        "###**Evaluación del modelo**\n",
        "Se genera una instancia del algoritmo de arbol de decisión, se crea el modelo y se configura utilizando los hiperpárametros por defecto. \n"
      ],
      "metadata": {
        "id": "NHHFmjUCF2GZ"
      }
    },
    {
      "cell_type": "code",
      "source": [
        "import sklearn.metrics as metrics"
      ],
      "metadata": {
        "id": "dCSj5_oYHdWP"
      },
      "execution_count": 30,
      "outputs": []
    },
    {
      "cell_type": "code",
      "source": [
        "metrics.plot_confusion_matrix(modelo,x_test_trans, y_test)"
      ],
      "metadata": {
        "id": "3kxMFglrHfDW",
        "outputId": "4bc51eb4-6c63-42ff-9c94-88dd22d5c6a0",
        "colab": {
          "base_uri": "https://localhost:8080/",
          "height": 386
        }
      },
      "execution_count": 38,
      "outputs": [
        {
          "output_type": "stream",
          "name": "stderr",
          "text": [
            "/usr/local/lib/python3.7/dist-packages/sklearn/utils/deprecation.py:87: FutureWarning:\n",
            "\n",
            "Function plot_confusion_matrix is deprecated; Function `plot_confusion_matrix` is deprecated in 1.0 and will be removed in 1.2. Use one of the class methods: ConfusionMatrixDisplay.from_predictions or ConfusionMatrixDisplay.from_estimator.\n",
            "\n"
          ]
        },
        {
          "output_type": "execute_result",
          "data": {
            "text/plain": [
              "<sklearn.metrics._plot.confusion_matrix.ConfusionMatrixDisplay at 0x7fe1e51efc50>"
            ]
          },
          "metadata": {},
          "execution_count": 38
        },
        {
          "output_type": "display_data",
          "data": {
            "image/png": "[encoded data removed]",
            "text/plain": [
              "<Figure size 432x288 with 2 Axes>"
            ]
          },
          "metadata": {
            "needs_background": "light"
          }
        }
      ]
    },
    {
      "cell_type": "code",
      "source": [
        "metrics.plot_roc_curve(modelo, x_test_trans, y_test)"
      ],
      "metadata": {
        "id": "sxpKQN0dIJHR",
        "outputId": "a8e01f8c-02fd-496b-ea72-13ae5ff03277",
        "colab": {
          "base_uri": "https://localhost:8080/",
          "height": 390
        }
      },
      "execution_count": 34,
      "outputs": [
        {
          "output_type": "stream",
          "name": "stderr",
          "text": [
            "/usr/local/lib/python3.7/dist-packages/sklearn/utils/deprecation.py:87: FutureWarning:\n",
            "\n",
            "Function plot_roc_curve is deprecated; Function `plot_roc_curve` is deprecated in 1.0 and will be removed in 1.2. Use one of the class methods: RocCurveDisplay.from_predictions or RocCurveDisplay.from_estimator.\n",
            "\n"
          ]
        },
        {
          "output_type": "execute_result",
          "data": {
            "text/plain": [
              "<sklearn.metrics._plot.roc_curve.RocCurveDisplay at 0x7fe1e56bf390>"
            ]
          },
          "metadata": {},
          "execution_count": 34
        },
        {
          "output_type": "display_data",
          "data": {
            "image/png": "[encoded data removed]",
            "text/plain": [
              "<Figure size 432x288 with 1 Axes>"
            ]
          },
          "metadata": {
            "needs_background": "light"
          }
        }
      ]
    },
    {
      "cell_type": "code",
      "source": [
        "x_validation_trans = Transformer.transform(x_validation)\n",
        "y_pred_val = modelo.predict(x_validation_trans)\n",
        "metrics.plot_confusion_matrix(modelo,x_validation_trans, y_validation)"
      ],
      "metadata": {
        "id": "9iGcTcErJHUS",
        "outputId": "9174e502-6bb2-44b3-ad1a-0379799c9980",
        "colab": {
          "base_uri": "https://localhost:8080/",
          "height": 525
        }
      },
      "execution_count": 39,
      "outputs": [
        {
          "output_type": "stream",
          "name": "stderr",
          "text": [
            "/usr/local/lib/python3.7/dist-packages/sklearn/base.py:446: UserWarning:\n",
            "\n",
            "X does not have valid feature names, but DecisionTreeClassifier was fitted with feature names\n",
            "\n",
            "/usr/local/lib/python3.7/dist-packages/sklearn/utils/deprecation.py:87: FutureWarning:\n",
            "\n",
            "Function plot_confusion_matrix is deprecated; Function `plot_confusion_matrix` is deprecated in 1.0 and will be removed in 1.2. Use one of the class methods: ConfusionMatrixDisplay.from_predictions or ConfusionMatrixDisplay.from_estimator.\n",
            "\n",
            "/usr/local/lib/python3.7/dist-packages/sklearn/base.py:446: UserWarning:\n",
            "\n",
            "X does not have valid feature names, but DecisionTreeClassifier was fitted with feature names\n",
            "\n"
          ]
        },
        {
          "output_type": "execute_result",
          "data": {
            "text/plain": [
              "<sklearn.metrics._plot.confusion_matrix.ConfusionMatrixDisplay at 0x7fe1e5187090>"
            ]
          },
          "metadata": {},
          "execution_count": 39
        },
        {
          "output_type": "display_data",
          "data": {
            "image/png": "[encoded data removed]",
            "text/plain": [
              "<Figure size 432x288 with 2 Axes>"
            ]
          },
          "metadata": {
            "needs_background": "light"
          }
        }
      ]
    },
    {
      "cell_type": "code",
      "source": [
        "from scipy import stats\n",
        "num_cols = datos.select_dtypes(include=[\"int64\",\"float64\"]).columns.to_list()\n",
        "\n",
        "for i in num_cols:\n",
        "  result = stats.anderson(datos[i])\n",
        "  print(i)\n",
        "  print('Statistic: %.3f' % result.statistic)\n",
        "  p = 0\n",
        "  for i in range(len(result.critical_values)):\n",
        "    sl, cv = result.significance_level[i], result.critical_values[i]\n",
        "    if result.statistic < result.critical_values[i]:\n",
        "      print('%.3f: %.3f, data looks normal (fail to reject H0)' % (sl, cv))\n",
        "    else:\n",
        "      print('%.3f: %.3f, data does not look normal (reject H0)' % (sl, cv))"
      ],
      "metadata": {
        "id": "ZeFYTTBjK_bV",
        "outputId": "683f5dd9-d8d9-43c7-eddf-a1d023cf6b16",
        "colab": {
          "base_uri": "https://localhost:8080/"
        }
      },
      "execution_count": 44,
      "outputs": [
        {
          "output_type": "stream",
          "name": "stdout",
          "text": [
            "Ingreso\n",
            "Statistic: 219.061\n",
            "15.000: 0.576, data does not look normal (reject H0)\n",
            "10.000: 0.656, data does not look normal (reject H0)\n",
            "5.000: 0.786, data does not look normal (reject H0)\n",
            "2.500: 0.917, data does not look normal (reject H0)\n",
            "1.000: 1.091, data does not look normal (reject H0)\n",
            "Edad\n",
            "Statistic: 325.587\n",
            "15.000: 0.576, data does not look normal (reject H0)\n",
            "10.000: 0.656, data does not look normal (reject H0)\n",
            "5.000: 0.786, data does not look normal (reject H0)\n",
            "2.500: 0.917, data does not look normal (reject H0)\n",
            "1.000: 1.091, data does not look normal (reject H0)\n",
            "Paes\n",
            "Statistic: 359.107\n",
            "15.000: 0.576, data does not look normal (reject H0)\n",
            "10.000: 0.656, data does not look normal (reject H0)\n",
            "5.000: 0.786, data does not look normal (reject H0)\n",
            "2.500: 0.917, data does not look normal (reject H0)\n",
            "1.000: 1.091, data does not look normal (reject H0)\n",
            "CUM\n",
            "Statistic: 502.345\n",
            "15.000: 0.576, data does not look normal (reject H0)\n",
            "10.000: 0.656, data does not look normal (reject H0)\n",
            "5.000: 0.786, data does not look normal (reject H0)\n",
            "2.500: 0.917, data does not look normal (reject H0)\n",
            "1.000: 1.091, data does not look normal (reject H0)\n",
            "Avance\n",
            "Statistic: 251.710\n",
            "15.000: 0.576, data does not look normal (reject H0)\n",
            "10.000: 0.656, data does not look normal (reject H0)\n",
            "5.000: 0.786, data does not look normal (reject H0)\n",
            "2.500: 0.917, data does not look normal (reject H0)\n",
            "1.000: 1.091, data does not look normal (reject H0)\n",
            "DAT_VR\n",
            "Statistic: 170.554\n",
            "15.000: 0.576, data does not look normal (reject H0)\n",
            "10.000: 0.656, data does not look normal (reject H0)\n",
            "5.000: 0.786, data does not look normal (reject H0)\n",
            "2.500: 0.917, data does not look normal (reject H0)\n",
            "1.000: 1.091, data does not look normal (reject H0)\n",
            "DAT_SR\n",
            "Statistic: 228.661\n",
            "15.000: 0.576, data does not look normal (reject H0)\n",
            "10.000: 0.656, data does not look normal (reject H0)\n",
            "5.000: 0.786, data does not look normal (reject H0)\n",
            "2.500: 0.917, data does not look normal (reject H0)\n",
            "1.000: 1.091, data does not look normal (reject H0)\n",
            "DAT_AR\n",
            "Statistic: 101.775\n",
            "15.000: 0.576, data does not look normal (reject H0)\n",
            "10.000: 0.656, data does not look normal (reject H0)\n",
            "5.000: 0.786, data does not look normal (reject H0)\n",
            "2.500: 0.917, data does not look normal (reject H0)\n",
            "1.000: 1.091, data does not look normal (reject H0)\n",
            "DAT_NA\n",
            "Statistic: 124.573\n",
            "15.000: 0.576, data does not look normal (reject H0)\n",
            "10.000: 0.656, data does not look normal (reject H0)\n",
            "5.000: 0.786, data does not look normal (reject H0)\n",
            "2.500: 0.917, data does not look normal (reject H0)\n",
            "1.000: 1.091, data does not look normal (reject H0)\n",
            "DAT_MR\n",
            "Statistic: 84.010\n",
            "15.000: 0.576, data does not look normal (reject H0)\n",
            "10.000: 0.656, data does not look normal (reject H0)\n",
            "5.000: 0.786, data does not look normal (reject H0)\n",
            "2.500: 0.917, data does not look normal (reject H0)\n",
            "1.000: 1.091, data does not look normal (reject H0)\n",
            "DAT_CSA\n",
            "Statistic: 226.244\n",
            "15.000: 0.576, data does not look normal (reject H0)\n",
            "10.000: 0.656, data does not look normal (reject H0)\n",
            "5.000: 0.786, data does not look normal (reject H0)\n",
            "2.500: 0.917, data does not look normal (reject H0)\n",
            "1.000: 1.091, data does not look normal (reject H0)\n",
            "Hábitos\n",
            "Statistic: 88.350\n",
            "15.000: 0.576, data does not look normal (reject H0)\n",
            "10.000: 0.656, data does not look normal (reject H0)\n",
            "5.000: 0.786, data does not look normal (reject H0)\n",
            "2.500: 0.917, data does not look normal (reject H0)\n",
            "1.000: 1.091, data does not look normal (reject H0)\n"
          ]
        }
      ]
    }
  ],
  "metadata": {
    "colab": {
      "name": "Copia de scratchpad",
      "provenance": [],
      "include_colab_link": true
    },
    "kernelspec": {
      "display_name": "Python 3",
      "name": "python3"
    }
  },
  "nbformat": 4,
  "nbformat_minor": 0
}